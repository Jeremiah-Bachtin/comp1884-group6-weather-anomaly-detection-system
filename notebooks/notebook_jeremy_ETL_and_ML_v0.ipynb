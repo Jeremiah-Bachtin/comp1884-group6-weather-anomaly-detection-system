{
 "cells": [
  {
   "metadata": {},
   "cell_type": "markdown",
   "source": [
    "## Isolation Forest + LSTM-AE Training Scaffold for COMP1884\n",
    "\n",
    "### ✅ Notebook: Model Training Pipeline (IF + LSTM-AE)\n",
    "### Author: Jeremy / Group 6"
   ],
   "id": "8287aed54f61cdc6"
  },
  {
   "metadata": {},
   "cell_type": "markdown",
   "source": "### 📦 STEP 0: Setup & Imports",
   "id": "55f3a0372808e428"
  },
  {
   "metadata": {
    "ExecuteTime": {
     "end_time": "2025-05-18T13:02:44.547447Z",
     "start_time": "2025-05-18T13:02:35.721354Z"
    }
   },
   "cell_type": "code",
   "source": [
    "import os\n",
    "import pandas as pd\n",
    "import numpy as np\n",
    "from sklearn.ensemble import IsolationForest\n",
    "import joblib\n",
    "from tensorflow.keras.models import Sequential\n",
    "from tensorflow.keras.layers import LSTM, RepeatVector, TimeDistributed, Dense\n",
    "from tensorflow.keras.callbacks import EarlyStopping\n",
    "from tensorflow.keras import Input"
   ],
   "id": "f4e7cc83ccaee318",
   "outputs": [],
   "execution_count": 1
  },
  {
   "metadata": {
    "ExecuteTime": {
     "end_time": "2025-05-06T10:27:38.149090Z",
     "start_time": "2025-05-06T10:27:38.141879Z"
    }
   },
   "cell_type": "code",
   "source": [
    "# 📂 Set paths\n",
    "os.chdir('C:/Users/jerry/Dropbox/JEREMIAH/MY_STUDIES/DATA_SCIENCE/University_of_Greenwich/Year2/COMP1884 - Group Project/CODE/COMP1884-Group6-Codebase-Complete')\n",
    "RAW_DATA_PATH = \"data/processed/historical_merged/historical_IFS_merged_201702_to_202504.csv\"\n",
    "MODEL_OUTPUT_DIR = \"outputs/modelling/models/\"\n",
    "\n",
    "# ✅ Ensure output directories exist\n",
    "os.makedirs(MODEL_OUTPUT_DIR, exist_ok=True)"
   ],
   "id": "60624a242a793999",
   "outputs": [],
   "execution_count": 29
  },
  {
   "metadata": {},
   "cell_type": "markdown",
   "source": "### 🧹 STEP 1: Load and Inspect Data",
   "id": "1942cac4ae67e5b3"
  },
  {
   "metadata": {
    "ExecuteTime": {
     "end_time": "2025-05-06T10:16:06.261147Z",
     "start_time": "2025-05-06T10:16:06.159474Z"
    }
   },
   "cell_type": "code",
   "source": [
    "print(\"Loading historical data...\")\n",
    "df = pd.read_csv(RAW_DATA_PATH, parse_dates=['date'])\n",
    "df.set_index('date', inplace=True)\n",
    "df = df[['temperature_2m', 'surface_pressure', 'precipitation', 'wind_speed_10m']]"
   ],
   "id": "c8F410tOK0Hv",
   "outputs": [
    {
     "name": "stdout",
     "output_type": "stream",
     "text": [
      "Loading historical data...\n"
     ]
    }
   ],
   "execution_count": 5
  },
  {
   "metadata": {
    "ExecuteTime": {
     "end_time": "2025-05-06T10:16:06.963139Z",
     "start_time": "2025-05-06T10:16:06.945561Z"
    }
   },
   "cell_type": "code",
   "source": "df.head()",
   "id": "CVKtEVfy8yeK",
   "outputs": [
    {
     "data": {
      "text/plain": [
       "                     temperature_2m  surface_pressure  precipitation  \\\n",
       "date                                                                   \n",
       "2017-02-01 00:00:00             9.6            1008.2            0.0   \n",
       "2017-02-01 01:00:00             9.6            1007.4            0.0   \n",
       "2017-02-01 02:00:00             9.9            1006.8            0.6   \n",
       "2017-02-01 03:00:00            10.0            1006.5            0.3   \n",
       "2017-02-01 04:00:00            10.2            1006.2            0.3   \n",
       "\n",
       "                     wind_speed_10m  \n",
       "date                                 \n",
       "2017-02-01 00:00:00            14.6  \n",
       "2017-02-01 01:00:00            14.6  \n",
       "2017-02-01 02:00:00            15.1  \n",
       "2017-02-01 03:00:00            15.0  \n",
       "2017-02-01 04:00:00            15.5  "
      ],
      "text/html": [
       "<div>\n",
       "<style scoped>\n",
       "    .dataframe tbody tr th:only-of-type {\n",
       "        vertical-align: middle;\n",
       "    }\n",
       "\n",
       "    .dataframe tbody tr th {\n",
       "        vertical-align: top;\n",
       "    }\n",
       "\n",
       "    .dataframe thead th {\n",
       "        text-align: right;\n",
       "    }\n",
       "</style>\n",
       "<table border=\"1\" class=\"dataframe\">\n",
       "  <thead>\n",
       "    <tr style=\"text-align: right;\">\n",
       "      <th></th>\n",
       "      <th>temperature_2m</th>\n",
       "      <th>surface_pressure</th>\n",
       "      <th>precipitation</th>\n",
       "      <th>wind_speed_10m</th>\n",
       "    </tr>\n",
       "    <tr>\n",
       "      <th>date</th>\n",
       "      <th></th>\n",
       "      <th></th>\n",
       "      <th></th>\n",
       "      <th></th>\n",
       "    </tr>\n",
       "  </thead>\n",
       "  <tbody>\n",
       "    <tr>\n",
       "      <th>2017-02-01 00:00:00</th>\n",
       "      <td>9.6</td>\n",
       "      <td>1008.2</td>\n",
       "      <td>0.0</td>\n",
       "      <td>14.6</td>\n",
       "    </tr>\n",
       "    <tr>\n",
       "      <th>2017-02-01 01:00:00</th>\n",
       "      <td>9.6</td>\n",
       "      <td>1007.4</td>\n",
       "      <td>0.0</td>\n",
       "      <td>14.6</td>\n",
       "    </tr>\n",
       "    <tr>\n",
       "      <th>2017-02-01 02:00:00</th>\n",
       "      <td>9.9</td>\n",
       "      <td>1006.8</td>\n",
       "      <td>0.6</td>\n",
       "      <td>15.1</td>\n",
       "    </tr>\n",
       "    <tr>\n",
       "      <th>2017-02-01 03:00:00</th>\n",
       "      <td>10.0</td>\n",
       "      <td>1006.5</td>\n",
       "      <td>0.3</td>\n",
       "      <td>15.0</td>\n",
       "    </tr>\n",
       "    <tr>\n",
       "      <th>2017-02-01 04:00:00</th>\n",
       "      <td>10.2</td>\n",
       "      <td>1006.2</td>\n",
       "      <td>0.3</td>\n",
       "      <td>15.5</td>\n",
       "    </tr>\n",
       "  </tbody>\n",
       "</table>\n",
       "</div>"
      ]
     },
     "execution_count": 6,
     "metadata": {},
     "output_type": "execute_result"
    }
   ],
   "execution_count": 6
  },
  {
   "metadata": {
    "ExecuteTime": {
     "end_time": "2025-05-06T10:16:07.603415Z",
     "start_time": "2025-05-06T10:16:07.588415Z"
    }
   },
   "cell_type": "code",
   "source": "df.info()",
   "id": "88985bf6ec1632d",
   "outputs": [
    {
     "name": "stdout",
     "output_type": "stream",
     "text": [
      "<class 'pandas.core.frame.DataFrame'>\n",
      "DatetimeIndex: 72264 entries, 2017-02-01 00:00:00 to 2025-04-30 23:00:00\n",
      "Data columns (total 4 columns):\n",
      " #   Column            Non-Null Count  Dtype  \n",
      "---  ------            --------------  -----  \n",
      " 0   temperature_2m    72264 non-null  float64\n",
      " 1   surface_pressure  72264 non-null  float64\n",
      " 2   precipitation     72264 non-null  float64\n",
      " 3   wind_speed_10m    72264 non-null  float64\n",
      "dtypes: float64(4)\n",
      "memory usage: 2.8 MB\n"
     ]
    }
   ],
   "execution_count": 7
  },
  {
   "metadata": {},
   "cell_type": "markdown",
   "source": "### 📊 STEP 2: Compute Rolling Statistics (60-day)",
   "id": "48cccadce9090e26"
  },
  {
   "metadata": {
    "ExecuteTime": {
     "end_time": "2025-05-06T10:16:13.879506Z",
     "start_time": "2025-05-06T10:16:13.804333Z"
    }
   },
   "cell_type": "code",
   "source": [
    "ROLLING_WINDOW = 1440  # 60 days * 24 hours\n",
    "print(\"Computing rolling stats...\")\n",
    "rolling_mean = df.rolling(window=ROLLING_WINDOW, min_periods=ROLLING_WINDOW).mean()\n",
    "rolling_std = df.rolling(window=ROLLING_WINDOW, min_periods=ROLLING_WINDOW).std()"
   ],
   "id": "45e218e362cd89ec",
   "outputs": [
    {
     "name": "stdout",
     "output_type": "stream",
     "text": [
      "Computing rolling stats...\n"
     ]
    }
   ],
   "execution_count": 8
  },
  {
   "metadata": {
    "ExecuteTime": {
     "end_time": "2025-05-06T10:16:15.762386Z",
     "start_time": "2025-05-06T10:16:15.753533Z"
    }
   },
   "cell_type": "code",
   "source": "rolling_std",
   "id": "214e2c312bdf2fba",
   "outputs": [
    {
     "data": {
      "text/plain": [
       "                     temperature_2m  surface_pressure  precipitation  \\\n",
       "date                                                                   \n",
       "2017-02-01 00:00:00             NaN               NaN            NaN   \n",
       "2017-02-01 01:00:00             NaN               NaN            NaN   \n",
       "2017-02-01 02:00:00             NaN               NaN            NaN   \n",
       "2017-02-01 03:00:00             NaN               NaN            NaN   \n",
       "2017-02-01 04:00:00             NaN               NaN            NaN   \n",
       "...                             ...               ...            ...   \n",
       "2025-04-30 19:00:00        4.939712          9.505976       0.168198   \n",
       "2025-04-30 20:00:00        4.949358          9.493910       0.168198   \n",
       "2025-04-30 21:00:00        4.954166          9.481387       0.168198   \n",
       "2025-04-30 22:00:00        4.956146          9.468470       0.168198   \n",
       "2025-04-30 23:00:00        4.956333          9.454954       0.168198   \n",
       "\n",
       "                     wind_speed_10m  \n",
       "date                                 \n",
       "2017-02-01 00:00:00             NaN  \n",
       "2017-02-01 01:00:00             NaN  \n",
       "2017-02-01 02:00:00             NaN  \n",
       "2017-02-01 03:00:00             NaN  \n",
       "2017-02-01 04:00:00             NaN  \n",
       "...                             ...  \n",
       "2025-04-30 19:00:00        5.100376  \n",
       "2025-04-30 20:00:00        5.099213  \n",
       "2025-04-30 21:00:00        5.097849  \n",
       "2025-04-30 22:00:00        5.095544  \n",
       "2025-04-30 23:00:00        5.091736  \n",
       "\n",
       "[72264 rows x 4 columns]"
      ],
      "text/html": [
       "<div>\n",
       "<style scoped>\n",
       "    .dataframe tbody tr th:only-of-type {\n",
       "        vertical-align: middle;\n",
       "    }\n",
       "\n",
       "    .dataframe tbody tr th {\n",
       "        vertical-align: top;\n",
       "    }\n",
       "\n",
       "    .dataframe thead th {\n",
       "        text-align: right;\n",
       "    }\n",
       "</style>\n",
       "<table border=\"1\" class=\"dataframe\">\n",
       "  <thead>\n",
       "    <tr style=\"text-align: right;\">\n",
       "      <th></th>\n",
       "      <th>temperature_2m</th>\n",
       "      <th>surface_pressure</th>\n",
       "      <th>precipitation</th>\n",
       "      <th>wind_speed_10m</th>\n",
       "    </tr>\n",
       "    <tr>\n",
       "      <th>date</th>\n",
       "      <th></th>\n",
       "      <th></th>\n",
       "      <th></th>\n",
       "      <th></th>\n",
       "    </tr>\n",
       "  </thead>\n",
       "  <tbody>\n",
       "    <tr>\n",
       "      <th>2017-02-01 00:00:00</th>\n",
       "      <td>NaN</td>\n",
       "      <td>NaN</td>\n",
       "      <td>NaN</td>\n",
       "      <td>NaN</td>\n",
       "    </tr>\n",
       "    <tr>\n",
       "      <th>2017-02-01 01:00:00</th>\n",
       "      <td>NaN</td>\n",
       "      <td>NaN</td>\n",
       "      <td>NaN</td>\n",
       "      <td>NaN</td>\n",
       "    </tr>\n",
       "    <tr>\n",
       "      <th>2017-02-01 02:00:00</th>\n",
       "      <td>NaN</td>\n",
       "      <td>NaN</td>\n",
       "      <td>NaN</td>\n",
       "      <td>NaN</td>\n",
       "    </tr>\n",
       "    <tr>\n",
       "      <th>2017-02-01 03:00:00</th>\n",
       "      <td>NaN</td>\n",
       "      <td>NaN</td>\n",
       "      <td>NaN</td>\n",
       "      <td>NaN</td>\n",
       "    </tr>\n",
       "    <tr>\n",
       "      <th>2017-02-01 04:00:00</th>\n",
       "      <td>NaN</td>\n",
       "      <td>NaN</td>\n",
       "      <td>NaN</td>\n",
       "      <td>NaN</td>\n",
       "    </tr>\n",
       "    <tr>\n",
       "      <th>...</th>\n",
       "      <td>...</td>\n",
       "      <td>...</td>\n",
       "      <td>...</td>\n",
       "      <td>...</td>\n",
       "    </tr>\n",
       "    <tr>\n",
       "      <th>2025-04-30 19:00:00</th>\n",
       "      <td>4.939712</td>\n",
       "      <td>9.505976</td>\n",
       "      <td>0.168198</td>\n",
       "      <td>5.100376</td>\n",
       "    </tr>\n",
       "    <tr>\n",
       "      <th>2025-04-30 20:00:00</th>\n",
       "      <td>4.949358</td>\n",
       "      <td>9.493910</td>\n",
       "      <td>0.168198</td>\n",
       "      <td>5.099213</td>\n",
       "    </tr>\n",
       "    <tr>\n",
       "      <th>2025-04-30 21:00:00</th>\n",
       "      <td>4.954166</td>\n",
       "      <td>9.481387</td>\n",
       "      <td>0.168198</td>\n",
       "      <td>5.097849</td>\n",
       "    </tr>\n",
       "    <tr>\n",
       "      <th>2025-04-30 22:00:00</th>\n",
       "      <td>4.956146</td>\n",
       "      <td>9.468470</td>\n",
       "      <td>0.168198</td>\n",
       "      <td>5.095544</td>\n",
       "    </tr>\n",
       "    <tr>\n",
       "      <th>2025-04-30 23:00:00</th>\n",
       "      <td>4.956333</td>\n",
       "      <td>9.454954</td>\n",
       "      <td>0.168198</td>\n",
       "      <td>5.091736</td>\n",
       "    </tr>\n",
       "  </tbody>\n",
       "</table>\n",
       "<p>72264 rows × 4 columns</p>\n",
       "</div>"
      ]
     },
     "execution_count": 9,
     "metadata": {},
     "output_type": "execute_result"
    }
   ],
   "execution_count": 9
  },
  {
   "metadata": {
    "ExecuteTime": {
     "end_time": "2025-05-06T10:16:19.328820Z",
     "start_time": "2025-05-06T10:16:18.901611Z"
    }
   },
   "cell_type": "code",
   "source": [
    "# Robust alternative\n",
    "rolling_median = df.rolling(window=ROLLING_WINDOW, min_periods=ROLLING_WINDOW).median()\n",
    "rolling_iqr = df.rolling(window=ROLLING_WINDOW, min_periods=ROLLING_WINDOW).quantile(0.75) - \\\n",
    "               df.rolling(window=ROLLING_WINDOW, min_periods=ROLLING_WINDOW).quantile(0.25)"
   ],
   "id": "4ed114f782586296",
   "outputs": [],
   "execution_count": 10
  },
  {
   "metadata": {
    "ExecuteTime": {
     "end_time": "2025-05-06T10:16:20.968480Z",
     "start_time": "2025-05-06T10:16:20.960089Z"
    }
   },
   "cell_type": "code",
   "source": "rolling_median",
   "id": "4f04b424fb4ab8bc",
   "outputs": [
    {
     "data": {
      "text/plain": [
       "                     temperature_2m  surface_pressure  precipitation  \\\n",
       "date                                                                   \n",
       "2017-02-01 00:00:00             NaN               NaN            NaN   \n",
       "2017-02-01 01:00:00             NaN               NaN            NaN   \n",
       "2017-02-01 02:00:00             NaN               NaN            NaN   \n",
       "2017-02-01 03:00:00             NaN               NaN            NaN   \n",
       "2017-02-01 04:00:00             NaN               NaN            NaN   \n",
       "...                             ...               ...            ...   \n",
       "2025-04-30 19:00:00            9.70            1016.5            0.0   \n",
       "2025-04-30 20:00:00            9.70            1016.5            0.0   \n",
       "2025-04-30 21:00:00            9.70            1016.5            0.0   \n",
       "2025-04-30 22:00:00            9.70            1016.5            0.0   \n",
       "2025-04-30 23:00:00            9.75            1016.5            0.0   \n",
       "\n",
       "                     wind_speed_10m  \n",
       "date                                 \n",
       "2017-02-01 00:00:00             NaN  \n",
       "2017-02-01 01:00:00             NaN  \n",
       "2017-02-01 02:00:00             NaN  \n",
       "2017-02-01 03:00:00             NaN  \n",
       "2017-02-01 04:00:00             NaN  \n",
       "...                             ...  \n",
       "2025-04-30 19:00:00             9.5  \n",
       "2025-04-30 20:00:00             9.5  \n",
       "2025-04-30 21:00:00             9.5  \n",
       "2025-04-30 22:00:00             9.5  \n",
       "2025-04-30 23:00:00             9.5  \n",
       "\n",
       "[72264 rows x 4 columns]"
      ],
      "text/html": [
       "<div>\n",
       "<style scoped>\n",
       "    .dataframe tbody tr th:only-of-type {\n",
       "        vertical-align: middle;\n",
       "    }\n",
       "\n",
       "    .dataframe tbody tr th {\n",
       "        vertical-align: top;\n",
       "    }\n",
       "\n",
       "    .dataframe thead th {\n",
       "        text-align: right;\n",
       "    }\n",
       "</style>\n",
       "<table border=\"1\" class=\"dataframe\">\n",
       "  <thead>\n",
       "    <tr style=\"text-align: right;\">\n",
       "      <th></th>\n",
       "      <th>temperature_2m</th>\n",
       "      <th>surface_pressure</th>\n",
       "      <th>precipitation</th>\n",
       "      <th>wind_speed_10m</th>\n",
       "    </tr>\n",
       "    <tr>\n",
       "      <th>date</th>\n",
       "      <th></th>\n",
       "      <th></th>\n",
       "      <th></th>\n",
       "      <th></th>\n",
       "    </tr>\n",
       "  </thead>\n",
       "  <tbody>\n",
       "    <tr>\n",
       "      <th>2017-02-01 00:00:00</th>\n",
       "      <td>NaN</td>\n",
       "      <td>NaN</td>\n",
       "      <td>NaN</td>\n",
       "      <td>NaN</td>\n",
       "    </tr>\n",
       "    <tr>\n",
       "      <th>2017-02-01 01:00:00</th>\n",
       "      <td>NaN</td>\n",
       "      <td>NaN</td>\n",
       "      <td>NaN</td>\n",
       "      <td>NaN</td>\n",
       "    </tr>\n",
       "    <tr>\n",
       "      <th>2017-02-01 02:00:00</th>\n",
       "      <td>NaN</td>\n",
       "      <td>NaN</td>\n",
       "      <td>NaN</td>\n",
       "      <td>NaN</td>\n",
       "    </tr>\n",
       "    <tr>\n",
       "      <th>2017-02-01 03:00:00</th>\n",
       "      <td>NaN</td>\n",
       "      <td>NaN</td>\n",
       "      <td>NaN</td>\n",
       "      <td>NaN</td>\n",
       "    </tr>\n",
       "    <tr>\n",
       "      <th>2017-02-01 04:00:00</th>\n",
       "      <td>NaN</td>\n",
       "      <td>NaN</td>\n",
       "      <td>NaN</td>\n",
       "      <td>NaN</td>\n",
       "    </tr>\n",
       "    <tr>\n",
       "      <th>...</th>\n",
       "      <td>...</td>\n",
       "      <td>...</td>\n",
       "      <td>...</td>\n",
       "      <td>...</td>\n",
       "    </tr>\n",
       "    <tr>\n",
       "      <th>2025-04-30 19:00:00</th>\n",
       "      <td>9.70</td>\n",
       "      <td>1016.5</td>\n",
       "      <td>0.0</td>\n",
       "      <td>9.5</td>\n",
       "    </tr>\n",
       "    <tr>\n",
       "      <th>2025-04-30 20:00:00</th>\n",
       "      <td>9.70</td>\n",
       "      <td>1016.5</td>\n",
       "      <td>0.0</td>\n",
       "      <td>9.5</td>\n",
       "    </tr>\n",
       "    <tr>\n",
       "      <th>2025-04-30 21:00:00</th>\n",
       "      <td>9.70</td>\n",
       "      <td>1016.5</td>\n",
       "      <td>0.0</td>\n",
       "      <td>9.5</td>\n",
       "    </tr>\n",
       "    <tr>\n",
       "      <th>2025-04-30 22:00:00</th>\n",
       "      <td>9.70</td>\n",
       "      <td>1016.5</td>\n",
       "      <td>0.0</td>\n",
       "      <td>9.5</td>\n",
       "    </tr>\n",
       "    <tr>\n",
       "      <th>2025-04-30 23:00:00</th>\n",
       "      <td>9.75</td>\n",
       "      <td>1016.5</td>\n",
       "      <td>0.0</td>\n",
       "      <td>9.5</td>\n",
       "    </tr>\n",
       "  </tbody>\n",
       "</table>\n",
       "<p>72264 rows × 4 columns</p>\n",
       "</div>"
      ]
     },
     "execution_count": 11,
     "metadata": {},
     "output_type": "execute_result"
    }
   ],
   "execution_count": 11
  },
  {
   "metadata": {
    "ExecuteTime": {
     "end_time": "2025-05-06T10:16:24.291216Z",
     "start_time": "2025-05-06T10:16:24.284216Z"
    }
   },
   "cell_type": "code",
   "source": [
    "# Drop NaNs from initial window burn-in\n",
    "df = df.iloc[ROLLING_WINDOW:]\n",
    "rolling_mean = rolling_mean.iloc[ROLLING_WINDOW:]\n",
    "rolling_std = rolling_std.iloc[ROLLING_WINDOW:]\n",
    "rolling_median = rolling_median.iloc[ROLLING_WINDOW:]\n",
    "rolling_iqr = rolling_iqr.iloc[ROLLING_WINDOW:]\n",
    "rolling_iqr = rolling_iqr.replace(0, 1e-6)"
   ],
   "id": "b935fd3f1768fb5d",
   "outputs": [],
   "execution_count": 12
  },
  {
   "metadata": {
    "ExecuteTime": {
     "end_time": "2025-05-06T10:16:25.515860Z",
     "start_time": "2025-05-06T10:16:25.501347Z"
    }
   },
   "cell_type": "code",
   "source": "df",
   "id": "b85061afa8d1ec1",
   "outputs": [
    {
     "data": {
      "text/plain": [
       "                     temperature_2m  surface_pressure  precipitation  \\\n",
       "date                                                                   \n",
       "2017-04-02 00:00:00             6.0            1011.1            0.0   \n",
       "2017-04-02 01:00:00             6.9            1011.8            0.0   \n",
       "2017-04-02 02:00:00             7.2            1012.4            0.0   \n",
       "2017-04-02 03:00:00             7.7            1013.0            0.0   \n",
       "2017-04-02 04:00:00             6.9            1013.5            0.0   \n",
       "...                             ...               ...            ...   \n",
       "2025-04-30 19:00:00            25.1            1016.6            0.0   \n",
       "2025-04-30 20:00:00            23.0            1016.8            0.0   \n",
       "2025-04-30 21:00:00            20.7            1017.3            0.0   \n",
       "2025-04-30 22:00:00            19.2            1017.5            0.0   \n",
       "2025-04-30 23:00:00            18.0            1017.5            0.0   \n",
       "\n",
       "                     wind_speed_10m  \n",
       "date                                 \n",
       "2017-04-02 00:00:00             7.2  \n",
       "2017-04-02 01:00:00             7.7  \n",
       "2017-04-02 02:00:00            10.9  \n",
       "2017-04-02 03:00:00            10.8  \n",
       "2017-04-02 04:00:00             8.6  \n",
       "...                             ...  \n",
       "2025-04-30 19:00:00            10.1  \n",
       "2025-04-30 20:00:00            11.9  \n",
       "2025-04-30 21:00:00            11.9  \n",
       "2025-04-30 22:00:00             9.0  \n",
       "2025-04-30 23:00:00             7.0  \n",
       "\n",
       "[70824 rows x 4 columns]"
      ],
      "text/html": [
       "<div>\n",
       "<style scoped>\n",
       "    .dataframe tbody tr th:only-of-type {\n",
       "        vertical-align: middle;\n",
       "    }\n",
       "\n",
       "    .dataframe tbody tr th {\n",
       "        vertical-align: top;\n",
       "    }\n",
       "\n",
       "    .dataframe thead th {\n",
       "        text-align: right;\n",
       "    }\n",
       "</style>\n",
       "<table border=\"1\" class=\"dataframe\">\n",
       "  <thead>\n",
       "    <tr style=\"text-align: right;\">\n",
       "      <th></th>\n",
       "      <th>temperature_2m</th>\n",
       "      <th>surface_pressure</th>\n",
       "      <th>precipitation</th>\n",
       "      <th>wind_speed_10m</th>\n",
       "    </tr>\n",
       "    <tr>\n",
       "      <th>date</th>\n",
       "      <th></th>\n",
       "      <th></th>\n",
       "      <th></th>\n",
       "      <th></th>\n",
       "    </tr>\n",
       "  </thead>\n",
       "  <tbody>\n",
       "    <tr>\n",
       "      <th>2017-04-02 00:00:00</th>\n",
       "      <td>6.0</td>\n",
       "      <td>1011.1</td>\n",
       "      <td>0.0</td>\n",
       "      <td>7.2</td>\n",
       "    </tr>\n",
       "    <tr>\n",
       "      <th>2017-04-02 01:00:00</th>\n",
       "      <td>6.9</td>\n",
       "      <td>1011.8</td>\n",
       "      <td>0.0</td>\n",
       "      <td>7.7</td>\n",
       "    </tr>\n",
       "    <tr>\n",
       "      <th>2017-04-02 02:00:00</th>\n",
       "      <td>7.2</td>\n",
       "      <td>1012.4</td>\n",
       "      <td>0.0</td>\n",
       "      <td>10.9</td>\n",
       "    </tr>\n",
       "    <tr>\n",
       "      <th>2017-04-02 03:00:00</th>\n",
       "      <td>7.7</td>\n",
       "      <td>1013.0</td>\n",
       "      <td>0.0</td>\n",
       "      <td>10.8</td>\n",
       "    </tr>\n",
       "    <tr>\n",
       "      <th>2017-04-02 04:00:00</th>\n",
       "      <td>6.9</td>\n",
       "      <td>1013.5</td>\n",
       "      <td>0.0</td>\n",
       "      <td>8.6</td>\n",
       "    </tr>\n",
       "    <tr>\n",
       "      <th>...</th>\n",
       "      <td>...</td>\n",
       "      <td>...</td>\n",
       "      <td>...</td>\n",
       "      <td>...</td>\n",
       "    </tr>\n",
       "    <tr>\n",
       "      <th>2025-04-30 19:00:00</th>\n",
       "      <td>25.1</td>\n",
       "      <td>1016.6</td>\n",
       "      <td>0.0</td>\n",
       "      <td>10.1</td>\n",
       "    </tr>\n",
       "    <tr>\n",
       "      <th>2025-04-30 20:00:00</th>\n",
       "      <td>23.0</td>\n",
       "      <td>1016.8</td>\n",
       "      <td>0.0</td>\n",
       "      <td>11.9</td>\n",
       "    </tr>\n",
       "    <tr>\n",
       "      <th>2025-04-30 21:00:00</th>\n",
       "      <td>20.7</td>\n",
       "      <td>1017.3</td>\n",
       "      <td>0.0</td>\n",
       "      <td>11.9</td>\n",
       "    </tr>\n",
       "    <tr>\n",
       "      <th>2025-04-30 22:00:00</th>\n",
       "      <td>19.2</td>\n",
       "      <td>1017.5</td>\n",
       "      <td>0.0</td>\n",
       "      <td>9.0</td>\n",
       "    </tr>\n",
       "    <tr>\n",
       "      <th>2025-04-30 23:00:00</th>\n",
       "      <td>18.0</td>\n",
       "      <td>1017.5</td>\n",
       "      <td>0.0</td>\n",
       "      <td>7.0</td>\n",
       "    </tr>\n",
       "  </tbody>\n",
       "</table>\n",
       "<p>70824 rows × 4 columns</p>\n",
       "</div>"
      ]
     },
     "execution_count": 13,
     "metadata": {},
     "output_type": "execute_result"
    }
   ],
   "execution_count": 13
  },
  {
   "metadata": {},
   "cell_type": "markdown",
   "source": "### 🧮 STEP 3: Normalisation (Z-score and robust)",
   "id": "c2ff3339719314fe"
  },
  {
   "metadata": {
    "ExecuteTime": {
     "end_time": "2025-05-06T10:16:35.998344Z",
     "start_time": "2025-05-06T10:16:35.987914Z"
    }
   },
   "cell_type": "code",
   "source": [
    "zscore = (df - rolling_mean) / rolling_std\n",
    "robust = (df - rolling_median) / rolling_iqr"
   ],
   "id": "5600075c27a877b7",
   "outputs": [],
   "execution_count": 14
  },
  {
   "metadata": {
    "ExecuteTime": {
     "end_time": "2025-05-06T10:16:37.696453Z",
     "start_time": "2025-05-06T10:16:37.687698Z"
    }
   },
   "cell_type": "code",
   "source": "robust",
   "id": "1342f0998ed9f7b3",
   "outputs": [
    {
     "data": {
      "text/plain": [
       "                     temperature_2m  surface_pressure  precipitation  \\\n",
       "date                                                                   \n",
       "2017-04-02 00:00:00       -0.377358         -0.136646            0.0   \n",
       "2017-04-02 01:00:00       -0.207547         -0.093168            0.0   \n",
       "2017-04-02 02:00:00       -0.150943         -0.055901            0.0   \n",
       "2017-04-02 03:00:00       -0.056604         -0.018634            0.0   \n",
       "2017-04-02 04:00:00       -0.207547          0.009317            0.0   \n",
       "...                             ...               ...            ...   \n",
       "2025-04-30 19:00:00        2.264706          0.006098            0.0   \n",
       "2025-04-30 20:00:00        1.955882          0.018377            0.0   \n",
       "2025-04-30 21:00:00        1.617647          0.049080            0.0   \n",
       "2025-04-30 22:00:00        1.412639          0.061350            0.0   \n",
       "2025-04-30 23:00:00        1.231343          0.061633            0.0   \n",
       "\n",
       "                     wind_speed_10m  \n",
       "date                                 \n",
       "2017-04-02 00:00:00       -0.783715  \n",
       "2017-04-02 01:00:00       -0.727273  \n",
       "2017-04-02 02:00:00       -0.404040  \n",
       "2017-04-02 03:00:00       -0.414141  \n",
       "2017-04-02 04:00:00       -0.636364  \n",
       "...                             ...  \n",
       "2025-04-30 19:00:00        0.085409  \n",
       "2025-04-30 20:00:00        0.341637  \n",
       "2025-04-30 21:00:00        0.341637  \n",
       "2025-04-30 22:00:00       -0.071174  \n",
       "2025-04-30 23:00:00       -0.359712  \n",
       "\n",
       "[70824 rows x 4 columns]"
      ],
      "text/html": [
       "<div>\n",
       "<style scoped>\n",
       "    .dataframe tbody tr th:only-of-type {\n",
       "        vertical-align: middle;\n",
       "    }\n",
       "\n",
       "    .dataframe tbody tr th {\n",
       "        vertical-align: top;\n",
       "    }\n",
       "\n",
       "    .dataframe thead th {\n",
       "        text-align: right;\n",
       "    }\n",
       "</style>\n",
       "<table border=\"1\" class=\"dataframe\">\n",
       "  <thead>\n",
       "    <tr style=\"text-align: right;\">\n",
       "      <th></th>\n",
       "      <th>temperature_2m</th>\n",
       "      <th>surface_pressure</th>\n",
       "      <th>precipitation</th>\n",
       "      <th>wind_speed_10m</th>\n",
       "    </tr>\n",
       "    <tr>\n",
       "      <th>date</th>\n",
       "      <th></th>\n",
       "      <th></th>\n",
       "      <th></th>\n",
       "      <th></th>\n",
       "    </tr>\n",
       "  </thead>\n",
       "  <tbody>\n",
       "    <tr>\n",
       "      <th>2017-04-02 00:00:00</th>\n",
       "      <td>-0.377358</td>\n",
       "      <td>-0.136646</td>\n",
       "      <td>0.0</td>\n",
       "      <td>-0.783715</td>\n",
       "    </tr>\n",
       "    <tr>\n",
       "      <th>2017-04-02 01:00:00</th>\n",
       "      <td>-0.207547</td>\n",
       "      <td>-0.093168</td>\n",
       "      <td>0.0</td>\n",
       "      <td>-0.727273</td>\n",
       "    </tr>\n",
       "    <tr>\n",
       "      <th>2017-04-02 02:00:00</th>\n",
       "      <td>-0.150943</td>\n",
       "      <td>-0.055901</td>\n",
       "      <td>0.0</td>\n",
       "      <td>-0.404040</td>\n",
       "    </tr>\n",
       "    <tr>\n",
       "      <th>2017-04-02 03:00:00</th>\n",
       "      <td>-0.056604</td>\n",
       "      <td>-0.018634</td>\n",
       "      <td>0.0</td>\n",
       "      <td>-0.414141</td>\n",
       "    </tr>\n",
       "    <tr>\n",
       "      <th>2017-04-02 04:00:00</th>\n",
       "      <td>-0.207547</td>\n",
       "      <td>0.009317</td>\n",
       "      <td>0.0</td>\n",
       "      <td>-0.636364</td>\n",
       "    </tr>\n",
       "    <tr>\n",
       "      <th>...</th>\n",
       "      <td>...</td>\n",
       "      <td>...</td>\n",
       "      <td>...</td>\n",
       "      <td>...</td>\n",
       "    </tr>\n",
       "    <tr>\n",
       "      <th>2025-04-30 19:00:00</th>\n",
       "      <td>2.264706</td>\n",
       "      <td>0.006098</td>\n",
       "      <td>0.0</td>\n",
       "      <td>0.085409</td>\n",
       "    </tr>\n",
       "    <tr>\n",
       "      <th>2025-04-30 20:00:00</th>\n",
       "      <td>1.955882</td>\n",
       "      <td>0.018377</td>\n",
       "      <td>0.0</td>\n",
       "      <td>0.341637</td>\n",
       "    </tr>\n",
       "    <tr>\n",
       "      <th>2025-04-30 21:00:00</th>\n",
       "      <td>1.617647</td>\n",
       "      <td>0.049080</td>\n",
       "      <td>0.0</td>\n",
       "      <td>0.341637</td>\n",
       "    </tr>\n",
       "    <tr>\n",
       "      <th>2025-04-30 22:00:00</th>\n",
       "      <td>1.412639</td>\n",
       "      <td>0.061350</td>\n",
       "      <td>0.0</td>\n",
       "      <td>-0.071174</td>\n",
       "    </tr>\n",
       "    <tr>\n",
       "      <th>2025-04-30 23:00:00</th>\n",
       "      <td>1.231343</td>\n",
       "      <td>0.061633</td>\n",
       "      <td>0.0</td>\n",
       "      <td>-0.359712</td>\n",
       "    </tr>\n",
       "  </tbody>\n",
       "</table>\n",
       "<p>70824 rows × 4 columns</p>\n",
       "</div>"
      ]
     },
     "execution_count": 15,
     "metadata": {},
     "output_type": "execute_result"
    }
   ],
   "execution_count": 15
  },
  {
   "metadata": {
    "ExecuteTime": {
     "end_time": "2025-05-06T10:16:43.384128Z",
     "start_time": "2025-05-06T10:16:43.378182Z"
    }
   },
   "cell_type": "code",
   "source": [
    "# Use robust version for IF\n",
    "X_if = robust.dropna()"
   ],
   "id": "9a1c2dfc3cff5577",
   "outputs": [],
   "execution_count": 16
  },
  {
   "metadata": {
    "ExecuteTime": {
     "end_time": "2025-05-06T10:16:44.426641Z",
     "start_time": "2025-05-06T10:16:44.417723Z"
    }
   },
   "cell_type": "code",
   "source": "X_if.info()",
   "id": "dc6d4d1ffedf032",
   "outputs": [
    {
     "name": "stdout",
     "output_type": "stream",
     "text": [
      "<class 'pandas.core.frame.DataFrame'>\n",
      "DatetimeIndex: 70824 entries, 2017-04-02 00:00:00 to 2025-04-30 23:00:00\n",
      "Data columns (total 4 columns):\n",
      " #   Column            Non-Null Count  Dtype  \n",
      "---  ------            --------------  -----  \n",
      " 0   temperature_2m    70824 non-null  float64\n",
      " 1   surface_pressure  70824 non-null  float64\n",
      " 2   precipitation     70824 non-null  float64\n",
      " 3   wind_speed_10m    70824 non-null  float64\n",
      "dtypes: float64(4)\n",
      "memory usage: 2.7 MB\n"
     ]
    }
   ],
   "execution_count": 17
  },
  {
   "metadata": {},
   "cell_type": "markdown",
   "source": "### 🧪 STEP 4: Isolation Forest Training",
   "id": "db8abb22baa0c3aa"
  },
  {
   "metadata": {
    "ExecuteTime": {
     "end_time": "2025-05-06T10:20:41.354638Z",
     "start_time": "2025-05-06T10:20:40.797662Z"
    }
   },
   "cell_type": "code",
   "source": [
    "print(\"Training Isolation Forest...\")\n",
    "iso_model = IsolationForest(n_estimators=100, contamination=0.01, random_state=42)\n",
    "iso_model.fit(X_if)\n",
    "scores_if = -iso_model.decision_function(X_if)\n",
    "threshold = np.quantile(scores_if, 0.97)\n",
    "\n",
    "# 📌 Store valid_mask aligned to full robust index\n",
    "full_scores = pd.Series(index=robust.index, dtype='float64')\n",
    "full_scores.loc[X_if.index] = scores_if\n",
    "valid_mask = full_scores < threshold\n",
    "valid_mask = valid_mask.fillna(False)\n",
    "valid_mask.index.name = 'date'"
   ],
   "id": "e9be789a571efa3b",
   "outputs": [
    {
     "name": "stdout",
     "output_type": "stream",
     "text": [
      "Training Isolation Forest...\n"
     ]
    }
   ],
   "execution_count": 23
  },
  {
   "metadata": {
    "ExecuteTime": {
     "end_time": "2025-05-06T10:20:42.053994Z",
     "start_time": "2025-05-06T10:20:42.010912Z"
    }
   },
   "cell_type": "code",
   "source": [
    "# Save model\n",
    "joblib.dump(iso_model, os.path.join(MODEL_OUTPUT_DIR, \"isolation_forest.joblib\"))"
   ],
   "id": "1b2d53ec9e2e4f40",
   "outputs": [
    {
     "data": {
      "text/plain": [
       "['outputs/modelling/models/isolation_forest.joblib']"
      ]
     },
     "execution_count": 24,
     "metadata": {},
     "output_type": "execute_result"
    }
   ],
   "execution_count": 24
  },
  {
   "metadata": {},
   "cell_type": "markdown",
   "source": "### 🧼 STEP 5: Extract Valid LSTM Sequences",
   "id": "a1aa9023fa53ed25"
  },
  {
   "metadata": {
    "ExecuteTime": {
     "end_time": "2025-05-06T10:20:44.113042Z",
     "start_time": "2025-05-06T10:20:43.997887Z"
    }
   },
   "cell_type": "code",
   "source": [
    "print(\"Extracting clean sequences for LSTM-AE training...\")\n",
    "SEQUENCE_LENGTH = 30*24  # 30 days\n",
    "stride = 24  # 1 day\n",
    "\n",
    "# Filter robust-normalised data using valid_mask\n",
    "valid_df = robust[valid_mask]  # Assumes valid_mask is a pandas Series\n",
    "valid_df = valid_df.sort_index().asfreq('h')  # Ensure regular hourly spacing\n",
    "\n",
    "X_sequences = []\n",
    "for i in range(0, len(valid_df) - SEQUENCE_LENGTH + 1, stride):\n",
    "    seq = valid_df.iloc[i:i+SEQUENCE_LENGTH]\n",
    "    if seq.isnull().values.any():\n",
    "        continue  # skip windows with gaps\n",
    "    X_sequences.append(seq.values)\n",
    "\n",
    "X_sequences = np.array(X_sequences)\n",
    "print(\"Final sequence shape:\", X_sequences.shape)"
   ],
   "id": "422eda23232a4942",
   "outputs": [
    {
     "name": "stdout",
     "output_type": "stream",
     "text": [
      "Extracting clean sequences for LSTM-AE training...\n",
      "Final sequence shape: (84, 720, 4)\n"
     ]
    }
   ],
   "execution_count": 25
  },
  {
   "metadata": {},
   "cell_type": "markdown",
   "source": [
    "\n",
    "### 🧠 STEP 6: Train LSTM Autoencoder"
   ],
   "id": "8780c04b9535fa28"
  },
  {
   "metadata": {
    "ExecuteTime": {
     "end_time": "2025-05-06T10:21:19.058218Z",
     "start_time": "2025-05-06T10:20:46.885915Z"
    }
   },
   "cell_type": "code",
   "source": [
    "print(\"Training LSTM Autoencoder...\")\n",
    "model = Sequential([\n",
    "    Input(shape=(SEQUENCE_LENGTH, 4)),\n",
    "    LSTM(64, activation='relu', return_sequences=False),\n",
    "    RepeatVector(SEQUENCE_LENGTH),\n",
    "    LSTM(64, activation='relu', return_sequences=True),\n",
    "    TimeDistributed(Dense(4))\n",
    "])\n",
    "\n",
    "model.compile(optimizer='adam', loss='mae')\n",
    "\n",
    "# Training\n",
    "model.fit(\n",
    "    X_sequences, X_sequences,\n",
    "    epochs=50, batch_size=16,\n",
    "    validation_split=0.1,\n",
    "    shuffle=False,\n",
    "    callbacks=[EarlyStopping(patience=5, restore_best_weights=True)]\n",
    ")\n",
    "\n",
    "# Save in updated format\n",
    "model.save(\"outputs/modelling/models/lstm_autoencoder.keras\")\n",
    "print(\"✅ All models trained and saved.\")"
   ],
   "id": "c04cd5942a440707",
   "outputs": [
    {
     "name": "stdout",
     "output_type": "stream",
     "text": [
      "Training LSTM Autoencoder...\n",
      "Epoch 1/50\n",
      "\u001B[1m5/5\u001B[0m \u001B[32m━━━━━━━━━━━━━━━━━━━━\u001B[0m\u001B[37m\u001B[0m \u001B[1m20s\u001B[0m 1s/step - loss: nan - val_loss: nan\n",
      "Epoch 2/50\n",
      "\u001B[1m5/5\u001B[0m \u001B[32m━━━━━━━━━━━━━━━━━━━━\u001B[0m\u001B[37m\u001B[0m \u001B[1m3s\u001B[0m 525ms/step - loss: nan - val_loss: nan\n",
      "Epoch 3/50\n",
      "\u001B[1m5/5\u001B[0m \u001B[32m━━━━━━━━━━━━━━━━━━━━\u001B[0m\u001B[37m\u001B[0m \u001B[1m2s\u001B[0m 453ms/step - loss: nan - val_loss: nan\n",
      "Epoch 4/50\n",
      "\u001B[1m5/5\u001B[0m \u001B[32m━━━━━━━━━━━━━━━━━━━━\u001B[0m\u001B[37m\u001B[0m \u001B[1m2s\u001B[0m 453ms/step - loss: nan - val_loss: nan\n",
      "Epoch 5/50\n",
      "\u001B[1m5/5\u001B[0m \u001B[32m━━━━━━━━━━━━━━━━━━━━\u001B[0m\u001B[37m\u001B[0m \u001B[1m2s\u001B[0m 453ms/step - loss: nan - val_loss: nan\n",
      "Epoch 6/50\n",
      "\u001B[1m5/5\u001B[0m \u001B[32m━━━━━━━━━━━━━━━━━━━━\u001B[0m\u001B[37m\u001B[0m \u001B[1m2s\u001B[0m 457ms/step - loss: nan - val_loss: nan\n",
      "✅ All models trained and saved.\n"
     ]
    }
   ],
   "execution_count": 26
  },
  {
   "metadata": {},
   "cell_type": "markdown",
   "source": "### 📈 STEP 7: Inference and Anomaly Scoring",
   "id": "e6607dfad5dba1f1"
  },
  {
   "metadata": {
    "ExecuteTime": {
     "end_time": "2025-05-06T10:21:29.643259Z",
     "start_time": "2025-05-06T10:21:22.128679Z"
    }
   },
   "cell_type": "code",
   "source": [
    "print(\"Running inference...\")\n",
    "reconstruction = model.predict(X_sequences)\n",
    "recon_errors = np.nanmean(np.abs(reconstruction - X_sequences), axis=(1, 2))\n",
    "recon_errors = np.nan_to_num(recon_errors, nan=0.0, posinf=1e6, neginf=1e6)\n",
    "# Set threshold using 95th percentile of training errors\n",
    "anomaly_threshold = np.percentile(recon_errors, 95)\n",
    "sequence_flags = recon_errors > anomaly_threshold\n",
    "\n",
    "print(f\"Threshold: {anomaly_threshold:.4f}\")\n",
    "print(f\"Anomalous sequences: {np.sum(sequence_flags)} / {len(sequence_flags)}\")\n",
    "\n",
    "# Save scores for later integration\n",
    "np.save(\"outputs/modelling/predictions/lstm_sequence_errors.npy\", recon_errors)\n",
    "np.save(\"outputs/modelling/predictions/lstm_anomaly_flags.npy\", sequence_flags)"
   ],
   "id": "38400ca5ba8e6c85",
   "outputs": [
    {
     "name": "stdout",
     "output_type": "stream",
     "text": [
      "Running inference...\n",
      "\u001B[1m3/3\u001B[0m \u001B[32m━━━━━━━━━━━━━━━━━━━━\u001B[0m\u001B[37m\u001B[0m \u001B[1m7s\u001B[0m 2s/step\n",
      "Threshold: 0.0000\n",
      "Anomalous sequences: 0 / 84\n"
     ]
    },
    {
     "name": "stderr",
     "output_type": "stream",
     "text": [
      "C:\\Users\\jerry\\AppData\\Local\\Temp\\ipykernel_14952\\1224930580.py:3: RuntimeWarning: Mean of empty slice\n",
      "  recon_errors = np.nanmean(np.abs(reconstruction - X_sequences), axis=(1, 2))\n"
     ]
    }
   ],
   "execution_count": 27
  },
  {
   "metadata": {},
   "cell_type": "code",
   "outputs": [],
   "execution_count": null,
   "source": "",
   "id": "c3c63077539d757c"
  }
 ],
 "metadata": {
  "colab": {
   "provenance": []
  },
  "language_info": {
   "name": "python"
  },
  "kernelspec": {
   "name": "python3",
   "display_name": "Python 3"
  }
 },
 "nbformat": 4,
 "nbformat_minor": 5
}
