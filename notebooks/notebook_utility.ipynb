{
 "cells": [
  {
   "cell_type": "code",
   "execution_count": null,
   "id": "initial_id",
   "metadata": {
    "collapsed": true
   },
   "outputs": [],
   "source": [
    "import os\n",
    "\n",
    "def list_directory(root_dir):\n",
    "    for dirpath, dirnames, filenames in os.walk(root_dir):\n",
    "        print(f\"📂 {dirpath}\")\n",
    "        for filename in filenames:\n",
    "            print(f\"  ├── {filename}\")\n",
    "\n",
    "# Replace with your project's root path\n",
    "list_directory(r\"C:\\Users\\jerry\\Dropbox\\JEREMIAH\\MY_STUDIES\\DATA_SCIENCE\\University_of_Greenwich\\Year2\\COMP1884 - Group Project\\CODE\\COMP1884-Group6-Codebase-Complete\")"
   ]
  }
 ],
 "metadata": {
  "kernelspec": {
   "display_name": "Python 3",
   "language": "python",
   "name": "python3"
  },
  "language_info": {
   "codemirror_mode": {
    "name": "ipython",
    "version": 2
   },
   "file_extension": ".py",
   "mimetype": "text/x-python",
   "name": "python",
   "nbconvert_exporter": "python",
   "pygments_lexer": "ipython2",
   "version": "2.7.6"
  }
 },
 "nbformat": 4,
 "nbformat_minor": 5
}
