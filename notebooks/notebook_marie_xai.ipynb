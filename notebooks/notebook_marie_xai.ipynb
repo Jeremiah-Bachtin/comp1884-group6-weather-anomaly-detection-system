{
 "cells": [
  {
   "metadata": {
    "ExecuteTime": {
     "end_time": "2025-04-30T19:08:53.937682Z",
     "start_time": "2025-04-30T19:08:53.933346Z"
    }
   },
   "cell_type": "code",
   "source": "## Use this notebook for XAI Workflows",
   "id": "c2bd8510c6b82a38",
   "outputs": [],
   "execution_count": 1
  },
  {
   "metadata": {},
   "cell_type": "code",
   "outputs": [],
   "execution_count": null,
   "source": "",
   "id": "7e861535a4b0e779"
  }
 ],
 "metadata": {},
 "nbformat": 4,
 "nbformat_minor": 5
}
