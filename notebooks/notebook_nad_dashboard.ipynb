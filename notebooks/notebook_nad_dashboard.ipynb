{
 "cells": [
  {
   "metadata": {
    "ExecuteTime": {
     "end_time": "2025-04-30T19:08:53.971552Z",
     "start_time": "2025-04-30T19:08:53.967764Z"
    }
   },
   "cell_type": "code",
   "source": "## Use this notebook for Dashboard Workflows",
   "id": "7883d931212e5903",
   "outputs": [],
   "execution_count": 1
  },
  {
   "metadata": {},
   "cell_type": "code",
   "outputs": [],
   "execution_count": null,
   "source": "",
   "id": "d1d91fecb30b5a92"
  }
 ],
 "metadata": {},
 "nbformat": 4,
 "nbformat_minor": 5
}
