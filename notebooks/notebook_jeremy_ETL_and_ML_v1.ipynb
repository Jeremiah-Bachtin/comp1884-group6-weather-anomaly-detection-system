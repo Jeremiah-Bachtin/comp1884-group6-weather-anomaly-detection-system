{
 "cells": [
  {
   "metadata": {},
   "cell_type": "markdown",
   "source": "## Data Preprocessing & Modelling Pipeline",
   "id": "3c1b69603cea15be"
  },
  {
   "metadata": {
    "ExecuteTime": {
     "end_time": "2025-05-21T10:34:03.634998Z",
     "start_time": "2025-05-21T10:34:03.625172Z"
    }
   },
   "cell_type": "code",
   "source": [
    "import pandas as pd\n",
    "import numpy as np\n",
    "import matplotlib.pyplot as plt\n",
    "import os\n",
    "from sklearn.ensemble import IsolationForest\n",
    "from tensorflow.keras.models import Model\n",
    "from tensorflow.keras.layers import Input, LSTM, RepeatVector, TimeDistributed, Dense\n",
    "from tensorflow.keras.optimizers import Adam\n",
    "from tensorflow.keras.callbacks import EarlyStopping, ModelCheckpoint\n",
    "import joblib\n",
    "from utils.find_root import find_project_root"
   ],
   "id": "2d2d5f1a37782522",
   "outputs": [],
   "execution_count": 110
  },
  {
   "metadata": {
    "ExecuteTime": {
     "end_time": "2025-05-21T06:08:21.482112Z",
     "start_time": "2025-05-21T06:08:14.068590Z"
    }
   },
   "cell_type": "code",
   "source": [
    "# Check GPU access for LSTM-AE training\n",
    "import tensorflow as tf\n",
    "print(\"TensorFlow version:\", tf.__version__)\n",
    "print(\"Built with CUDA:\", tf.test.is_built_with_cuda())\n",
    "print(\"GPU devices:\", tf.config.list_physical_devices('GPU'))\n",
    "\n",
    "# test if GPU engages\n",
    "with tf.device('/GPU:0'):\n",
    "    a = tf.constant([[1.0, 2.0], [3.0, 4.0]])\n",
    "    b = tf.matmul(a, a)\n",
    "print(b)"
   ],
   "id": "f23c5e7871b15487",
   "outputs": [
    {
     "name": "stdout",
     "output_type": "stream",
     "text": [
      "TensorFlow version: 2.10.1\n",
      "Built with CUDA: True\n",
      "GPU devices: [PhysicalDevice(name='/physical_device:GPU:0', device_type='GPU')]\n",
      "tf.Tensor(\n",
      "[[ 7. 10.]\n",
      " [15. 22.]], shape=(2, 2), dtype=float32)\n"
     ]
    }
   ],
   "execution_count": 2
  },
  {
   "metadata": {
    "ExecuteTime": {
     "end_time": "2025-05-21T06:08:22.594762Z",
     "start_time": "2025-05-21T06:08:22.582753Z"
    }
   },
   "cell_type": "code",
   "source": [
    "# Retrieve the project root dynamically and set it as working directory\n",
    "project_root = find_project_root()\n",
    "os.chdir(project_root)\n",
    "\n",
    "# Define output directories for ML models\n",
    "MODEL_OUTPUT_DIR = \"outputs/modelling/models/\"\n",
    "MODEL_INPIT_OUTPUT_DIR = \"data/processed/model_input\"\n",
    "\n",
    "# Ensure output directories exist\n",
    "os.makedirs(MODEL_OUTPUT_DIR, exist_ok=True)\n",
    "os.makedirs(MODEL_INPIT_OUTPUT_DIR, exist_ok=True)"
   ],
   "id": "95d7b0549f2bae68",
   "outputs": [],
   "execution_count": 3
  },
  {
   "metadata": {},
   "cell_type": "markdown",
   "source": "#### Step 0 - Dataset Loading and Splitting",
   "id": "37fd4474402b8c7b"
  },
  {
   "metadata": {
    "ExecuteTime": {
     "end_time": "2025-05-21T06:08:25.872364Z",
     "start_time": "2025-05-21T06:08:25.703403Z"
    }
   },
   "cell_type": "code",
   "source": [
    "# Step 0.1 Load dataset\n",
    "DATASET_PATH = \"data/processed/historical_merged/historical_IFS_merged_201702_to_202504.csv\"\n",
    "df = pd.read_csv(DATASET_PATH, parse_dates=['date'], index_col='date')\n",
    "df = df.asfreq('h')\n",
    "df"
   ],
   "id": "6fcfeb9dce058167",
   "outputs": [
    {
     "data": {
      "text/plain": [
       "                     temperature_2m  surface_pressure  precipitation  \\\n",
       "date                                                                   \n",
       "2017-02-01 00:00:00             9.6            1008.2            0.0   \n",
       "2017-02-01 01:00:00             9.6            1007.4            0.0   \n",
       "2017-02-01 02:00:00             9.9            1006.8            0.6   \n",
       "2017-02-01 03:00:00            10.0            1006.5            0.3   \n",
       "2017-02-01 04:00:00            10.2            1006.2            0.3   \n",
       "...                             ...               ...            ...   \n",
       "2025-04-30 19:00:00            25.1            1016.6            0.0   \n",
       "2025-04-30 20:00:00            23.0            1016.8            0.0   \n",
       "2025-04-30 21:00:00            20.7            1017.3            0.0   \n",
       "2025-04-30 22:00:00            19.2            1017.5            0.0   \n",
       "2025-04-30 23:00:00            18.0            1017.5            0.0   \n",
       "\n",
       "                     wind_speed_10m  \n",
       "date                                 \n",
       "2017-02-01 00:00:00            14.6  \n",
       "2017-02-01 01:00:00            14.6  \n",
       "2017-02-01 02:00:00            15.1  \n",
       "2017-02-01 03:00:00            15.0  \n",
       "2017-02-01 04:00:00            15.5  \n",
       "...                             ...  \n",
       "2025-04-30 19:00:00            10.1  \n",
       "2025-04-30 20:00:00            11.9  \n",
       "2025-04-30 21:00:00            11.9  \n",
       "2025-04-30 22:00:00             9.0  \n",
       "2025-04-30 23:00:00             7.0  \n",
       "\n",
       "[72264 rows x 4 columns]"
      ],
      "text/html": [
       "<div>\n",
       "<style scoped>\n",
       "    .dataframe tbody tr th:only-of-type {\n",
       "        vertical-align: middle;\n",
       "    }\n",
       "\n",
       "    .dataframe tbody tr th {\n",
       "        vertical-align: top;\n",
       "    }\n",
       "\n",
       "    .dataframe thead th {\n",
       "        text-align: right;\n",
       "    }\n",
       "</style>\n",
       "<table border=\"1\" class=\"dataframe\">\n",
       "  <thead>\n",
       "    <tr style=\"text-align: right;\">\n",
       "      <th></th>\n",
       "      <th>temperature_2m</th>\n",
       "      <th>surface_pressure</th>\n",
       "      <th>precipitation</th>\n",
       "      <th>wind_speed_10m</th>\n",
       "    </tr>\n",
       "    <tr>\n",
       "      <th>date</th>\n",
       "      <th></th>\n",
       "      <th></th>\n",
       "      <th></th>\n",
       "      <th></th>\n",
       "    </tr>\n",
       "  </thead>\n",
       "  <tbody>\n",
       "    <tr>\n",
       "      <th>2017-02-01 00:00:00</th>\n",
       "      <td>9.6</td>\n",
       "      <td>1008.2</td>\n",
       "      <td>0.0</td>\n",
       "      <td>14.6</td>\n",
       "    </tr>\n",
       "    <tr>\n",
       "      <th>2017-02-01 01:00:00</th>\n",
       "      <td>9.6</td>\n",
       "      <td>1007.4</td>\n",
       "      <td>0.0</td>\n",
       "      <td>14.6</td>\n",
       "    </tr>\n",
       "    <tr>\n",
       "      <th>2017-02-01 02:00:00</th>\n",
       "      <td>9.9</td>\n",
       "      <td>1006.8</td>\n",
       "      <td>0.6</td>\n",
       "      <td>15.1</td>\n",
       "    </tr>\n",
       "    <tr>\n",
       "      <th>2017-02-01 03:00:00</th>\n",
       "      <td>10.0</td>\n",
       "      <td>1006.5</td>\n",
       "      <td>0.3</td>\n",
       "      <td>15.0</td>\n",
       "    </tr>\n",
       "    <tr>\n",
       "      <th>2017-02-01 04:00:00</th>\n",
       "      <td>10.2</td>\n",
       "      <td>1006.2</td>\n",
       "      <td>0.3</td>\n",
       "      <td>15.5</td>\n",
       "    </tr>\n",
       "    <tr>\n",
       "      <th>...</th>\n",
       "      <td>...</td>\n",
       "      <td>...</td>\n",
       "      <td>...</td>\n",
       "      <td>...</td>\n",
       "    </tr>\n",
       "    <tr>\n",
       "      <th>2025-04-30 19:00:00</th>\n",
       "      <td>25.1</td>\n",
       "      <td>1016.6</td>\n",
       "      <td>0.0</td>\n",
       "      <td>10.1</td>\n",
       "    </tr>\n",
       "    <tr>\n",
       "      <th>2025-04-30 20:00:00</th>\n",
       "      <td>23.0</td>\n",
       "      <td>1016.8</td>\n",
       "      <td>0.0</td>\n",
       "      <td>11.9</td>\n",
       "    </tr>\n",
       "    <tr>\n",
       "      <th>2025-04-30 21:00:00</th>\n",
       "      <td>20.7</td>\n",
       "      <td>1017.3</td>\n",
       "      <td>0.0</td>\n",
       "      <td>11.9</td>\n",
       "    </tr>\n",
       "    <tr>\n",
       "      <th>2025-04-30 22:00:00</th>\n",
       "      <td>19.2</td>\n",
       "      <td>1017.5</td>\n",
       "      <td>0.0</td>\n",
       "      <td>9.0</td>\n",
       "    </tr>\n",
       "    <tr>\n",
       "      <th>2025-04-30 23:00:00</th>\n",
       "      <td>18.0</td>\n",
       "      <td>1017.5</td>\n",
       "      <td>0.0</td>\n",
       "      <td>7.0</td>\n",
       "    </tr>\n",
       "  </tbody>\n",
       "</table>\n",
       "<p>72264 rows × 4 columns</p>\n",
       "</div>"
      ]
     },
     "execution_count": 4,
     "metadata": {},
     "output_type": "execute_result"
    }
   ],
   "execution_count": 4
  },
  {
   "metadata": {
    "ExecuteTime": {
     "end_time": "2025-05-21T06:08:27.189302Z",
     "start_time": "2025-05-21T06:08:27.168978Z"
    }
   },
   "cell_type": "code",
   "source": [
    "# Step 0.2: Define chronological splits\n",
    "train_start, train_end = \"2017-02-01\", \"2025-01-31\"\n",
    "val_start, val_end = \"2025-02-01\", \"2025-04-30\"\n",
    "\n",
    "# Step 0.3: Subset dataframe\n",
    "df_train = df.loc[train_start:train_end]\n",
    "df_val = df.loc[val_start:val_end]\n",
    "\n",
    "print(f\"Training set: {len(df_train)} rows (~{len(df_train)/24:.0f} days).\")\n",
    "print(f\"Validation set: {len(df_val)} rows (~{len(df_val)/24:.0f}days).\")"
   ],
   "id": "d4ef090c236c9dd3",
   "outputs": [
    {
     "name": "stdout",
     "output_type": "stream",
     "text": [
      "Training set: 70128 rows (~2922 days).\n",
      "Validation set: 2136 rows (~89days).\n"
     ]
    }
   ],
   "execution_count": 5
  },
  {
   "metadata": {},
   "cell_type": "markdown",
   "source": [
    "#### Step 1 – Feature Transformation & Normalisation\n",
    "**Goal**: Transform raw weather variables into scale-stable, model-ready features using rolling statistics. This includes z-scores, IQR scaling, smoothing, and log transforms. These steps are applied before training the Isolation Forest and LSTM-AE models to ensure consistency across training, validation, and inference."
   ],
   "id": "9217db6f238464e7"
  },
  {
   "metadata": {
    "ExecuteTime": {
     "end_time": "2025-05-21T06:08:34.554254Z",
     "start_time": "2025-05-21T06:08:34.537901Z"
    }
   },
   "cell_type": "code",
   "source": [
    "# Step 1.1: Select features (precautionary)\n",
    "features = ['temperature_2m', 'surface_pressure', 'wind_speed_10m', 'precipitation']\n",
    "df_train = df_train[features].copy()\n",
    "df_val =df_val[features].copy()"
   ],
   "id": "ade595eb4dc49513",
   "outputs": [],
   "execution_count": 6
  },
  {
   "metadata": {
    "ExecuteTime": {
     "end_time": "2025-05-21T06:08:35.250294Z",
     "start_time": "2025-05-21T06:08:35.236592Z"
    }
   },
   "cell_type": "code",
   "source": [
    "# Step 1.2: Set parameters for normalisation\n",
    "window_60d = 1440 # rolling window size\n",
    "min_periods_60d = 720 # minimum number of observations required for rolling calculations\n",
    "window_12h = 12 # rolling window size for 12-hour rolling z-score\n",
    "min_periods_12h = 6 # minimum number of observations required for rolling calculations for 12-hour rolling z-score\n",
    "eps = 1e-6  # to avoid division by zero in rolling scaling calculations for precipitation and wind"
   ],
   "id": "1f7a6f38d6f15627",
   "outputs": [],
   "execution_count": 7
  },
  {
   "metadata": {
    "ExecuteTime": {
     "end_time": "2025-05-21T06:08:38.256900Z",
     "start_time": "2025-05-21T06:08:38.209583Z"
    }
   },
   "cell_type": "code",
   "source": [
    "# Step 1.3 Temperature and Surface Pressure: 60-day rolling z-scores\n",
    "for col in ['temperature_2m', 'surface_pressure']:\n",
    "    # Train set\n",
    "    mean_train = df_train[col].rolling(window=window_60d, min_periods=min_periods_60d).mean()\n",
    "    std_train = df_train[col].rolling(window=window_60d, min_periods=min_periods_60d).std()\n",
    "    df_train[f'{col}_z'] = (df_train[col] - mean_train) / (std_train + eps)\n",
    "\n",
    "    # Validation set\n",
    "    mean_val = df_val[col].rolling(window=window_60d, min_periods=min_periods_60d).mean()\n",
    "    std_val = df_val[col].rolling(window=window_60d, min_periods=min_periods_60d).std()\n",
    "    df_val[f'{col}_z'] = (df_val[col] - mean_val) / (std_val + eps)"
   ],
   "id": "e94eb3511e6c0e4d",
   "outputs": [],
   "execution_count": 8
  },
  {
   "metadata": {
    "ExecuteTime": {
     "end_time": "2025-05-21T06:08:40.201868Z",
     "start_time": "2025-05-21T06:08:40.190028Z"
    }
   },
   "cell_type": "code",
   "source": [
    "# Step 1.4: Apply smoothing to wind speed (NO Z-SCORE)\n",
    "df_train['wind_r'] = df_train['wind_speed_10m'].rolling(window=3, min_periods=1).mean()\n",
    "df_val['wind_r']   = df_val['wind_speed_10m'].rolling(window=3, min_periods=1).mean()"
   ],
   "id": "fc6bb049d87a534b",
   "outputs": [],
   "execution_count": 9
  },
  {
   "metadata": {
    "ExecuteTime": {
     "end_time": "2025-05-21T06:08:42.509101Z",
     "start_time": "2025-05-21T06:08:42.344042Z"
    }
   },
   "cell_type": "code",
   "source": [
    "# Step 1.5: Apply IQR scaling to smoothed Wind Speed\n",
    "for df_ in [df_train, df_val]:\n",
    "    med = df_['wind_r'].rolling(window=window_60d, min_periods=min_periods_60d).median()\n",
    "    q75 = df_['wind_r'].rolling(window=window_60d, min_periods=min_periods_60d).quantile(0.75)\n",
    "    q25 = df_['wind_r'].rolling(window=window_60d, min_periods=min_periods_60d).quantile(0.25)\n",
    "    iqr = q75 - q25\n",
    "    df_['wind_r'] = (df_['wind_r'] - med) / (iqr + eps)"
   ],
   "id": "14ceb67a9fcd4b84",
   "outputs": [],
   "execution_count": 10
  },
  {
   "metadata": {
    "ExecuteTime": {
     "end_time": "2025-05-21T06:08:43.711481Z",
     "start_time": "2025-05-21T06:08:43.695604Z"
    }
   },
   "cell_type": "code",
   "source": [
    "# Step 1.6: Tranform Precipitation with log1p\n",
    "# Log transformation reduces skew\n",
    "\n",
    "df_train['precip_log'] = np.log1p(df_train['precipitation'])\n",
    "df_val['precip_log']   = np.log1p(df_val['precipitation'])\n"
   ],
   "id": "e711612a6ddf6dca",
   "outputs": [],
   "execution_count": 11
  },
  {
   "metadata": {
    "ExecuteTime": {
     "end_time": "2025-05-21T06:08:46.201292Z",
     "start_time": "2025-05-21T06:08:46.173746Z"
    }
   },
   "cell_type": "code",
   "source": [
    "# Step 1.7: Apply 12-hour z-score to logged Precipitation\n",
    "# short rolling window captures bursts\n",
    "\n",
    "mean_train = df_train['precip_log'].rolling(window=window_12h, min_periods=min_periods_12h).mean()\n",
    "std_train  = df_train['precip_log'].rolling(window=window_12h, min_periods=min_periods_12h).std()\n",
    "df_train['precip_z_12h'] = (df_train['precip_log'] - mean_train) / (std_train + eps)\n",
    "\n",
    "mean_val = df_val['precip_log'].rolling(window=window_12h, min_periods=min_periods_12h).mean()\n",
    "std_val  = df_val['precip_log'].rolling(window=window_12h, min_periods=min_periods_12h).std()\n",
    "df_val['precip_z_12h'] = (df_val['precip_log'] - mean_val) / (std_val + eps)"
   ],
   "id": "1fcd3166ecadf614",
   "outputs": [],
   "execution_count": 12
  },
  {
   "metadata": {},
   "cell_type": "markdown",
   "source": [
    "#### Step 2 – Time-Based Feature Engineering\n",
    "**Goal**: Add cyclic temporal context to help LSTM-AE learn seasonal and daily rhythms.\n",
    "We encode hour-of-day and month-of-year using sine and cosine pairs\n",
    "to preserve continuity across wraparound points (e.g. 23:00 → 00:00)."
   ],
   "id": "87b0dd47a215d6ea"
  },
  {
   "metadata": {
    "ExecuteTime": {
     "end_time": "2025-05-21T06:08:49.941842Z",
     "start_time": "2025-05-21T06:08:49.910396Z"
    }
   },
   "cell_type": "code",
   "source": [
    "# Step 2.1: Encode Hour-of-Day Cyclically\n",
    "# Extract hour of day and encode as sine/cosine\n",
    "df_train['hour'] = df_train.index.hour\n",
    "df_train['hour_sin'] = np.sin(2 * np.pi * df_train['hour'] / 24)\n",
    "df_train['hour_cos'] = np.cos(2 * np.pi * df_train['hour'] / 24)\n",
    "\n",
    "df_val['hour'] = df_val.index.hour\n",
    "df_val['hour_sin'] = np.sin(2 * np.pi * df_val['hour'] / 24)\n",
    "df_val['hour_cos'] = np.cos(2 * np.pi * df_val['hour'] / 24)"
   ],
   "id": "e419d8a55bedac4",
   "outputs": [],
   "execution_count": 13
  },
  {
   "metadata": {
    "ExecuteTime": {
     "end_time": "2025-05-21T06:08:56.752182Z",
     "start_time": "2025-05-21T06:08:56.729312Z"
    }
   },
   "cell_type": "code",
   "source": [
    "# Step 2.2: Encode Month-of-Year Cyclically\n",
    "\n",
    "# Extract month and encode as sine/cosine\n",
    "df_train['month'] = df_train.index.month\n",
    "df_train['month_sin'] = np.sin(2 * np.pi * df_train['month'] / 12)\n",
    "df_train['month_cos'] = np.cos(2 * np.pi * df_train['month'] / 12)\n",
    "\n",
    "df_val['month'] = df_val.index.month\n",
    "df_val['month_sin'] = np.sin(2 * np.pi * df_val['month'] / 12)\n",
    "df_val['month_cos'] = np.cos(2 * np.pi * df_val['month'] / 12)"
   ],
   "id": "81faa94fc8ca7d95",
   "outputs": [],
   "execution_count": 14
  },
  {
   "metadata": {
    "ExecuteTime": {
     "end_time": "2025-05-21T06:09:00.931198Z",
     "start_time": "2025-05-21T06:09:00.923196Z"
    }
   },
   "cell_type": "code",
   "source": [
    "# Step 2.3: Define LSTM input features\n",
    "# These include raw weather variables (not transformed) and time features\n",
    "lstm_features = ['temperature_2m', 'surface_pressure', 'wind_speed_10m', 'precipitation']\n",
    "lstm_time_features = ['hour_sin', 'hour_cos', 'month_sin', 'month_cos']"
   ],
   "id": "6e6b08a5f8fb2f81",
   "outputs": [],
   "execution_count": 15
  },
  {
   "metadata": {},
   "cell_type": "markdown",
   "source": [
    "#### Step 3 – Isolation Forest Training and Anomaly Scoring\n",
    "**Goal**: Train an Isolation Forest model using the transformed features in if_features.\n",
    "Use the model to compute anomaly scores for both the training and validation sets.\n",
    "Later, apply different thresholds to these scores for masking and inference."
   ],
   "id": "f2dd5ebe80301532"
  },
  {
   "metadata": {
    "ExecuteTime": {
     "end_time": "2025-05-21T06:09:05.698819Z",
     "start_time": "2025-05-21T06:09:05.683034Z"
    }
   },
   "cell_type": "code",
   "source": [
    "# Step 3.1: Define IF model features\n",
    "if_features = ['temperature_2m_z', 'surface_pressure_z', 'wind_r', 'precip_z_12h']"
   ],
   "id": "4a0aa0787edb29d7",
   "outputs": [],
   "execution_count": 16
  },
  {
   "metadata": {
    "ExecuteTime": {
     "end_time": "2025-05-21T06:09:06.256215Z",
     "start_time": "2025-05-21T06:09:06.240463Z"
    }
   },
   "cell_type": "code",
   "source": [
    "# Step 3.2: Drop rows with NaNs in the input features for model training\n",
    "X_train_if = df_train[if_features].dropna()"
   ],
   "id": "c896481ef964c808",
   "outputs": [],
   "execution_count": 17
  },
  {
   "metadata": {
    "ExecuteTime": {
     "end_time": "2025-05-21T06:09:07.528353Z",
     "start_time": "2025-05-21T06:09:06.966986Z"
    }
   },
   "cell_type": "code",
   "source": [
    "# Step 3.3: Train Isolation Forest model\n",
    "if_model = IsolationForest(n_estimators=100, contamination=0.01, random_state=42)\n",
    "if_model.fit(X_train_if)"
   ],
   "id": "1d0c4177848675f4",
   "outputs": [
    {
     "data": {
      "text/plain": [
       "IsolationForest(contamination=0.01, random_state=42)"
      ],
      "text/html": [
       "<style>#sk-container-id-1 {color: black;}#sk-container-id-1 pre{padding: 0;}#sk-container-id-1 div.sk-toggleable {background-color: white;}#sk-container-id-1 label.sk-toggleable__label {cursor: pointer;display: block;width: 100%;margin-bottom: 0;padding: 0.3em;box-sizing: border-box;text-align: center;}#sk-container-id-1 label.sk-toggleable__label-arrow:before {content: \"▸\";float: left;margin-right: 0.25em;color: #696969;}#sk-container-id-1 label.sk-toggleable__label-arrow:hover:before {color: black;}#sk-container-id-1 div.sk-estimator:hover label.sk-toggleable__label-arrow:before {color: black;}#sk-container-id-1 div.sk-toggleable__content {max-height: 0;max-width: 0;overflow: hidden;text-align: left;background-color: #f0f8ff;}#sk-container-id-1 div.sk-toggleable__content pre {margin: 0.2em;color: black;border-radius: 0.25em;background-color: #f0f8ff;}#sk-container-id-1 input.sk-toggleable__control:checked~div.sk-toggleable__content {max-height: 200px;max-width: 100%;overflow: auto;}#sk-container-id-1 input.sk-toggleable__control:checked~label.sk-toggleable__label-arrow:before {content: \"▾\";}#sk-container-id-1 div.sk-estimator input.sk-toggleable__control:checked~label.sk-toggleable__label {background-color: #d4ebff;}#sk-container-id-1 div.sk-label input.sk-toggleable__control:checked~label.sk-toggleable__label {background-color: #d4ebff;}#sk-container-id-1 input.sk-hidden--visually {border: 0;clip: rect(1px 1px 1px 1px);clip: rect(1px, 1px, 1px, 1px);height: 1px;margin: -1px;overflow: hidden;padding: 0;position: absolute;width: 1px;}#sk-container-id-1 div.sk-estimator {font-family: monospace;background-color: #f0f8ff;border: 1px dotted black;border-radius: 0.25em;box-sizing: border-box;margin-bottom: 0.5em;}#sk-container-id-1 div.sk-estimator:hover {background-color: #d4ebff;}#sk-container-id-1 div.sk-parallel-item::after {content: \"\";width: 100%;border-bottom: 1px solid gray;flex-grow: 1;}#sk-container-id-1 div.sk-label:hover label.sk-toggleable__label {background-color: #d4ebff;}#sk-container-id-1 div.sk-serial::before {content: \"\";position: absolute;border-left: 1px solid gray;box-sizing: border-box;top: 0;bottom: 0;left: 50%;z-index: 0;}#sk-container-id-1 div.sk-serial {display: flex;flex-direction: column;align-items: center;background-color: white;padding-right: 0.2em;padding-left: 0.2em;position: relative;}#sk-container-id-1 div.sk-item {position: relative;z-index: 1;}#sk-container-id-1 div.sk-parallel {display: flex;align-items: stretch;justify-content: center;background-color: white;position: relative;}#sk-container-id-1 div.sk-item::before, #sk-container-id-1 div.sk-parallel-item::before {content: \"\";position: absolute;border-left: 1px solid gray;box-sizing: border-box;top: 0;bottom: 0;left: 50%;z-index: -1;}#sk-container-id-1 div.sk-parallel-item {display: flex;flex-direction: column;z-index: 1;position: relative;background-color: white;}#sk-container-id-1 div.sk-parallel-item:first-child::after {align-self: flex-end;width: 50%;}#sk-container-id-1 div.sk-parallel-item:last-child::after {align-self: flex-start;width: 50%;}#sk-container-id-1 div.sk-parallel-item:only-child::after {width: 0;}#sk-container-id-1 div.sk-dashed-wrapped {border: 1px dashed gray;margin: 0 0.4em 0.5em 0.4em;box-sizing: border-box;padding-bottom: 0.4em;background-color: white;}#sk-container-id-1 div.sk-label label {font-family: monospace;font-weight: bold;display: inline-block;line-height: 1.2em;}#sk-container-id-1 div.sk-label-container {text-align: center;}#sk-container-id-1 div.sk-container {/* jupyter's `normalize.less` sets `[hidden] { display: none; }` but bootstrap.min.css set `[hidden] { display: none !important; }` so we also need the `!important` here to be able to override the default hidden behavior on the sphinx rendered scikit-learn.org. See: https://github.com/scikit-learn/scikit-learn/issues/21755 */display: inline-block !important;position: relative;}#sk-container-id-1 div.sk-text-repr-fallback {display: none;}</style><div id=\"sk-container-id-1\" class=\"sk-top-container\"><div class=\"sk-text-repr-fallback\"><pre>IsolationForest(contamination=0.01, random_state=42)</pre><b>In a Jupyter environment, please rerun this cell to show the HTML representation or trust the notebook. <br />On GitHub, the HTML representation is unable to render, please try loading this page with nbviewer.org.</b></div><div class=\"sk-container\" hidden><div class=\"sk-item\"><div class=\"sk-estimator sk-toggleable\"><input class=\"sk-toggleable__control sk-hidden--visually\" id=\"sk-estimator-id-1\" type=\"checkbox\" checked><label for=\"sk-estimator-id-1\" class=\"sk-toggleable__label sk-toggleable__label-arrow\">IsolationForest</label><div class=\"sk-toggleable__content\"><pre>IsolationForest(contamination=0.01, random_state=42)</pre></div></div></div></div></div>"
      ]
     },
     "execution_count": 18,
     "metadata": {},
     "output_type": "execute_result"
    }
   ],
   "execution_count": 18
  },
  {
   "metadata": {
    "ExecuteTime": {
     "end_time": "2025-05-21T06:09:10.594377Z",
     "start_time": "2025-05-21T06:09:10.479474Z"
    }
   },
   "cell_type": "code",
   "source": [
    "# Step 3.4: Save model\n",
    "joblib.dump(if_model,os.path.join(MODEL_OUTPUT_DIR, \"if_model.joblib\"))"
   ],
   "id": "aa809afac92b7322",
   "outputs": [
    {
     "data": {
      "text/plain": [
       "['outputs/modelling/models/if_model.joblib']"
      ]
     },
     "execution_count": 19,
     "metadata": {},
     "output_type": "execute_result"
    }
   ],
   "execution_count": 19
  },
  {
   "metadata": {
    "ExecuteTime": {
     "end_time": "2025-05-21T06:09:19.877416Z",
     "start_time": "2025-05-21T06:09:19.597866Z"
    }
   },
   "cell_type": "code",
   "source": [
    "# Step 3.5: Apply the trained IF model to compute anomaly scores\n",
    "# Scores: higher = more normal, lower = more anomalous\n",
    "\n",
    "df_train_transformed = df_train[if_features].dropna()\n",
    "df_val_transformed = df_val[if_features].dropna()\n",
    "\n",
    "# Score both sets\n",
    "scores_train = if_model.decision_function(df_train_transformed)\n",
    "scores_val   = if_model.decision_function(df_val_transformed)\n",
    "\n",
    "# Store scores in their respective DataFrames\n",
    "df_train.loc[df_train_transformed.index, 'if_score'] = scores_train\n",
    "df_val.loc[df_val_transformed.index, 'if_score'] = scores_val"
   ],
   "id": "9db883c2afe4ff0e",
   "outputs": [],
   "execution_count": 20
  },
  {
   "metadata": {},
   "cell_type": "markdown",
   "source": [
    "#### Step 4 – Anomaly Masking via Percentile Thresholds\n",
    "**Goal**: Convert continuous IF anomaly scores into binary anomaly flags using different percentile thresholds:\n",
    "\n",
    "- A strict threshold (e.g. 1%) for masking LSTM training data\n",
    "\n",
    "- A more relaxed threshold (e.g. 3%) for validation sequences and inference consistency\n",
    "These labels are only used for sequence filtering, not for model training."
   ],
   "id": "ee61448cb90523d1"
  },
  {
   "metadata": {
    "ExecuteTime": {
     "end_time": "2025-05-21T06:09:27.368564Z",
     "start_time": "2025-05-21T06:09:27.356753Z"
    }
   },
   "cell_type": "code",
   "source": [
    "# Step 4.1: Define percentile thresholds for anomaly masking\n",
    "mask_threshold_train = 1  # Top 1% most anomalous points in training\n",
    "mask_threshold_val = 3    # Top 3% most anomalous points in validation"
   ],
   "id": "f806b46a27a6ff2b",
   "outputs": [],
   "execution_count": 21
  },
  {
   "metadata": {
    "ExecuteTime": {
     "end_time": "2025-05-21T06:09:30.756330Z",
     "start_time": "2025-05-21T06:09:30.728788Z"
    }
   },
   "cell_type": "code",
   "source": [
    "# Step 4.2: Apply Thresholds and Assign Flags\n",
    "\n",
    "# Training set masking (strict)\n",
    "threshold_train = np.percentile(scores_train, mask_threshold_train)\n",
    "df_train['is_if_anomaly'] = df_train['if_score'] < threshold_train\n",
    "df_train['is_if_anomaly'] = df_train['is_if_anomaly'].fillna(False)\n",
    "\n",
    "# Validation set masking (relaxed)\n",
    "threshold_val = np.percentile(scores_val, mask_threshold_val)\n",
    "df_val['is_if_anomaly'] = df_val['if_score'] < threshold_val\n",
    "df_val['is_if_anomaly'] = df_val['is_if_anomaly'].fillna(False)\n"
   ],
   "id": "6372ef5c9ec6196b",
   "outputs": [],
   "execution_count": 22
  },
  {
   "metadata": {
    "ExecuteTime": {
     "end_time": "2025-05-21T06:09:34.008655Z",
     "start_time": "2025-05-21T06:09:33.987654Z"
    }
   },
   "cell_type": "code",
   "source": [
    "# Step 4.3: Sanity check: How many anomalies were flagged in training and validation?\n",
    "\n",
    "train_anomaly_counts = df_train['is_if_anomaly'].value_counts()\n",
    "val_anomaly_counts = df_val['is_if_anomaly'].value_counts()\n",
    "\n",
    "# Absolute counts\n",
    "print(\"Training Set Anomaly Counts:\")\n",
    "print(train_anomaly_counts)\n",
    "\n",
    "print(\"\\nValidation Set Anomaly Counts:\")\n",
    "print(val_anomaly_counts)\n",
    "\n",
    "# Proportions (percent of total)\n",
    "train_anomaly_ratio = df_train['is_if_anomaly'].mean()\n",
    "val_anomaly_ratio = df_val['is_if_anomaly'].mean()\n",
    "\n",
    "print(f\"\\nProportion of anomalies in training set: {train_anomaly_ratio:.4f} ({train_anomaly_ratio*100:.2f}%)\")\n",
    "print(f\"Proportion of anomalies in validation set: {val_anomaly_ratio:.4f} ({val_anomaly_ratio*100:.2f}%)\")\n"
   ],
   "id": "f3c4a29c99d18461",
   "outputs": [
    {
     "name": "stdout",
     "output_type": "stream",
     "text": [
      "Training Set Anomaly Counts:\n",
      "is_anomaly\n",
      "False    69433\n",
      "True       695\n",
      "Name: count, dtype: int64\n",
      "\n",
      "Validation Set Anomaly Counts:\n",
      "is_anomaly\n",
      "False    2093\n",
      "True       43\n",
      "Name: count, dtype: int64\n",
      "\n",
      "Proportion of anomalies in training set: 0.0099 (0.99%)\n",
      "Proportion of anomalies in validation set: 0.0201 (2.01%)\n"
     ]
    }
   ],
   "execution_count": 23
  },
  {
   "metadata": {},
   "cell_type": "markdown",
   "source": [
    "**Isolation Forest Anomaly Proportions**\n",
    "\n",
    "The Isolation Forest flagged around **0.99%** of the training data and **2.01%** of the validation data as anomalies. These cut-off points were based on the 1st percentile for training and the 3rd percentile for validation. These anomaly flags will be used to filter LSTM sequences in Steps 5 and 6.\n",
    "\n",
    "This setup follows guidance from recent studies such as Trinh (2022), Darban (2024), and Antwarg (2021), where similar low proportions were used to help identify unusual patterns.\n",
    "\n",
    "The goal is to:\n",
    "- Keep the training data as “normal” as possible, so the LSTM-AE can learn regular patterns reliably,\n",
    "- Include a few more borderline cases in the validation set, to see how well the model handles slightly noisier sequences.\n",
    "\n",
    "This two-level approach supports the semi-supervised idea of filtering out clear outliers while still testing the model on more varied data."
   ],
   "id": "c2481b5930ceea48"
  },
  {
   "metadata": {
    "ExecuteTime": {
     "end_time": "2025-05-21T06:09:55.810313Z",
     "start_time": "2025-05-21T06:09:54.905088Z"
    }
   },
   "cell_type": "code",
   "source": [
    "# Step 4.4: Plot anomaly scores for training and validation sets and their corresponding anomaly thresholds\n",
    "\n",
    "# Extract existing scores and thresholds (already defined earlier)\n",
    "train_scores = df_train['if_score'].dropna().values\n",
    "val_scores = df_val['if_score'].dropna().values\n",
    "\n",
    "# threshold_train and threshold_val are already defined using 1st and 3rd percentiles\n",
    "\n",
    "# Plot\n",
    "fig, axs = plt.subplots(1, 2, figsize=(14, 6), sharey=True)\n",
    "\n",
    "axs[0].hist(train_scores, bins=100, color='skyblue', edgecolor='black')\n",
    "axs[0].axvline(threshold_train, color='blue', linestyle='--', label='1% Threshold')\n",
    "axs[0].set_title(\"Training Set IF Anomaly Scores\")\n",
    "axs[0].set_xlabel(\"Anomaly Score\")\n",
    "axs[0].set_ylabel(\"Frequency\")\n",
    "axs[0].legend()\n",
    "axs[0].grid(True)\n",
    "\n",
    "axs[1].hist(val_scores, bins=100, color='salmon', edgecolor='black')\n",
    "axs[1].axvline(threshold_val, color='red', linestyle='--', label='3% Threshold')\n",
    "axs[1].set_title(\"Validation Set IF Anomaly Scores\")\n",
    "axs[1].set_xlabel(\"Anomaly Score\")\n",
    "axs[1].legend()\n",
    "axs[1].grid(True)\n",
    "\n",
    "plt.tight_layout()\n",
    "plt.show()"
   ],
   "id": "ad154f47be49edb6",
   "outputs": [
    {
     "data": {
      "text/plain": [
       "<Figure size 1400x600 with 2 Axes>"
      ],
      "image/png": "[encoded data removed]"
     },
     "metadata": {},
     "output_type": "display_data"
    }
   ],
   "execution_count": 24
  },
  {
   "metadata": {},
   "cell_type": "markdown",
   "source": [
    "***Interpreting Historgrams for Isolation Forest Score Thresholds***\n",
    "\n",
    "These plots help explain how the 1% and 3% anomaly thresholds were applied to the training and validation sets.\n",
    "\n",
    "- In the **training set**, the blue dashed line shows the **1% cut-off** (resting around 0.00), where only the most extreme points (far left tail) were flagged as anomalies.\n",
    "- In the **validation set**, the red dashed line marks the **3% threshold** (around the 0.05 mark), allowing a slightly broader range of less typical values to pass through.\n",
    "\n",
    "This approach supports our filtering logic — keeping LSTM-AE training focused on clean sequences while still testing it on more varied patterns. The different shapes of the two distributions are due to the difference in dataset sizes and thresholds, which is expected."
   ],
   "id": "23749e704df1b1a5"
  },
  {
   "metadata": {},
   "cell_type": "markdown",
   "source": [
    "#### Step 5 – LSTM-AE Sequence Construction (Training)\n",
    "**Goal**: Extract 30-day (720-hour) sequences from the training set for the LSTM Autoencoder.\n",
    "Sequences must contain no NaNs and no more than 14 anomalous points (~2% of the sequence) to preserve training stability while retaining data coverage."
   ],
   "id": "3ad7f76ce1d1b06b"
  },
  {
   "metadata": {
    "ExecuteTime": {
     "end_time": "2025-05-21T06:10:49.903679Z",
     "start_time": "2025-05-21T06:10:49.429816Z"
    }
   },
   "cell_type": "code",
   "source": [
    "# Step 5.1: Determine the optimal number of allowed anomalies per sequence\n",
    "\n",
    "\n",
    "# Run once compute the number of retained sequences for each threshold, then comment out (the code runs >25 mins!)\n",
    "#==============================\n",
    "# sequence_length = 720\n",
    "# stride = 1\n",
    "# thresholds = list(range(0, 31))  # 0 to 30 anomalies allowed\n",
    "# retention_counts = []\n",
    "#\n",
    "# for max_anomalies in thresholds:\n",
    "#     count_retained = 0\n",
    "#\n",
    "#     for start in range(0, len(df_train) - sequence_length + 1, stride):\n",
    "#         window = df_train.iloc[start:start + sequence_length]\n",
    "#\n",
    "#         if window.isna().any().any():\n",
    "#             continue\n",
    "#\n",
    "#         anomaly_count = window['is_if_anomaly'].sum()\n",
    "#         if anomaly_count <= max_anomalies:\n",
    "#             count_retained += 1\n",
    "#\n",
    "#     retention_counts.append(count_retained)\n",
    "# =============================\n",
    "\n",
    "# Reconstruct data due to kernel reset - comment out if running above\n",
    "# =============================\n",
    "thresholds = list(range(0, 31))\n",
    "retention_counts = [\n",
    "    3299, 13168, 20906, 26992, 33243, 38519, 41095, 44329, 46445, 48455,\n",
    "    51726, 54342, 56932, 57938, 59237, 60195, 60985, 61911, 63007, 63847,\n",
    "    64496, 65463, 65881, 66048, 66165, 66745, 67020, 67538, 67648, 67689, 67788\n",
    "]\n",
    "# =============================\n",
    "# Convert to DataFrame\n",
    "df = pd.DataFrame({'Max Anomalies': thresholds, 'Retained': retention_counts})\n",
    "\n",
    "# First derivative: gain per additional anomaly\n",
    "df['Gain'] = df['Retained'].diff().fillna(0)\n",
    "\n",
    "# Plot\n",
    "fig, ax1 = plt.subplots(figsize=(10, 6))\n",
    "\n",
    "color = 'tab:blue'\n",
    "ax1.set_xlabel('Max Anomalies Allowed per Sequence')\n",
    "ax1.set_ylabel('Retained Sequences', color=color)\n",
    "ax1.plot(df['Max Anomalies'], df['Retained'], marker='o', color=color, label='Retained Sequences')\n",
    "ax1.tick_params(axis='y', labelcolor=color)\n",
    "ax1.grid(True)\n",
    "\n",
    "# Plot gain on secondary axis\n",
    "ax2 = ax1.twinx()\n",
    "color = 'tab:red'\n",
    "ax2.set_ylabel('Gain (Δ Sequences)', color=color)\n",
    "ax2.plot(df['Max Anomalies'], df['Gain'], marker='x', color=color, linestyle='--', label='Gain per Step')\n",
    "ax2.tick_params(axis='y', labelcolor=color)\n",
    "\n",
    "# Add vertical line at likely sweet spot (e.g. 14)\n",
    "ax1.axvline(x=14, linestyle='--', color='grey', label='Chosen Threshold (14)')\n",
    "\n",
    "fig.tight_layout()\n",
    "plt.title(\"Retained Sequences vs. Max Allowed Anomalies (with Gain per Step)\")\n",
    "plt.show()"
   ],
   "id": "5e89a00b0383f05d",
   "outputs": [
    {
     "data": {
      "text/plain": [
       "<Figure size 1000x600 with 2 Axes>"
      ],
      "image/png": "[encoded data removed]"
     },
     "metadata": {},
     "output_type": "display_data"
    }
   ],
   "execution_count": 25
  },
  {
   "metadata": {},
   "cell_type": "markdown",
   "source": [
    "**Choosing the Maximum Number of Anomalies per Sequence - Understanding the Plot**\n",
    "\n",
    "This plot shows how the number of retained training sequences increases as we allow more anomalies per sequence.\n",
    "\n",
    "- Allowing up to **14 anomalies** retains around **59,000 sequences**.\n",
    "- This gives us a large, useful training set while still filtering out sequences with too many anomalies.\n",
    "- After 14, the number of extra sequences gained slows down, meaning we get less benefit from relaxing the filter further.\n",
    "- Choosing 14 as the cut-off gives us a good balance between **clean data** and **enough volume for training**.\n",
    "\n",
    "This follows advice from Trinh (2022) and Darban (2024), who suggest allowing around 2% noise to avoid underfitting while still keeping the training set reliable.\n"
   ],
   "id": "5e0065dbba955be3"
  },
  {
   "metadata": {
    "ExecuteTime": {
     "end_time": "2025-05-21T06:11:00.800427Z",
     "start_time": "2025-05-21T06:11:00.789431Z"
    }
   },
   "cell_type": "code",
   "source": [
    "# Step 5.2: Define Parameters and Initialise\n",
    "\n",
    "# Sequence parameters\n",
    "sequence_length = 720        # 30 days of hourly data\n",
    "sequence_stride = 1          # Slide 1 hour at a time\n",
    "max_allowed_anomalies = 14   # ~2% tolerance per sequence\n",
    "\n",
    "# Features for LSTM-AE\n",
    "lstm_input_cols_all = lstm_features + lstm_time_features\n",
    "\n",
    "# Initialise counters and sequence store\n",
    "debug_counts = {\n",
    "    'total': 0,\n",
    "    'has_nans': 0,\n",
    "    'has_anomalies': 0,\n",
    "    'added': 0\n",
    "}\n",
    "train_sequences = []"
   ],
   "id": "b1568981ff9cacf5",
   "outputs": [],
   "execution_count": 26
  },
  {
   "metadata": {
    "ExecuteTime": {
     "end_time": "2025-05-21T06:12:31.407507Z",
     "start_time": "2025-05-21T06:11:14.243468Z"
    }
   },
   "cell_type": "code",
   "source": [
    "# Step 5.3: Construct Sequences from df_train\n",
    "\n",
    "# Slide window across full training set\n",
    "for start in range(0, len(df_train) - sequence_length + 1, sequence_stride):\n",
    "    window = df_train.iloc[start:start + sequence_length]\n",
    "    debug_counts['total'] += 1\n",
    "\n",
    "    # Skip if any NaNs (e.g. due to rolling stats)\n",
    "    if window.isna().any().any():\n",
    "        debug_counts['has_nans'] += 1\n",
    "        continue\n",
    "\n",
    "    # Skip if anomaly count exceeds threshold\n",
    "    if window['is_if_anomaly'].sum() > max_allowed_anomalies:\n",
    "        debug_counts['has_anomalies'] += 1\n",
    "        continue\n",
    "\n",
    "    # If passed all checks, keep sequence\n",
    "    train_sequences.append(window[lstm_input_cols_all].values)\n",
    "    debug_counts['added'] += 1\n",
    "\n",
    "# Report stats\n",
    "print(\"Training sequence construction complete.\")\n",
    "print(f\"Window stats: {debug_counts}\")"
   ],
   "id": "6aea9e37e9be1f49",
   "outputs": [
    {
     "name": "stdout",
     "output_type": "stream",
     "text": [
      "Training sequence construction complete.\n",
      "Window stats: {'total': 69409, 'has_nans': 719, 'has_anomalies': 9453, 'added': 59237}\n"
     ]
    }
   ],
   "execution_count": 27
  },
  {
   "metadata": {},
   "cell_type": "markdown",
   "source": [
    "**Anomaly Threshold Experiment Summary (Training Set)**\n",
    "\n",
    "We tested how many training sequences could be created with different limits on how many anomalies are allowed per 720-hour (30-day) window.\n",
    "\n",
    "The number of sequences with NaNs at 719 is fully justified by the 720-hour minimum window affecting the first 719 hours due to rolling stats.\n",
    "\n",
    "With a maximum of 14 anomalies per sequence (around 2%), we kept over 59,000 training windows — about 87% of all usable sequences.\n",
    "\n",
    "Reducing the limit to 7 anomalies (around 1%) led to 44,000 valid sequences — a 25% drop. This shows how stricter filtering reduces training data volume.\n",
    "\n",
    "Studies by Darban (2024), Kulkarni et al. (2024), and Trinh (2022) support allowing 1–3% anomaly presence in training. It improves generalisation and avoids underfitting by keeping slight noise and variation. Based on this, we chose 14 anomalies as a balanced threshold for robust LSTM-AE training."
   ],
   "id": "b8ad428137719dd0"
  },
  {
   "metadata": {
    "ExecuteTime": {
     "end_time": "2025-05-21T06:13:08.909106Z",
     "start_time": "2025-05-21T06:13:07.586968Z"
    }
   },
   "cell_type": "code",
   "source": [
    "# Step 4.5: Stack into model-ready tensor\n",
    "# Format: (n_sequences, 720, n_features)\n",
    "\n",
    "X_train_lstm = np.stack(train_sequences)\n",
    "print(f\"LSTM training sequences: {X_train_lstm.shape}\")"
   ],
   "id": "fd248c952b9baf78",
   "outputs": [
    {
     "name": "stdout",
     "output_type": "stream",
     "text": [
      "LSTM training sequences: (59237, 720, 8)\n"
     ]
    }
   ],
   "execution_count": 28
  },
  {
   "metadata": {},
   "cell_type": "markdown",
   "source": [
    "#### Step 6 – LSTM-AE Sequence Construction (Validation)\n",
    "**Goal**: Extract 720-hour sequences from the validation set using the same feature columns, stride, and relaxed masking as in training.\n",
    "This set is used for threshold tuning, early stopping, and SHAP analysis."
   ],
   "id": "408a45564681253f"
  },
  {
   "metadata": {
    "ExecuteTime": {
     "end_time": "2025-05-21T06:13:17.202902Z",
     "start_time": "2025-05-21T06:13:17.186669Z"
    }
   },
   "cell_type": "code",
   "source": [
    "# Step 6.1: Define Parameters and Initialise\n",
    "\n",
    "val_sequences = []\n",
    "val_debug = {\n",
    "    'total': 0,\n",
    "    'has_nans': 0,\n",
    "    'has_anomalies': 0,\n",
    "    'added': 0\n",
    "}"
   ],
   "id": "dd600e62267b8f99",
   "outputs": [],
   "execution_count": 29
  },
  {
   "metadata": {
    "ExecuteTime": {
     "end_time": "2025-05-21T06:13:21.873953Z",
     "start_time": "2025-05-21T06:13:20.957876Z"
    }
   },
   "cell_type": "code",
   "source": [
    "# Step 6.2: Slide window across validation set\n",
    "\n",
    "for start in range(0, len(df_val) - sequence_length + 1, sequence_stride):\n",
    "    window = df_val.iloc[start:start + sequence_length]\n",
    "    val_debug['total'] += 1\n",
    "\n",
    "    if window.isna().any().any():\n",
    "        val_debug['has_nans'] += 1\n",
    "        continue\n",
    "\n",
    "    if window['is_if_anomaly'].sum() > max_allowed_anomalies:\n",
    "        val_debug['has_anomalies'] += 1\n",
    "        continue\n",
    "\n",
    "    val_sequences.append(window[lstm_input_cols_all].values)\n",
    "    val_debug['added'] += 1\n",
    "\n",
    "print(\"Validation sequence construction complete.\")\n",
    "print(f\"Validation window stats: {val_debug}\")"
   ],
   "id": "6e98f5dc83ea984e",
   "outputs": [
    {
     "name": "stdout",
     "output_type": "stream",
     "text": [
      "Validation sequence construction complete.\n",
      "Validation window stats: {'total': 1417, 'has_nans': 719, 'has_anomalies': 636, 'added': 62}\n"
     ]
    }
   ],
   "execution_count": 30
  },
  {
   "metadata": {
    "ExecuteTime": {
     "end_time": "2025-05-21T09:10:22.148475Z",
     "start_time": "2025-05-21T09:10:20.986893Z"
    }
   },
   "cell_type": "code",
   "source": [
    "# Step 6.4: Audit of the timestamps in the accepted sequences\n",
    "\n",
    "accepted_timestamps = set()\n",
    "\n",
    "for i in range(0, len(df_val) - 720 + 1, sequence_stride):\n",
    "    window = df_val.iloc[i:i+720]\n",
    "    if window.isna().any().any(): continue\n",
    "    if window['is_if_anomaly'].sum() > max_allowed_anomalies: continue\n",
    "    accepted_timestamps.update(window.index)\n",
    "\n",
    "accepted_timestamps = sorted(accepted_timestamps)\n",
    "print(f\"The {val_debug['added']} accepted sequences span {len(accepted_timestamps)} timestamps.\\n\"\n",
    "      f\"Sequence length: {sequence_length} \\n\"\n",
    "      f\"Stride: {sequence_stride} \\n\"\n",
    "      f\"{val_debug['added']} * {sequence_stride} + {sequence_length} - 1 = {val_debug['added'] * sequence_stride + sequence_length - 1}\"\n",
    "      )"
   ],
   "id": "68400c48db8cbfe6",
   "outputs": [
    {
     "name": "stdout",
     "output_type": "stream",
     "text": [
      "The 62 accepted sequences span 781 timestamps.\n",
      "Sequence length: 720 \n",
      "Stride: 1 \n",
      "62 * 1 + 720 - 1 = 781\n"
     ]
    }
   ],
   "execution_count": 61
  },
  {
   "metadata": {
    "ExecuteTime": {
     "end_time": "2025-05-21T09:10:39.795068Z",
     "start_time": "2025-05-21T09:10:39.781699Z"
    }
   },
   "cell_type": "code",
   "source": "print(f\"Sequences span from {min(accepted_timestamps)} to {max(accepted_timestamps)}\")",
   "id": "e8ac57ee0a92e06e",
   "outputs": [
    {
     "name": "stdout",
     "output_type": "stream",
     "text": [
      "Sequences span from 2025-03-11 03:00:00 to 2025-04-12 15:00:00\n"
     ]
    }
   ],
   "execution_count": 62
  },
  {
   "metadata": {},
   "cell_type": "markdown",
   "source": [
    "**Validation Sequence Coverage Summary**\n",
    "\n",
    "After filtering for NaNs and excessive anomalies, **62 validation sequences** were accepted for LSTM-AE evaluation. These sequences:\n",
    "\n",
    "- Span from **11 March to 12 April 2025**,\n",
    "- Each cover **720 hours (30 days)** with stride 1,\n",
    "- Follow the rule of allowing **no missing values** and **no more than 14 anomalies** per window.\n",
    "\n",
    "This filtering ensures that the model is tested on **clean and reliable data**, in line with guidance from Trinh (2022) and Darban (2024), who recommend allowing up to 2% anomaly tolerance.\n",
    "\n",
    "If wider coverage is needed, the anomaly threshold can be raised slightly.\n"
   ],
   "id": "7a42602eb955301f"
  },
  {
   "metadata": {},
   "cell_type": "code",
   "outputs": [
    {
     "name": "stdout",
     "output_type": "stream",
     "text": [
      "LSTM validation sequences: (62, 720, 8)\n"
     ]
    }
   ],
   "execution_count": 31,
   "source": [
    "# Step 6.3: Final shape: (n_val_sequences, 720, n_features)\n",
    "\n",
    "X_val_lstm = np.stack(val_sequences)\n",
    "print(f\"LSTM validation sequences: {X_val_lstm.shape}\")"
   ],
   "id": "e0f1a3c02b55c5c"
  },
  {
   "metadata": {},
   "cell_type": "markdown",
   "source": [
    "#### Step 7 – Save Processed Sequences and Transformed Data\n",
    "**Goal**: Persist key outputs including preprocessed training and validation dataframes, and their corresponding LSTM-AE tensors.\n",
    "This allows reuse for model training, threshold tuning, and interpretability tasks without re-running all preprocessing steps."
   ],
   "id": "e6c2f03351e07d37"
  },
  {
   "metadata": {
    "ExecuteTime": {
     "end_time": "2025-05-21T06:14:02.728173Z",
     "start_time": "2025-05-21T06:13:38.343661Z"
    }
   },
   "cell_type": "code",
   "source": [
    "# Save transformed DataFrames (optional but useful for SHAP/debugging)\n",
    "df_train.to_csv(os.path.join(MODEL_INPIT_OUTPUT_DIR, 'df_train_preprocessed.csv'))\n",
    "df_val.to_csv(os.path.join(MODEL_INPIT_OUTPUT_DIR, 'df_val_preprocessed.csv'))\n",
    "\n",
    "# Save LSTM-AE ready sequences\n",
    "np.save(os.path.join(MODEL_INPIT_OUTPUT_DIR, 'X_train_lstm.npy'), X_train_lstm)\n",
    "np.save(os.path.join(MODEL_INPIT_OUTPUT_DIR, 'X_val_lstm.npy'), X_val_lstm)"
   ],
   "id": "b6bd7413118fd30d",
   "outputs": [],
   "execution_count": 32
  },
  {
   "metadata": {},
   "cell_type": "markdown",
   "source": [
    "#### Step 8 – Train the LSTM Autoencoder\n",
    "**Goal**: Train an LSTM-based autoencoder on the 720-hour sequences (X_train_lstm) to learn normal weather patterns.\n",
    "During evaluation, sequences that produce high reconstruction error will be considered anomalous."
   ],
   "id": "c8d90784b4beca63"
  },
  {
   "metadata": {
    "ExecuteTime": {
     "end_time": "2025-05-21T06:14:06.857707Z",
     "start_time": "2025-05-21T06:14:05.684759Z"
    }
   },
   "cell_type": "code",
   "source": [
    "# Step 8.1: Define the LSTM-AE Architecture\n",
    "\n",
    "# Get sequence and feature dimensions\n",
    "timesteps = X_train_lstm.shape[1]  # e.g. 720\n",
    "n_features = X_train_lstm.shape[2] # e.g. 8\n",
    "\n",
    "# Define model\n",
    "input_layer = Input(shape=(timesteps, n_features))\n",
    "\n",
    "# Encoder\n",
    "encoded = LSTM(64, activation='tanh', return_sequences=True)(input_layer)\n",
    "encoded = LSTM(32, activation='tanh', return_sequences=False)(encoded)\n",
    "\n",
    "# Bottleneck\n",
    "bottleneck = RepeatVector(timesteps)(encoded)\n",
    "\n",
    "# Decoder\n",
    "decoded = LSTM(32, activation='tanh', return_sequences=True)(bottleneck)\n",
    "decoded = LSTM(64, activation='tanh', return_sequences=True)(decoded)\n",
    "decoded = TimeDistributed(Dense(n_features))(decoded)\n",
    "\n",
    "# Assemble\n",
    "autoencoder = Model(inputs=input_layer, outputs=decoded)\n",
    "autoencoder.compile(optimizer=Adam(learning_rate=0.001), loss='mae')\n",
    "\n",
    "# Print summary\n",
    "autoencoder.summary()"
   ],
   "id": "12ea1302fb9842fe",
   "outputs": [
    {
     "name": "stdout",
     "output_type": "stream",
     "text": [
      "Model: \"model\"\n",
      "_________________________________________________________________\n",
      " Layer (type)                Output Shape              Param #   \n",
      "=================================================================\n",
      " input_1 (InputLayer)        [(None, 720, 8)]          0         \n",
      "                                                                 \n",
      " lstm (LSTM)                 (None, 720, 64)           18688     \n",
      "                                                                 \n",
      " lstm_1 (LSTM)               (None, 32)                12416     \n",
      "                                                                 \n",
      " repeat_vector (RepeatVector  (None, 720, 32)          0         \n",
      " )                                                               \n",
      "                                                                 \n",
      " lstm_2 (LSTM)               (None, 720, 32)           8320      \n",
      "                                                                 \n",
      " lstm_3 (LSTM)               (None, 720, 64)           24832     \n",
      "                                                                 \n",
      " time_distributed (TimeDistr  (None, 720, 8)           520       \n",
      " ibuted)                                                         \n",
      "                                                                 \n",
      "=================================================================\n",
      "Total params: 64,776\n",
      "Trainable params: 64,776\n",
      "Non-trainable params: 0\n",
      "_________________________________________________________________\n"
     ]
    }
   ],
   "execution_count": 33
  },
  {
   "metadata": {},
   "cell_type": "markdown",
   "source": [
    "#### Step 9 – Train the LSTM Autoencoder with Early Stopping <br>\n",
    "**Goal**: Train the LSTM-AE to reconstruct normal sequences using MAE loss.\n",
    "Early stopping prevents overfitting by halting training when validation loss no longer improves."
   ],
   "id": "ce12a503332f08dc"
  },
  {
   "metadata": {},
   "cell_type": "markdown",
   "source": [
    "**Training Configuration Summary**\n",
    "\n",
    "We trained the LSTM Autoencoder using the following settings:\n",
    "\n",
    "Loss = 'mae' (Mean Absolute Error):\n",
    "MAE is used to measure how closely the model can reconstruct each value in a sequence. It is more robust to outliers than MSE and works well for threshold-based anomaly detection (Trinh, 2022; Darban, 2024).\n",
    "\n",
    "Batch size = 32:\n",
    "This is a typical batch size for time-series data. It allows the model to learn temporal dependencies while maintaining training efficiency (Kulkarni et al., 2024).\n",
    "\n",
    "Epochs = 100 with early stopping (patience = 5):\n",
    "Early stopping halts training when the validation loss stops improving. This prevents overfitting and saves resources (Bâra et al., 2024).\n",
    "\n",
    "ModelCheckpoint:\n",
    "We saved the best-performing model (based on validation loss) to a .h5 file for reuse. This avoids retraining and supports downstream analysis (Antwarg et al., 2021).\n",
    "\n",
    "Shuffle = True:\n",
    "Shuffling training sequences prevents the model from overfitting to local trends and improves generalisation (Darban, 2024).\n",
    "\n",
    "*Note: Track GPU usage during training, enter `cmd` in Windows search and enter `nvidia-smi -l 5`"
   ],
   "id": "42deab7341c94a7f"
  },
  {
   "metadata": {
    "ExecuteTime": {
     "end_time": "2025-05-19T15:09:49.636183Z",
     "start_time": "2025-05-19T13:50:01.794513Z"
    }
   },
   "cell_type": "code",
   "source": [
    "# Step 9.1: Train the LSTM Autoencoder model\n",
    "\n",
    "# uncomment the code below for retraining\n",
    "\n",
    "## Define callbacks\n",
    "# early_stopping = EarlyStopping(monitor='val_loss', patience=5, restore_best_weights=True)\n",
    "#\n",
    "# model_checkpoint = ModelCheckpoint(\n",
    "#     filepath='outputs/modelling/models/lstm_ae_best.h5',\n",
    "#     monitor='val_loss',\n",
    "#     save_best_only=True,\n",
    "#     verbose=1\n",
    "# )\n",
    "#\n",
    "# # Train the model\n",
    "# history = autoencoder.fit(\n",
    "#     X_train_lstm, X_train_lstm,\n",
    "#     epochs=100,\n",
    "#     batch_size=32,\n",
    "#     validation_data=(X_val_lstm, X_val_lstm),\n",
    "#     callbacks=[early_stopping, model_checkpoint],\n",
    "#     shuffle=True,\n",
    "#     verbose=2\n",
    "# )\n",
    "\n",
    "## Plot training history\n",
    "# plt.figure(figsize=(8, 4))\n",
    "# plt.plot(history.history['loss'], label='Train Loss')\n",
    "# plt.plot(history.history['val_loss'], label='Validation Loss')\n",
    "# plt.xlabel(\"Epoch\")\n",
    "# plt.ylabel(\"MAE Loss\")\n",
    "# plt.title(\"LSTM-AE Training Loss\")\n",
    "# plt.legend()\n",
    "# plt.grid(True)\n",
    "# plt.tight_layout()\n",
    "# plt.show()"
   ],
   "id": "fb9daf41db1eaede",
   "outputs": [
    {
     "name": "stdout",
     "output_type": "stream",
     "text": [
      "Epoch 1/100\n",
      "\n",
      "Epoch 1: val_loss improved from inf to 113.68618, saving model to outputs/modelling/models\\lstm_ae_best.h5\n",
      "1852/1852 - 309s - loss: 120.5731 - val_loss: 113.6862 - 309s/epoch - 167ms/step\n",
      "Epoch 2/100\n",
      "\n",
      "Epoch 2: val_loss improved from 113.68618 to 99.42087, saving model to outputs/modelling/models\\lstm_ae_best.h5\n",
      "1852/1852 - 299s - loss: 106.3257 - val_loss: 99.4209 - 299s/epoch - 161ms/step\n",
      "Epoch 3/100\n",
      "\n",
      "Epoch 3: val_loss improved from 99.42087 to 85.29520, saving model to outputs/modelling/models\\lstm_ae_best.h5\n",
      "1852/1852 - 292s - loss: 92.1637 - val_loss: 85.2952 - 292s/epoch - 158ms/step\n",
      "Epoch 4/100\n",
      "\n",
      "Epoch 4: val_loss improved from 85.29520 to 70.67432, saving model to outputs/modelling/models\\lstm_ae_best.h5\n",
      "1852/1852 - 300s - loss: 77.8746 - val_loss: 70.6743 - 300s/epoch - 162ms/step\n",
      "Epoch 5/100\n",
      "\n",
      "Epoch 5: val_loss improved from 70.67432 to 55.77272, saving model to outputs/modelling/models\\lstm_ae_best.h5\n",
      "1852/1852 - 302s - loss: 63.0640 - val_loss: 55.7727 - 302s/epoch - 163ms/step\n",
      "Epoch 6/100\n",
      "\n",
      "Epoch 6: val_loss improved from 55.77272 to 40.92035, saving model to outputs/modelling/models\\lstm_ae_best.h5\n",
      "1852/1852 - 305s - loss: 48.1434 - val_loss: 40.9203 - 305s/epoch - 164ms/step\n",
      "Epoch 7/100\n",
      "\n",
      "Epoch 7: val_loss improved from 40.92035 to 25.83264, saving model to outputs/modelling/models\\lstm_ae_best.h5\n",
      "1852/1852 - 292s - loss: 33.2255 - val_loss: 25.8326 - 292s/epoch - 158ms/step\n",
      "Epoch 8/100\n",
      "\n",
      "Epoch 8: val_loss improved from 25.83264 to 10.75995, saving model to outputs/modelling/models\\lstm_ae_best.h5\n",
      "1852/1852 - 299s - loss: 18.0963 - val_loss: 10.7599 - 299s/epoch - 162ms/step\n",
      "Epoch 9/100\n",
      "\n",
      "Epoch 9: val_loss improved from 10.75995 to 2.30659, saving model to outputs/modelling/models\\lstm_ae_best.h5\n",
      "1852/1852 - 294s - loss: 4.8416 - val_loss: 2.3066 - 294s/epoch - 159ms/step\n",
      "Epoch 10/100\n",
      "\n",
      "Epoch 10: val_loss did not improve from 2.30659\n",
      "1852/1852 - 293s - loss: 2.7397 - val_loss: 2.3243 - 293s/epoch - 158ms/step\n",
      "Epoch 11/100\n",
      "\n",
      "Epoch 11: val_loss improved from 2.30659 to 2.29130, saving model to outputs/modelling/models\\lstm_ae_best.h5\n",
      "1852/1852 - 302s - loss: 2.7396 - val_loss: 2.2913 - 302s/epoch - 163ms/step\n",
      "Epoch 12/100\n",
      "\n",
      "Epoch 12: val_loss did not improve from 2.29130\n",
      "1852/1852 - 298s - loss: 2.7397 - val_loss: 2.3205 - 298s/epoch - 161ms/step\n",
      "Epoch 13/100\n",
      "\n",
      "Epoch 13: val_loss did not improve from 2.29130\n",
      "1852/1852 - 306s - loss: 2.7397 - val_loss: 2.3305 - 306s/epoch - 165ms/step\n",
      "Epoch 14/100\n",
      "\n",
      "Epoch 14: val_loss did not improve from 2.29130\n",
      "1852/1852 - 300s - loss: 2.7398 - val_loss: 2.3172 - 300s/epoch - 162ms/step\n",
      "Epoch 15/100\n",
      "\n",
      "Epoch 15: val_loss did not improve from 2.29130\n",
      "1852/1852 - 295s - loss: 2.7397 - val_loss: 2.3284 - 295s/epoch - 159ms/step\n",
      "Epoch 16/100\n",
      "\n",
      "Epoch 16: val_loss did not improve from 2.29130\n",
      "1852/1852 - 297s - loss: 2.7398 - val_loss: 2.3018 - 297s/epoch - 161ms/step\n"
     ]
    },
    {
     "data": {
      "text/plain": [
       "<Figure size 800x400 with 1 Axes>"
      ],
      "image/png": "[encoded data removed]"
     },
     "metadata": {},
     "output_type": "display_data"
    }
   ],
   "execution_count": 33
  },
  {
   "metadata": {},
   "cell_type": "markdown",
   "source": [
    "**LSTM-AE Training Summary**\n",
    "\n",
    "The LSTM Autoencoder was trained for up to 100 epochs with early stopping (patience = 5) based on validation loss (MAE). The model achieved rapid and stable convergence:\n",
    "\n",
    "- **Initial val_loss:** 113.69\n",
    "- **Best val_loss:** 2.29 (Epoch 11)\n",
    "- **Training loss plateaued** around 2.74 from Epoch 9 onward\n",
    "- **No signs of overfitting** — val_loss continued improving until early stopping was triggered\n",
    "\n",
    "This learning behaviour suggests the model has successfully learned to reconstruct \"normal\" sequences and is now well-suited to flag outliers during inference. The final model was saved at Epoch 11.\n",
    "\n",
    "This performance is consistent with similar LSTM-AE implementations in time series anomaly detection literature (Trinh, 2022; Darban, 2024; Yang, 2023), where MAE values in the 2–5 range were typical after normalisation and robust sequence filtering.\n"
   ],
   "id": "fb931cac254d22ea"
  },
  {
   "metadata": {},
   "cell_type": "markdown",
   "source": [
    "#### Step 10: Evaluate the trained LSTM-AE model using the validation set\n",
    "**Goal**: The aim of this step is to evaluate the trained LSTM Autoencoder on the validation set and assess how well it reconstructs the input weather sequences.\n",
    "\n",
    "This is achieved by calculating the reconstruction error (mean absolute error, MAE) for each hour, then aggregating these errors by timestamp to identify potential anomalies. This timestamp-level scoring will later be merged into `df_val` to support downstream interpretability, dashboard display, and hybrid labelling.\n",
    "\n",
    "This step ensures that we:\n",
    "- Detect **pattern anomalies** missed by Isolation Forest (IF),\n",
    "- Provide consistent scoring per hour for explainability,\n",
    "- Flag timestamps with unexpectedly high reconstruction error.\n",
    "\n",
    "This approach aligns with Trinh (2022), Kulkarni (2024), and Bâra (2024), who all use reconstruction error statistics and percentile-based thresholds to identify temporal outliers."
   ],
   "id": "72aac7e57736928f"
  },
  {
   "metadata": {
    "ExecuteTime": {
     "end_time": "2025-05-21T10:03:55.453089Z",
     "start_time": "2025-05-21T10:03:53.982679Z"
    }
   },
   "cell_type": "code",
   "source": [
    "# Step 10.1: Compute mean reconstruction errors per timestamp\n",
    "\n",
    "# Predict reconstruction from trained LSTM-AE\n",
    "recon_val = autoencoder.predict(X_val_lstm, verbose=1)\n",
    "\n",
    "# Compute per-timestep MAE (across features)\n",
    "reconstruction_errors = np.mean(np.abs(X_val_lstm - recon_val), axis=2)  # shape: (n_sequences, 720)\n",
    "\n",
    "# Rebuild true validation sequence timestamps from filtered logic (Step 6.2)\n",
    "valid_sequence_starts = []  # only for accepted sequences\n",
    "\n",
    "for i in range(0, len(df_val) - 720 + 1, sequence_stride):\n",
    "    window = df_val.iloc[i:i+720]\n",
    "    if window.isna().any().any(): continue\n",
    "    if window['is_if_anomaly'].sum() > max_allowed_anomalies: continue\n",
    "    valid_sequence_starts.append(window.index[0])\n",
    "\n",
    "# Sanity check\n",
    "assert len(valid_sequence_starts) == reconstruction_errors.shape[0], \"Mismatch in accepted sequence count!\"\n",
    "\n",
    "# Flatten timestamps and errors\n",
    "timestamps = []\n",
    "errors = []\n",
    "\n",
    "for i in range(len(valid_sequence_starts)):\n",
    "    start_time = valid_sequence_starts[i]\n",
    "    for j in range(720):\n",
    "        timestamps.append(start_time + pd.Timedelta(hours=j))\n",
    "        errors.append(reconstruction_errors[i, j])\n",
    "\n",
    "# Create tidy DataFrame\n",
    "df_lstm_recon_errors = pd.DataFrame({\n",
    "    'timestamp': timestamps,\n",
    "    'reconstruction_error': errors\n",
    "})\n",
    "\n",
    "# Sort and preview\n",
    "df_lstm_recon_errors.sort_values('timestamp', inplace=True)\n",
    "df_lstm_recon_errors.reset_index(drop=True, inplace=True)"
   ],
   "id": "10bd2cb5579b433b",
   "outputs": [
    {
     "name": "stdout",
     "output_type": "stream",
     "text": [
      "2/2 [==============================] - 0s 184ms/step\n"
     ]
    }
   ],
   "execution_count": 98
  },
  {
   "metadata": {},
   "cell_type": "markdown",
   "source": [
    "**Why we need the mean MAE per timestamp**\n",
    "\n",
    "Each hour in the validation set may appear in multiple sequences due to the sliding window.\n",
    "\n",
    "To ensure each timestamp has one meaningful score, we compute the **mean reconstruction error (MAE) per timestamp**. This gives a fair, unbiased view of how well the model reconstructed that hour, in line with best practice for multistep time-series evaluation (Wenig, 2022; Darban, 2024).\n"
   ],
   "id": "9b99fe3f2e9ce815"
  },
  {
   "metadata": {
    "ExecuteTime": {
     "end_time": "2025-05-21T10:03:57.364184Z",
     "start_time": "2025-05-21T10:03:57.350299Z"
    }
   },
   "cell_type": "code",
   "source": [
    "# Step 10.1 continued: Compute mean LSTM-AE reconstruction error (MAE) per timestamp\n",
    "\n",
    "df_lstm_recon_errors_agg = (\n",
    "    df_lstm_recon_errors\n",
    "    .groupby('timestamp')['reconstruction_error']\n",
    "    .mean()\n",
    "    .reset_index()\n",
    "    .rename(columns={'reconstruction_error': 'lstm_score'})\n",
    ")\n",
    "\n",
    "df_lstm_recon_errors_agg[\"lstm_score\"].describe()"
   ],
   "id": "d6da5657e69c4df7",
   "outputs": [
    {
     "data": {
      "text/plain": [
       "count    781.000000\n",
       "mean     129.772280\n",
       "std        1.371748\n",
       "min      126.213227\n",
       "25%      129.041052\n",
       "50%      129.978258\n",
       "75%      130.747235\n",
       "max      132.554840\n",
       "Name: lstm_score, dtype: float64"
      ]
     },
     "execution_count": 99,
     "metadata": {},
     "output_type": "execute_result"
    }
   ],
   "execution_count": 99
  },
  {
   "metadata": {
    "ExecuteTime": {
     "end_time": "2025-05-21T10:03:59.019002Z",
     "start_time": "2025-05-21T10:03:58.606659Z"
    }
   },
   "cell_type": "code",
   "source": [
    "# Step 10.2: Plotting mean reconstruction errors per timestamp over time\n",
    "\n",
    "plt.figure(figsize=(14, 6))\n",
    "plt.plot(df_lstm_recon_errors_agg['timestamp'], df_lstm_recon_errors_agg['lstm_score'], color='steelblue', linewidth=0.6)\n",
    "plt.title(\"LSTM-AE Reconstruction Error Over Time (Validation Set)\")\n",
    "plt.xlabel(\"Timestamp\")\n",
    "plt.ylabel(\"Reconstruction Error (MAE)\")\n",
    "plt.grid(True)\n",
    "plt.tight_layout()\n",
    "plt.show()"
   ],
   "id": "a6de8b9b120dda73",
   "outputs": [
    {
     "data": {
      "text/plain": [
       "<Figure size 1400x600 with 1 Axes>"
      ],
      "image/png": "[encoded data removed]"
     },
     "metadata": {},
     "output_type": "display_data"
    }
   ],
   "execution_count": 100
  },
  {
   "metadata": {},
   "cell_type": "markdown",
   "source": [
    "Next, we merge the per-timestamp LSTM-AE reconstruction error (`lstm_score`) into `df_val` to provide a unified DataFrame for anomaly scoring and downstream explainability.\n",
    "\n",
    "This ensures each row now contains:\n",
    "- Input weather features,\n",
    "- `if_score` and `is_if_anomaly` from Isolation Forest,\n",
    "- `lstm_score` from the Autoencoder.\n",
    "\n",
    "This merged structure supports hybrid labelling (e.g. compound anomaly detection), explainable AI attribution (e.g. TreeSHAP, IG), and dashboard reporting."
   ],
   "id": "8eebe0c948595585"
  },
  {
   "metadata": {
    "ExecuteTime": {
     "end_time": "2025-05-21T10:10:04.434056Z",
     "start_time": "2025-05-21T10:10:04.396056Z"
    }
   },
   "cell_type": "code",
   "source": [
    "# Step 10.3 Merge the LSTM-AE score (mean MAE per timestamp) into df_val\n",
    "\n",
    "# Join using timestamp alignment (df_val index is datetime-based)\n",
    "\n",
    "if 'lstm_score' in df_val.columns:\n",
    "    df_val.drop(columns='lstm_score', inplace=True)\n",
    "\n",
    "df_val = df_val.merge(\n",
    "    df_lstm_recon_errors_agg,\n",
    "    how='left',\n",
    "    left_index=True,\n",
    "    right_on='timestamp'\n",
    ").set_index('timestamp')\n",
    "\n",
    "\n",
    "df_val.head()"
   ],
   "id": "91e4fb2c8afd78cd",
   "outputs": [
    {
     "data": {
      "text/plain": [
       "                     temperature_2m  surface_pressure  wind_speed_10m  \\\n",
       "timestamp                                                               \n",
       "2025-02-01 00:00:00             3.8            1025.9             2.9   \n",
       "2025-02-01 01:00:00             3.6            1026.1             3.4   \n",
       "2025-02-01 02:00:00             5.4            1026.3             4.4   \n",
       "2025-02-01 03:00:00             5.6            1026.5             6.9   \n",
       "2025-02-01 04:00:00             5.2            1026.6             6.6   \n",
       "\n",
       "                     precipitation  temperature_2m_z  surface_pressure_z  \\\n",
       "timestamp                                                                  \n",
       "2025-02-01 00:00:00            0.0               NaN                 NaN   \n",
       "2025-02-01 01:00:00            0.0               NaN                 NaN   \n",
       "2025-02-01 02:00:00            0.0               NaN                 NaN   \n",
       "2025-02-01 03:00:00            0.0               NaN                 NaN   \n",
       "2025-02-01 04:00:00            0.0               NaN                 NaN   \n",
       "\n",
       "                     wind_r  precip_log  precip_z_12h  hour  hour_sin  \\\n",
       "timestamp                                                               \n",
       "2025-02-01 00:00:00     NaN         0.0           NaN     0  0.000000   \n",
       "2025-02-01 01:00:00     NaN         0.0           NaN     1  0.258819   \n",
       "2025-02-01 02:00:00     NaN         0.0           NaN     2  0.500000   \n",
       "2025-02-01 03:00:00     NaN         0.0           NaN     3  0.707107   \n",
       "2025-02-01 04:00:00     NaN         0.0           NaN     4  0.866025   \n",
       "\n",
       "                     hour_cos  month  month_sin  month_cos  if_score  \\\n",
       "timestamp                                                              \n",
       "2025-02-01 00:00:00  1.000000      2   0.866025        0.5       NaN   \n",
       "2025-02-01 01:00:00  0.965926      2   0.866025        0.5       NaN   \n",
       "2025-02-01 02:00:00  0.866025      2   0.866025        0.5       NaN   \n",
       "2025-02-01 03:00:00  0.707107      2   0.866025        0.5       NaN   \n",
       "2025-02-01 04:00:00  0.500000      2   0.866025        0.5       NaN   \n",
       "\n",
       "                     is_anomaly  lstm_score_x  lstm_score_y  lstm_score  \n",
       "timestamp                                                                \n",
       "2025-02-01 00:00:00       False           NaN           NaN         NaN  \n",
       "2025-02-01 01:00:00       False           NaN           NaN         NaN  \n",
       "2025-02-01 02:00:00       False           NaN           NaN         NaN  \n",
       "2025-02-01 03:00:00       False           NaN           NaN         NaN  \n",
       "2025-02-01 04:00:00       False           NaN           NaN         NaN  "
      ],
      "text/html": [
       "<div>\n",
       "<style scoped>\n",
       "    .dataframe tbody tr th:only-of-type {\n",
       "        vertical-align: middle;\n",
       "    }\n",
       "\n",
       "    .dataframe tbody tr th {\n",
       "        vertical-align: top;\n",
       "    }\n",
       "\n",
       "    .dataframe thead th {\n",
       "        text-align: right;\n",
       "    }\n",
       "</style>\n",
       "<table border=\"1\" class=\"dataframe\">\n",
       "  <thead>\n",
       "    <tr style=\"text-align: right;\">\n",
       "      <th></th>\n",
       "      <th>temperature_2m</th>\n",
       "      <th>surface_pressure</th>\n",
       "      <th>wind_speed_10m</th>\n",
       "      <th>precipitation</th>\n",
       "      <th>temperature_2m_z</th>\n",
       "      <th>surface_pressure_z</th>\n",
       "      <th>wind_r</th>\n",
       "      <th>precip_log</th>\n",
       "      <th>precip_z_12h</th>\n",
       "      <th>hour</th>\n",
       "      <th>hour_sin</th>\n",
       "      <th>hour_cos</th>\n",
       "      <th>month</th>\n",
       "      <th>month_sin</th>\n",
       "      <th>month_cos</th>\n",
       "      <th>if_score</th>\n",
       "      <th>is_anomaly</th>\n",
       "      <th>lstm_score_x</th>\n",
       "      <th>lstm_score_y</th>\n",
       "      <th>lstm_score</th>\n",
       "    </tr>\n",
       "    <tr>\n",
       "      <th>timestamp</th>\n",
       "      <th></th>\n",
       "      <th></th>\n",
       "      <th></th>\n",
       "      <th></th>\n",
       "      <th></th>\n",
       "      <th></th>\n",
       "      <th></th>\n",
       "      <th></th>\n",
       "      <th></th>\n",
       "      <th></th>\n",
       "      <th></th>\n",
       "      <th></th>\n",
       "      <th></th>\n",
       "      <th></th>\n",
       "      <th></th>\n",
       "      <th></th>\n",
       "      <th></th>\n",
       "      <th></th>\n",
       "      <th></th>\n",
       "      <th></th>\n",
       "    </tr>\n",
       "  </thead>\n",
       "  <tbody>\n",
       "    <tr>\n",
       "      <th>2025-02-01 00:00:00</th>\n",
       "      <td>3.8</td>\n",
       "      <td>1025.9</td>\n",
       "      <td>2.9</td>\n",
       "      <td>0.0</td>\n",
       "      <td>NaN</td>\n",
       "      <td>NaN</td>\n",
       "      <td>NaN</td>\n",
       "      <td>0.0</td>\n",
       "      <td>NaN</td>\n",
       "      <td>0</td>\n",
       "      <td>0.000000</td>\n",
       "      <td>1.000000</td>\n",
       "      <td>2</td>\n",
       "      <td>0.866025</td>\n",
       "      <td>0.5</td>\n",
       "      <td>NaN</td>\n",
       "      <td>False</td>\n",
       "      <td>NaN</td>\n",
       "      <td>NaN</td>\n",
       "      <td>NaN</td>\n",
       "    </tr>\n",
       "    <tr>\n",
       "      <th>2025-02-01 01:00:00</th>\n",
       "      <td>3.6</td>\n",
       "      <td>1026.1</td>\n",
       "      <td>3.4</td>\n",
       "      <td>0.0</td>\n",
       "      <td>NaN</td>\n",
       "      <td>NaN</td>\n",
       "      <td>NaN</td>\n",
       "      <td>0.0</td>\n",
       "      <td>NaN</td>\n",
       "      <td>1</td>\n",
       "      <td>0.258819</td>\n",
       "      <td>0.965926</td>\n",
       "      <td>2</td>\n",
       "      <td>0.866025</td>\n",
       "      <td>0.5</td>\n",
       "      <td>NaN</td>\n",
       "      <td>False</td>\n",
       "      <td>NaN</td>\n",
       "      <td>NaN</td>\n",
       "      <td>NaN</td>\n",
       "    </tr>\n",
       "    <tr>\n",
       "      <th>2025-02-01 02:00:00</th>\n",
       "      <td>5.4</td>\n",
       "      <td>1026.3</td>\n",
       "      <td>4.4</td>\n",
       "      <td>0.0</td>\n",
       "      <td>NaN</td>\n",
       "      <td>NaN</td>\n",
       "      <td>NaN</td>\n",
       "      <td>0.0</td>\n",
       "      <td>NaN</td>\n",
       "      <td>2</td>\n",
       "      <td>0.500000</td>\n",
       "      <td>0.866025</td>\n",
       "      <td>2</td>\n",
       "      <td>0.866025</td>\n",
       "      <td>0.5</td>\n",
       "      <td>NaN</td>\n",
       "      <td>False</td>\n",
       "      <td>NaN</td>\n",
       "      <td>NaN</td>\n",
       "      <td>NaN</td>\n",
       "    </tr>\n",
       "    <tr>\n",
       "      <th>2025-02-01 03:00:00</th>\n",
       "      <td>5.6</td>\n",
       "      <td>1026.5</td>\n",
       "      <td>6.9</td>\n",
       "      <td>0.0</td>\n",
       "      <td>NaN</td>\n",
       "      <td>NaN</td>\n",
       "      <td>NaN</td>\n",
       "      <td>0.0</td>\n",
       "      <td>NaN</td>\n",
       "      <td>3</td>\n",
       "      <td>0.707107</td>\n",
       "      <td>0.707107</td>\n",
       "      <td>2</td>\n",
       "      <td>0.866025</td>\n",
       "      <td>0.5</td>\n",
       "      <td>NaN</td>\n",
       "      <td>False</td>\n",
       "      <td>NaN</td>\n",
       "      <td>NaN</td>\n",
       "      <td>NaN</td>\n",
       "    </tr>\n",
       "    <tr>\n",
       "      <th>2025-02-01 04:00:00</th>\n",
       "      <td>5.2</td>\n",
       "      <td>1026.6</td>\n",
       "      <td>6.6</td>\n",
       "      <td>0.0</td>\n",
       "      <td>NaN</td>\n",
       "      <td>NaN</td>\n",
       "      <td>NaN</td>\n",
       "      <td>0.0</td>\n",
       "      <td>NaN</td>\n",
       "      <td>4</td>\n",
       "      <td>0.866025</td>\n",
       "      <td>0.500000</td>\n",
       "      <td>2</td>\n",
       "      <td>0.866025</td>\n",
       "      <td>0.5</td>\n",
       "      <td>NaN</td>\n",
       "      <td>False</td>\n",
       "      <td>NaN</td>\n",
       "      <td>NaN</td>\n",
       "      <td>NaN</td>\n",
       "    </tr>\n",
       "  </tbody>\n",
       "</table>\n",
       "</div>"
      ]
     },
     "execution_count": 103,
     "metadata": {},
     "output_type": "execute_result"
    }
   ],
   "execution_count": 103
  },
  {
   "metadata": {},
   "cell_type": "markdown",
   "source": [
    "Below we compared three common thresholding methods to flag potential anomalies in LSTM-AE reconstruction scores:\n",
    "\n",
    "- **Mean + 2×Standard Deviation** (a classic statistical cut-off),\n",
    "- **95th percentile** (top 5% of scores),\n",
    "- **99th percentile** (very strict, top 1%).\n",
    "\n",
    "These methods are widely used in unsupervised time-series anomaly detection. Trinh (2022) and Kulkarni (2024) recommend percentile-based thresholds for their adaptability, while Bâra (2024) applies similar thresholds in hybrid weather anomaly pipelines. Wenig (2022) further supports this in a review of modern multivariate anomaly detection techniques."
   ],
   "id": "aba9a03718d0966c"
  },
  {
   "metadata": {
    "ExecuteTime": {
     "end_time": "2025-05-21T10:47:45.315988Z",
     "start_time": "2025-05-21T10:47:45.297784Z"
    }
   },
   "cell_type": "code",
   "source": [
    "# Step 10.4: Compute anomaly thresholds using three methods for lstm_score\n",
    "\n",
    "# Drop NA values in case some timestamps were unmatched during merge\n",
    "valid_lstm_scores = df_val['lstm_score'].dropna()\n",
    "\n",
    "# A. Mean + 2×Standard Deviation\n",
    "mean_lstm = valid_lstm_scores.mean()\n",
    "std_lstm = valid_lstm_scores.std()\n",
    "threshold_mean_2std = mean_lstm + 2 * std_lstm\n",
    "\n",
    "# B. 95th Percentile\n",
    "threshold_95 = valid_lstm_scores.quantile(0.95)\n",
    "\n",
    "# C. 99th Percentile\n",
    "threshold_99 = valid_lstm_scores.quantile(0.99)\n",
    "\n",
    "# Show thresholds\n",
    "print(\"Thresholds for LSTM-AE reconstruction error:\")\n",
    "print(f\"Mean + 2×Std: {threshold_mean_2std:.4f}\")\n",
    "print(f\"95th Percentile: {threshold_95:.4f}\")\n",
    "print(f\"99th Percentile: {threshold_99:.4f}\")\n"
   ],
   "id": "93af924243d2fa4c",
   "outputs": [
    {
     "name": "stdout",
     "output_type": "stream",
     "text": [
      "Thresholds for LSTM-AE reconstruction error:\n",
      "Mean + 2×Std: 132.5158\n",
      "95th Percentile: 131.7738\n",
      "99th Percentile: 132.1334\n"
     ]
    }
   ],
   "execution_count": 113
  },
  {
   "metadata": {
    "ExecuteTime": {
     "end_time": "2025-05-21T10:47:46.505505Z",
     "start_time": "2025-05-21T10:47:46.035659Z"
    }
   },
   "cell_type": "code",
   "source": [
    "# Step 10.5: Visualise reconstruction errors with thresholds\n",
    "\n",
    "# Plot histogram of reconstruction errors with thresholds\n",
    "plt.figure(figsize=(12, 6))\n",
    "plt.hist(valid_lstm_scores, bins=100, color='lightsteelblue', edgecolor='black', alpha=0.8)\n",
    "\n",
    "# Add threshold lines\n",
    "plt.axvline(threshold_mean_2std, color='darkgreen', linestyle='--', linewidth=2, label='Mean + 2×Std')\n",
    "plt.axvline(threshold_95, color='orange', linestyle='--', linewidth=2, label='95th Percentile')\n",
    "plt.axvline(threshold_99, color='red', linestyle='--', linewidth=2, label='99th Percentile')\n",
    "\n",
    "# Labels and formatting\n",
    "plt.title(\"Distribution of LSTM-AE Reconstruction Errors (Validation Set)\")\n",
    "plt.xlabel(\"Reconstruction Error (MAE)\")\n",
    "plt.ylabel(\"Frequency\")\n",
    "plt.legend()\n",
    "plt.grid(True)\n",
    "plt.tight_layout()\n",
    "plt.show()"
   ],
   "id": "2157a6c3770fe5d3",
   "outputs": [
    {
     "data": {
      "text/plain": [
       "<Figure size 1200x600 with 1 Axes>"
      ],
      "image/png": "[encoded data removed]"
     },
     "metadata": {},
     "output_type": "display_data"
    }
   ],
   "execution_count": 114
  },
  {
   "metadata": {},
   "cell_type": "markdown",
   "source": [
    "**Interpretation of the Histogram**\n",
    "\n",
    "The histogram shows a **left-skewed** distribution, where most timestamps have similar reconstruction scores and a few are reconstructed extremely well.\n",
    "\n",
    "This makes sense: we only used **1 month of clean, accepted sequences** (from March to early April). These were selected to be stable and reliable — so it's normal that the LSTM-AE reconstructed them well.\n",
    "\n",
    "After reviewing the distribution, we selected the **95th percentile** as our final threshold. This method is widely used in unsupervised time-series anomaly detection because it adapts well to real-world score distributions and avoids relying on normality assumptions (Trinh, 2022; Kulkarni, 2024; Bara, 2024). It also offers a balance between sensitivity and precision, unlike stricter thresholds that risk missing useful signals.\n"
   ],
   "id": "61c2b8576b4230d6"
  },
  {
   "metadata": {
    "ExecuteTime": {
     "end_time": "2025-05-21T10:53:07.348190Z",
     "start_time": "2025-05-21T10:53:07.320437Z"
    }
   },
   "cell_type": "code",
   "source": [
    "# Step 10.6: Flag anomalies using the 95th percentile\n",
    "\n",
    "# Reuse or recompute the threshold\n",
    "threshold_95 = df_val['lstm_score'].dropna().quantile(0.95)\n",
    "\n",
    "# Create a new boolean flag\n",
    "df_val['is_lstm_anomaly'] = df_val['lstm_score'] > threshold_95\n",
    "\n",
    "# Optional: check how many were flagged\n",
    "n_anomalies = df_val['is_lstm_anomaly'].sum()\n",
    "print(f\"Timestamps flagged as LSTM anomalies: {n_anomalies}\")"
   ],
   "id": "a591e42e88433a53",
   "outputs": [
    {
     "name": "stdout",
     "output_type": "stream",
     "text": [
      "Timestamps flagged as LSTM anomalies: 39\n"
     ]
    }
   ],
   "execution_count": 115
  },
  {
   "metadata": {},
   "cell_type": "code",
   "outputs": [],
   "execution_count": null,
   "source": "",
   "id": "f7625a7789e164a5"
  }
 ],
 "metadata": {
  "kernelspec": {
   "display_name": "Python 3",
   "language": "python",
   "name": "python3"
  },
  "language_info": {
   "codemirror_mode": {
    "name": "ipython",
    "version": 2
   },
   "file_extension": ".py",
   "mimetype": "text/x-python",
   "name": "python",
   "nbconvert_exporter": "python",
   "pygments_lexer": "ipython2",
   "version": "2.7.6"
  }
 },
 "nbformat": 4,
 "nbformat_minor": 5
}
