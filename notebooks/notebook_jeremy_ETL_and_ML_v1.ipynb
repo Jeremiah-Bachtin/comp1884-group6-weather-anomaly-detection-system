{
 "cells": [
  {
   "metadata": {},
   "cell_type": "markdown",
   "source": "## Data Preprocessing & Modelling Pipeline",
   "id": "3c1b69603cea15be"
  },
  {
   "metadata": {
    "ExecuteTime": {
     "end_time": "2025-05-17T15:47:47.745239Z",
     "start_time": "2025-05-17T15:47:47.736345Z"
    }
   },
   "cell_type": "code",
   "source": [
    "import pandas as pd\n",
    "import numpy as np\n",
    "import os\n",
    "from sklearn.ensemble import IsolationForest\n",
    "import joblib\n",
    "from utils.find_root import find_project_root"
   ],
   "id": "2d2d5f1a37782522",
   "outputs": [],
   "execution_count": 90
  },
  {
   "metadata": {
    "ExecuteTime": {
     "end_time": "2025-05-17T15:47:47.834904Z",
     "start_time": "2025-05-17T15:47:47.827808Z"
    }
   },
   "cell_type": "code",
   "source": [
    "# Retrieve the project root dynamically\n",
    "project_root = find_project_root()\n",
    "os.chdir(project_root)\n",
    "\n",
    "MODEL_OUTPUT_DIR = \"outputs/modelling/models/\"\n",
    "\n",
    "# Ensure output directories exist\n",
    "os.makedirs(MODEL_OUTPUT_DIR, exist_ok=True)"
   ],
   "id": "95d7b0549f2bae68",
   "outputs": [],
   "execution_count": 91
  },
  {
   "metadata": {},
   "cell_type": "markdown",
   "source": "#### Step 0 - Dataset Loading and Splitting",
   "id": "37fd4474402b8c7b"
  },
  {
   "metadata": {
    "ExecuteTime": {
     "end_time": "2025-05-17T15:47:48.023857Z",
     "start_time": "2025-05-17T15:47:47.890964Z"
    }
   },
   "cell_type": "code",
   "source": [
    "# Step 0.1 Load dataset\n",
    "DATASET_PATH = \"data/processed/historical_merged/historical_IFS_merged_201702_to_202504.csv\"\n",
    "df = pd.read_csv(DATASET_PATH, parse_dates=['date'], index_col='date')\n",
    "df = df.asfreq('h')\n",
    "df"
   ],
   "id": "6fcfeb9dce058167",
   "outputs": [
    {
     "data": {
      "text/plain": [
       "                     temperature_2m  surface_pressure  precipitation  \\\n",
       "date                                                                   \n",
       "2017-02-01 00:00:00             9.6            1008.2            0.0   \n",
       "2017-02-01 01:00:00             9.6            1007.4            0.0   \n",
       "2017-02-01 02:00:00             9.9            1006.8            0.6   \n",
       "2017-02-01 03:00:00            10.0            1006.5            0.3   \n",
       "2017-02-01 04:00:00            10.2            1006.2            0.3   \n",
       "...                             ...               ...            ...   \n",
       "2025-04-30 19:00:00            25.1            1016.6            0.0   \n",
       "2025-04-30 20:00:00            23.0            1016.8            0.0   \n",
       "2025-04-30 21:00:00            20.7            1017.3            0.0   \n",
       "2025-04-30 22:00:00            19.2            1017.5            0.0   \n",
       "2025-04-30 23:00:00            18.0            1017.5            0.0   \n",
       "\n",
       "                     wind_speed_10m  \n",
       "date                                 \n",
       "2017-02-01 00:00:00            14.6  \n",
       "2017-02-01 01:00:00            14.6  \n",
       "2017-02-01 02:00:00            15.1  \n",
       "2017-02-01 03:00:00            15.0  \n",
       "2017-02-01 04:00:00            15.5  \n",
       "...                             ...  \n",
       "2025-04-30 19:00:00            10.1  \n",
       "2025-04-30 20:00:00            11.9  \n",
       "2025-04-30 21:00:00            11.9  \n",
       "2025-04-30 22:00:00             9.0  \n",
       "2025-04-30 23:00:00             7.0  \n",
       "\n",
       "[72264 rows x 4 columns]"
      ],
      "text/html": [
       "<div>\n",
       "<style scoped>\n",
       "    .dataframe tbody tr th:only-of-type {\n",
       "        vertical-align: middle;\n",
       "    }\n",
       "\n",
       "    .dataframe tbody tr th {\n",
       "        vertical-align: top;\n",
       "    }\n",
       "\n",
       "    .dataframe thead th {\n",
       "        text-align: right;\n",
       "    }\n",
       "</style>\n",
       "<table border=\"1\" class=\"dataframe\">\n",
       "  <thead>\n",
       "    <tr style=\"text-align: right;\">\n",
       "      <th></th>\n",
       "      <th>temperature_2m</th>\n",
       "      <th>surface_pressure</th>\n",
       "      <th>precipitation</th>\n",
       "      <th>wind_speed_10m</th>\n",
       "    </tr>\n",
       "    <tr>\n",
       "      <th>date</th>\n",
       "      <th></th>\n",
       "      <th></th>\n",
       "      <th></th>\n",
       "      <th></th>\n",
       "    </tr>\n",
       "  </thead>\n",
       "  <tbody>\n",
       "    <tr>\n",
       "      <th>2017-02-01 00:00:00</th>\n",
       "      <td>9.6</td>\n",
       "      <td>1008.2</td>\n",
       "      <td>0.0</td>\n",
       "      <td>14.6</td>\n",
       "    </tr>\n",
       "    <tr>\n",
       "      <th>2017-02-01 01:00:00</th>\n",
       "      <td>9.6</td>\n",
       "      <td>1007.4</td>\n",
       "      <td>0.0</td>\n",
       "      <td>14.6</td>\n",
       "    </tr>\n",
       "    <tr>\n",
       "      <th>2017-02-01 02:00:00</th>\n",
       "      <td>9.9</td>\n",
       "      <td>1006.8</td>\n",
       "      <td>0.6</td>\n",
       "      <td>15.1</td>\n",
       "    </tr>\n",
       "    <tr>\n",
       "      <th>2017-02-01 03:00:00</th>\n",
       "      <td>10.0</td>\n",
       "      <td>1006.5</td>\n",
       "      <td>0.3</td>\n",
       "      <td>15.0</td>\n",
       "    </tr>\n",
       "    <tr>\n",
       "      <th>2017-02-01 04:00:00</th>\n",
       "      <td>10.2</td>\n",
       "      <td>1006.2</td>\n",
       "      <td>0.3</td>\n",
       "      <td>15.5</td>\n",
       "    </tr>\n",
       "    <tr>\n",
       "      <th>...</th>\n",
       "      <td>...</td>\n",
       "      <td>...</td>\n",
       "      <td>...</td>\n",
       "      <td>...</td>\n",
       "    </tr>\n",
       "    <tr>\n",
       "      <th>2025-04-30 19:00:00</th>\n",
       "      <td>25.1</td>\n",
       "      <td>1016.6</td>\n",
       "      <td>0.0</td>\n",
       "      <td>10.1</td>\n",
       "    </tr>\n",
       "    <tr>\n",
       "      <th>2025-04-30 20:00:00</th>\n",
       "      <td>23.0</td>\n",
       "      <td>1016.8</td>\n",
       "      <td>0.0</td>\n",
       "      <td>11.9</td>\n",
       "    </tr>\n",
       "    <tr>\n",
       "      <th>2025-04-30 21:00:00</th>\n",
       "      <td>20.7</td>\n",
       "      <td>1017.3</td>\n",
       "      <td>0.0</td>\n",
       "      <td>11.9</td>\n",
       "    </tr>\n",
       "    <tr>\n",
       "      <th>2025-04-30 22:00:00</th>\n",
       "      <td>19.2</td>\n",
       "      <td>1017.5</td>\n",
       "      <td>0.0</td>\n",
       "      <td>9.0</td>\n",
       "    </tr>\n",
       "    <tr>\n",
       "      <th>2025-04-30 23:00:00</th>\n",
       "      <td>18.0</td>\n",
       "      <td>1017.5</td>\n",
       "      <td>0.0</td>\n",
       "      <td>7.0</td>\n",
       "    </tr>\n",
       "  </tbody>\n",
       "</table>\n",
       "<p>72264 rows × 4 columns</p>\n",
       "</div>"
      ]
     },
     "execution_count": 92,
     "metadata": {},
     "output_type": "execute_result"
    }
   ],
   "execution_count": 92
  },
  {
   "metadata": {
    "ExecuteTime": {
     "end_time": "2025-05-17T15:47:48.159523Z",
     "start_time": "2025-05-17T15:47:48.145046Z"
    }
   },
   "cell_type": "code",
   "source": [
    "# Step 0.2: Define chronological splits\n",
    "train_start, train_end = \"2017-02-01\", \"2025-01-31\"\n",
    "val_start, val_end = \"2025-02-01\", \"2025-03-31\"\n",
    "test_start, test_end = \"2025-04-01\", \"2025-04-30\"\n",
    "\n",
    "# Step 0.3: Subset dataframe\n",
    "df_train = df.loc[train_start:train_end]\n",
    "df_val = df.loc[val_start:val_end]\n",
    "df_test = df.loc[test_start:test_end]\n",
    "\n",
    "print(f\"Training set: {len(df_train)} rows (~{len(df_train)/24:.0f} days).\")\n",
    "print(f\"Validation set: {len(df_val)} rows (~{len(df_val)/24:.0f}days).\")\n",
    "print(f\"Test set: {len(df_test)} rows(~{len(df_test)/24:.0f}days).\") # Optional"
   ],
   "id": "d4ef090c236c9dd3",
   "outputs": [
    {
     "name": "stdout",
     "output_type": "stream",
     "text": [
      "Training set: 70128 rows (~2922 days).\n",
      "Validation set: 1416 rows (~59days).\n",
      "Test set: 720 rows(~30days).\n"
     ]
    }
   ],
   "execution_count": 93
  },
  {
   "metadata": {},
   "cell_type": "markdown",
   "source": [
    "#### Step 1 – Outlier Masking with Preliminary Isolation Forest\n",
    "This step prepares four key features and applies rolling transformations\n",
    "tailored to each one's statistical shape. A preliminary Isolation Forest model is then\n",
    "used to flag and exclude anomalous timestamps in the training set for LSTM-AE sequence training."
   ],
   "id": "9217db6f238464e7"
  },
  {
   "metadata": {
    "ExecuteTime": {
     "end_time": "2025-05-17T15:47:48.319607Z",
     "start_time": "2025-05-17T15:47:48.311425Z"
    }
   },
   "cell_type": "code",
   "source": [
    "# Step 1.1: Select features (precautionary)\n",
    "features = ['temperature_2m', 'surface_pressure', 'wind_speed_10m', 'precipitation']\n",
    "df_train = df_train[features].copy()"
   ],
   "id": "ade595eb4dc49513",
   "outputs": [],
   "execution_count": 94
  },
  {
   "metadata": {
    "ExecuteTime": {
     "end_time": "2025-05-17T15:47:48.487006Z",
     "start_time": "2025-05-17T15:47:48.480965Z"
    }
   },
   "cell_type": "code",
   "source": [
    "# Set parameters for normalisation\n",
    "window_60d = 1440 # rolling window size\n",
    "min_periods_60d = 720 # minimum number of observations required for rolling calculations\n",
    "window_12h = 12 # rolling window size for 12-hour rolling z-score\n",
    "min_periods_12h = 6 # minimum number of observations required for rolling calculations for 12-hour rolling z-score\n",
    "eps = 1e-6  # to avoid division by zero in rolling scaling calculations for precipitation and wind"
   ],
   "id": "1f7a6f38d6f15627",
   "outputs": [],
   "execution_count": 95
  },
  {
   "metadata": {
    "ExecuteTime": {
     "end_time": "2025-05-17T15:47:48.550113Z",
     "start_time": "2025-05-17T15:47:48.532505Z"
    }
   },
   "cell_type": "code",
   "source": [
    "# 1.2 Apply rolling z-score to temperature and surface pressure\n",
    "for col in ['temperature_2m', 'surface_pressure']:\n",
    "    rolling = df_train[col].rolling(window=window_60d, min_periods=min_periods_60d)\n",
    "    df_train[f'{col}_z'] = (df_train[col] - rolling.mean()) / (rolling.std())"
   ],
   "id": "fc6bb049d87a534b",
   "outputs": [],
   "execution_count": 96
  },
  {
   "metadata": {
    "ExecuteTime": {
     "end_time": "2025-05-17T15:47:48.797896Z",
     "start_time": "2025-05-17T15:47:48.612408Z"
    }
   },
   "cell_type": "code",
   "source": [
    "# Step 1.3: Apply 60-day rolling median and IQR to wind speed (NO SMOOTHING)\n",
    "\n",
    "# Calculate rolling Q1 (25th percentile), Q3 (75th percentile), and median\n",
    "wind = df_train['wind_speed_10m']\n",
    "q25 = wind.rolling(window=window_60d, min_periods=min_periods_60d).quantile(0.25)\n",
    "q75 = wind.rolling(window=window_60d, min_periods=min_periods_60d).quantile(0.75)\n",
    "median = wind.rolling(window=window_60d, min_periods=min_periods_60d).median()\n",
    "\n",
    "# Calculate IQR (Q3 - Q1)\n",
    "iqr = q75 - q25\n",
    "\n",
    "# Standardise wind speed using median and IQR\n",
    "df_train['wind_r'] = (wind - median) / (iqr + eps)"
   ],
   "id": "14ceb67a9fcd4b84",
   "outputs": [],
   "execution_count": 97
  },
  {
   "metadata": {
    "ExecuteTime": {
     "end_time": "2025-05-17T15:47:48.857699Z",
     "start_time": "2025-05-17T15:47:48.844292Z"
    }
   },
   "cell_type": "code",
   "source": [
    "# 1.4: Log-transform precipitation + 12-hour rolling z-score\n",
    "\n",
    "# Apply log1p transformation to precipitation\n",
    "df_train['precipitation_log1p'] = np.log1p(df_train['precipitation'])\n",
    "\n",
    "# Calculate 12-hour rolling z-score on log-transformed precipitation\n",
    "rolling_log = df_train['precipitation_log1p'].rolling(window=window_12h, min_periods=min_periods_12h)\n",
    "df_train['precip_z_12h'] = (\n",
    "    df_train['precipitation_log1p'] - rolling_log.mean()\n",
    ") / (rolling_log.std() + eps)"
   ],
   "id": "666787df058f3b8d",
   "outputs": [],
   "execution_count": 98
  },
  {
   "metadata": {
    "ExecuteTime": {
     "end_time": "2025-05-17T15:47:48.917901Z",
     "start_time": "2025-05-17T15:47:48.904547Z"
    }
   },
   "cell_type": "code",
   "source": [
    "# 1.5: Subset transformed columns and drop missing rows\n",
    "transformed_features = ['temperature_2m_z', 'surface_pressure_z', 'wind_r', 'precip_z_12h']\n",
    "df_train_transformed = df_train[transformed_features].dropna()\n",
    "\n",
    "print(f\"Rows after transformation: {len(df_train_transformed)}\")"
   ],
   "id": "50fe30e9200c315e",
   "outputs": [
    {
     "name": "stdout",
     "output_type": "stream",
     "text": [
      "Rows after transformation: 69409\n"
     ]
    }
   ],
   "execution_count": 99
  },
  {
   "metadata": {
    "ExecuteTime": {
     "end_time": "2025-05-17T15:47:48.979802Z",
     "start_time": "2025-05-17T15:47:48.969277Z"
    }
   },
   "cell_type": "code",
   "source": "df_train_transformed.head()",
   "id": "6b436da2e7123e19",
   "outputs": [
    {
     "data": {
      "text/plain": [
       "                     temperature_2m_z  surface_pressure_z    wind_r  \\\n",
       "date                                                                  \n",
       "2017-03-02 23:00:00         -0.368721           -0.129419 -0.217284   \n",
       "2017-03-03 00:00:00         -0.397814           -0.169181 -0.237624   \n",
       "2017-03-03 01:00:00         -0.250480           -0.216915 -0.202970   \n",
       "2017-03-03 02:00:00         -0.191445           -0.272623 -0.237624   \n",
       "2017-03-03 03:00:00         -0.250199           -0.376226 -0.415842   \n",
       "\n",
       "                     precip_z_12h  \n",
       "date                               \n",
       "2017-03-02 23:00:00           0.0  \n",
       "2017-03-03 00:00:00           0.0  \n",
       "2017-03-03 01:00:00           0.0  \n",
       "2017-03-03 02:00:00           0.0  \n",
       "2017-03-03 03:00:00           0.0  "
      ],
      "text/html": [
       "<div>\n",
       "<style scoped>\n",
       "    .dataframe tbody tr th:only-of-type {\n",
       "        vertical-align: middle;\n",
       "    }\n",
       "\n",
       "    .dataframe tbody tr th {\n",
       "        vertical-align: top;\n",
       "    }\n",
       "\n",
       "    .dataframe thead th {\n",
       "        text-align: right;\n",
       "    }\n",
       "</style>\n",
       "<table border=\"1\" class=\"dataframe\">\n",
       "  <thead>\n",
       "    <tr style=\"text-align: right;\">\n",
       "      <th></th>\n",
       "      <th>temperature_2m_z</th>\n",
       "      <th>surface_pressure_z</th>\n",
       "      <th>wind_r</th>\n",
       "      <th>precip_z_12h</th>\n",
       "    </tr>\n",
       "    <tr>\n",
       "      <th>date</th>\n",
       "      <th></th>\n",
       "      <th></th>\n",
       "      <th></th>\n",
       "      <th></th>\n",
       "    </tr>\n",
       "  </thead>\n",
       "  <tbody>\n",
       "    <tr>\n",
       "      <th>2017-03-02 23:00:00</th>\n",
       "      <td>-0.368721</td>\n",
       "      <td>-0.129419</td>\n",
       "      <td>-0.217284</td>\n",
       "      <td>0.0</td>\n",
       "    </tr>\n",
       "    <tr>\n",
       "      <th>2017-03-03 00:00:00</th>\n",
       "      <td>-0.397814</td>\n",
       "      <td>-0.169181</td>\n",
       "      <td>-0.237624</td>\n",
       "      <td>0.0</td>\n",
       "    </tr>\n",
       "    <tr>\n",
       "      <th>2017-03-03 01:00:00</th>\n",
       "      <td>-0.250480</td>\n",
       "      <td>-0.216915</td>\n",
       "      <td>-0.202970</td>\n",
       "      <td>0.0</td>\n",
       "    </tr>\n",
       "    <tr>\n",
       "      <th>2017-03-03 02:00:00</th>\n",
       "      <td>-0.191445</td>\n",
       "      <td>-0.272623</td>\n",
       "      <td>-0.237624</td>\n",
       "      <td>0.0</td>\n",
       "    </tr>\n",
       "    <tr>\n",
       "      <th>2017-03-03 03:00:00</th>\n",
       "      <td>-0.250199</td>\n",
       "      <td>-0.376226</td>\n",
       "      <td>-0.415842</td>\n",
       "      <td>0.0</td>\n",
       "    </tr>\n",
       "  </tbody>\n",
       "</table>\n",
       "</div>"
      ]
     },
     "execution_count": 100,
     "metadata": {},
     "output_type": "execute_result"
    }
   ],
   "execution_count": 100
  },
  {
   "metadata": {
    "ExecuteTime": {
     "end_time": "2025-05-17T15:47:50.109021Z",
     "start_time": "2025-05-17T15:47:49.076312Z"
    }
   },
   "cell_type": "code",
   "source": [
    "# Step 1.6: Train Isolation Forest model\n",
    "preliminary_if = IsolationForest(n_estimators=100, contamination=0.01, random_state=42)\n",
    "preliminary_if.fit(df_train_transformed)"
   ],
   "id": "1d0c4177848675f4",
   "outputs": [
    {
     "data": {
      "text/plain": [
       "IsolationForest(contamination=0.01, random_state=42)"
      ],
      "text/html": [
       "<style>#sk-container-id-4 {\n",
       "  /* Definition of color scheme common for light and dark mode */\n",
       "  --sklearn-color-text: #000;\n",
       "  --sklearn-color-text-muted: #666;\n",
       "  --sklearn-color-line: gray;\n",
       "  /* Definition of color scheme for unfitted estimators */\n",
       "  --sklearn-color-unfitted-level-0: #fff5e6;\n",
       "  --sklearn-color-unfitted-level-1: #f6e4d2;\n",
       "  --sklearn-color-unfitted-level-2: #ffe0b3;\n",
       "  --sklearn-color-unfitted-level-3: chocolate;\n",
       "  /* Definition of color scheme for fitted estimators */\n",
       "  --sklearn-color-fitted-level-0: #f0f8ff;\n",
       "  --sklearn-color-fitted-level-1: #d4ebff;\n",
       "  --sklearn-color-fitted-level-2: #b3dbfd;\n",
       "  --sklearn-color-fitted-level-3: cornflowerblue;\n",
       "\n",
       "  /* Specific color for light theme */\n",
       "  --sklearn-color-text-on-default-background: var(--sg-text-color, var(--theme-code-foreground, var(--jp-content-font-color1, black)));\n",
       "  --sklearn-color-background: var(--sg-background-color, var(--theme-background, var(--jp-layout-color0, white)));\n",
       "  --sklearn-color-border-box: var(--sg-text-color, var(--theme-code-foreground, var(--jp-content-font-color1, black)));\n",
       "  --sklearn-color-icon: #696969;\n",
       "\n",
       "  @media (prefers-color-scheme: dark) {\n",
       "    /* Redefinition of color scheme for dark theme */\n",
       "    --sklearn-color-text-on-default-background: var(--sg-text-color, var(--theme-code-foreground, var(--jp-content-font-color1, white)));\n",
       "    --sklearn-color-background: var(--sg-background-color, var(--theme-background, var(--jp-layout-color0, #111)));\n",
       "    --sklearn-color-border-box: var(--sg-text-color, var(--theme-code-foreground, var(--jp-content-font-color1, white)));\n",
       "    --sklearn-color-icon: #878787;\n",
       "  }\n",
       "}\n",
       "\n",
       "#sk-container-id-4 {\n",
       "  color: var(--sklearn-color-text);\n",
       "}\n",
       "\n",
       "#sk-container-id-4 pre {\n",
       "  padding: 0;\n",
       "}\n",
       "\n",
       "#sk-container-id-4 input.sk-hidden--visually {\n",
       "  border: 0;\n",
       "  clip: rect(1px 1px 1px 1px);\n",
       "  clip: rect(1px, 1px, 1px, 1px);\n",
       "  height: 1px;\n",
       "  margin: -1px;\n",
       "  overflow: hidden;\n",
       "  padding: 0;\n",
       "  position: absolute;\n",
       "  width: 1px;\n",
       "}\n",
       "\n",
       "#sk-container-id-4 div.sk-dashed-wrapped {\n",
       "  border: 1px dashed var(--sklearn-color-line);\n",
       "  margin: 0 0.4em 0.5em 0.4em;\n",
       "  box-sizing: border-box;\n",
       "  padding-bottom: 0.4em;\n",
       "  background-color: var(--sklearn-color-background);\n",
       "}\n",
       "\n",
       "#sk-container-id-4 div.sk-container {\n",
       "  /* jupyter's `normalize.less` sets `[hidden] { display: none; }`\n",
       "     but bootstrap.min.css set `[hidden] { display: none !important; }`\n",
       "     so we also need the `!important` here to be able to override the\n",
       "     default hidden behavior on the sphinx rendered scikit-learn.org.\n",
       "     See: https://github.com/scikit-learn/scikit-learn/issues/21755 */\n",
       "  display: inline-block !important;\n",
       "  position: relative;\n",
       "}\n",
       "\n",
       "#sk-container-id-4 div.sk-text-repr-fallback {\n",
       "  display: none;\n",
       "}\n",
       "\n",
       "div.sk-parallel-item,\n",
       "div.sk-serial,\n",
       "div.sk-item {\n",
       "  /* draw centered vertical line to link estimators */\n",
       "  background-image: linear-gradient(var(--sklearn-color-text-on-default-background), var(--sklearn-color-text-on-default-background));\n",
       "  background-size: 2px 100%;\n",
       "  background-repeat: no-repeat;\n",
       "  background-position: center center;\n",
       "}\n",
       "\n",
       "/* Parallel-specific style estimator block */\n",
       "\n",
       "#sk-container-id-4 div.sk-parallel-item::after {\n",
       "  content: \"\";\n",
       "  width: 100%;\n",
       "  border-bottom: 2px solid var(--sklearn-color-text-on-default-background);\n",
       "  flex-grow: 1;\n",
       "}\n",
       "\n",
       "#sk-container-id-4 div.sk-parallel {\n",
       "  display: flex;\n",
       "  align-items: stretch;\n",
       "  justify-content: center;\n",
       "  background-color: var(--sklearn-color-background);\n",
       "  position: relative;\n",
       "}\n",
       "\n",
       "#sk-container-id-4 div.sk-parallel-item {\n",
       "  display: flex;\n",
       "  flex-direction: column;\n",
       "}\n",
       "\n",
       "#sk-container-id-4 div.sk-parallel-item:first-child::after {\n",
       "  align-self: flex-end;\n",
       "  width: 50%;\n",
       "}\n",
       "\n",
       "#sk-container-id-4 div.sk-parallel-item:last-child::after {\n",
       "  align-self: flex-start;\n",
       "  width: 50%;\n",
       "}\n",
       "\n",
       "#sk-container-id-4 div.sk-parallel-item:only-child::after {\n",
       "  width: 0;\n",
       "}\n",
       "\n",
       "/* Serial-specific style estimator block */\n",
       "\n",
       "#sk-container-id-4 div.sk-serial {\n",
       "  display: flex;\n",
       "  flex-direction: column;\n",
       "  align-items: center;\n",
       "  background-color: var(--sklearn-color-background);\n",
       "  padding-right: 1em;\n",
       "  padding-left: 1em;\n",
       "}\n",
       "\n",
       "\n",
       "/* Toggleable style: style used for estimator/Pipeline/ColumnTransformer box that is\n",
       "clickable and can be expanded/collapsed.\n",
       "- Pipeline and ColumnTransformer use this feature and define the default style\n",
       "- Estimators will overwrite some part of the style using the `sk-estimator` class\n",
       "*/\n",
       "\n",
       "/* Pipeline and ColumnTransformer style (default) */\n",
       "\n",
       "#sk-container-id-4 div.sk-toggleable {\n",
       "  /* Default theme specific background. It is overwritten whether we have a\n",
       "  specific estimator or a Pipeline/ColumnTransformer */\n",
       "  background-color: var(--sklearn-color-background);\n",
       "}\n",
       "\n",
       "/* Toggleable label */\n",
       "#sk-container-id-4 label.sk-toggleable__label {\n",
       "  cursor: pointer;\n",
       "  display: flex;\n",
       "  width: 100%;\n",
       "  margin-bottom: 0;\n",
       "  padding: 0.5em;\n",
       "  box-sizing: border-box;\n",
       "  text-align: center;\n",
       "  align-items: start;\n",
       "  justify-content: space-between;\n",
       "  gap: 0.5em;\n",
       "}\n",
       "\n",
       "#sk-container-id-4 label.sk-toggleable__label .caption {\n",
       "  font-size: 0.6rem;\n",
       "  font-weight: lighter;\n",
       "  color: var(--sklearn-color-text-muted);\n",
       "}\n",
       "\n",
       "#sk-container-id-4 label.sk-toggleable__label-arrow:before {\n",
       "  /* Arrow on the left of the label */\n",
       "  content: \"▸\";\n",
       "  float: left;\n",
       "  margin-right: 0.25em;\n",
       "  color: var(--sklearn-color-icon);\n",
       "}\n",
       "\n",
       "#sk-container-id-4 label.sk-toggleable__label-arrow:hover:before {\n",
       "  color: var(--sklearn-color-text);\n",
       "}\n",
       "\n",
       "/* Toggleable content - dropdown */\n",
       "\n",
       "#sk-container-id-4 div.sk-toggleable__content {\n",
       "  max-height: 0;\n",
       "  max-width: 0;\n",
       "  overflow: hidden;\n",
       "  text-align: left;\n",
       "  /* unfitted */\n",
       "  background-color: var(--sklearn-color-unfitted-level-0);\n",
       "}\n",
       "\n",
       "#sk-container-id-4 div.sk-toggleable__content.fitted {\n",
       "  /* fitted */\n",
       "  background-color: var(--sklearn-color-fitted-level-0);\n",
       "}\n",
       "\n",
       "#sk-container-id-4 div.sk-toggleable__content pre {\n",
       "  margin: 0.2em;\n",
       "  border-radius: 0.25em;\n",
       "  color: var(--sklearn-color-text);\n",
       "  /* unfitted */\n",
       "  background-color: var(--sklearn-color-unfitted-level-0);\n",
       "}\n",
       "\n",
       "#sk-container-id-4 div.sk-toggleable__content.fitted pre {\n",
       "  /* unfitted */\n",
       "  background-color: var(--sklearn-color-fitted-level-0);\n",
       "}\n",
       "\n",
       "#sk-container-id-4 input.sk-toggleable__control:checked~div.sk-toggleable__content {\n",
       "  /* Expand drop-down */\n",
       "  max-height: 200px;\n",
       "  max-width: 100%;\n",
       "  overflow: auto;\n",
       "}\n",
       "\n",
       "#sk-container-id-4 input.sk-toggleable__control:checked~label.sk-toggleable__label-arrow:before {\n",
       "  content: \"▾\";\n",
       "}\n",
       "\n",
       "/* Pipeline/ColumnTransformer-specific style */\n",
       "\n",
       "#sk-container-id-4 div.sk-label input.sk-toggleable__control:checked~label.sk-toggleable__label {\n",
       "  color: var(--sklearn-color-text);\n",
       "  background-color: var(--sklearn-color-unfitted-level-2);\n",
       "}\n",
       "\n",
       "#sk-container-id-4 div.sk-label.fitted input.sk-toggleable__control:checked~label.sk-toggleable__label {\n",
       "  background-color: var(--sklearn-color-fitted-level-2);\n",
       "}\n",
       "\n",
       "/* Estimator-specific style */\n",
       "\n",
       "/* Colorize estimator box */\n",
       "#sk-container-id-4 div.sk-estimator input.sk-toggleable__control:checked~label.sk-toggleable__label {\n",
       "  /* unfitted */\n",
       "  background-color: var(--sklearn-color-unfitted-level-2);\n",
       "}\n",
       "\n",
       "#sk-container-id-4 div.sk-estimator.fitted input.sk-toggleable__control:checked~label.sk-toggleable__label {\n",
       "  /* fitted */\n",
       "  background-color: var(--sklearn-color-fitted-level-2);\n",
       "}\n",
       "\n",
       "#sk-container-id-4 div.sk-label label.sk-toggleable__label,\n",
       "#sk-container-id-4 div.sk-label label {\n",
       "  /* The background is the default theme color */\n",
       "  color: var(--sklearn-color-text-on-default-background);\n",
       "}\n",
       "\n",
       "/* On hover, darken the color of the background */\n",
       "#sk-container-id-4 div.sk-label:hover label.sk-toggleable__label {\n",
       "  color: var(--sklearn-color-text);\n",
       "  background-color: var(--sklearn-color-unfitted-level-2);\n",
       "}\n",
       "\n",
       "/* Label box, darken color on hover, fitted */\n",
       "#sk-container-id-4 div.sk-label.fitted:hover label.sk-toggleable__label.fitted {\n",
       "  color: var(--sklearn-color-text);\n",
       "  background-color: var(--sklearn-color-fitted-level-2);\n",
       "}\n",
       "\n",
       "/* Estimator label */\n",
       "\n",
       "#sk-container-id-4 div.sk-label label {\n",
       "  font-family: monospace;\n",
       "  font-weight: bold;\n",
       "  display: inline-block;\n",
       "  line-height: 1.2em;\n",
       "}\n",
       "\n",
       "#sk-container-id-4 div.sk-label-container {\n",
       "  text-align: center;\n",
       "}\n",
       "\n",
       "/* Estimator-specific */\n",
       "#sk-container-id-4 div.sk-estimator {\n",
       "  font-family: monospace;\n",
       "  border: 1px dotted var(--sklearn-color-border-box);\n",
       "  border-radius: 0.25em;\n",
       "  box-sizing: border-box;\n",
       "  margin-bottom: 0.5em;\n",
       "  /* unfitted */\n",
       "  background-color: var(--sklearn-color-unfitted-level-0);\n",
       "}\n",
       "\n",
       "#sk-container-id-4 div.sk-estimator.fitted {\n",
       "  /* fitted */\n",
       "  background-color: var(--sklearn-color-fitted-level-0);\n",
       "}\n",
       "\n",
       "/* on hover */\n",
       "#sk-container-id-4 div.sk-estimator:hover {\n",
       "  /* unfitted */\n",
       "  background-color: var(--sklearn-color-unfitted-level-2);\n",
       "}\n",
       "\n",
       "#sk-container-id-4 div.sk-estimator.fitted:hover {\n",
       "  /* fitted */\n",
       "  background-color: var(--sklearn-color-fitted-level-2);\n",
       "}\n",
       "\n",
       "/* Specification for estimator info (e.g. \"i\" and \"?\") */\n",
       "\n",
       "/* Common style for \"i\" and \"?\" */\n",
       "\n",
       ".sk-estimator-doc-link,\n",
       "a:link.sk-estimator-doc-link,\n",
       "a:visited.sk-estimator-doc-link {\n",
       "  float: right;\n",
       "  font-size: smaller;\n",
       "  line-height: 1em;\n",
       "  font-family: monospace;\n",
       "  background-color: var(--sklearn-color-background);\n",
       "  border-radius: 1em;\n",
       "  height: 1em;\n",
       "  width: 1em;\n",
       "  text-decoration: none !important;\n",
       "  margin-left: 0.5em;\n",
       "  text-align: center;\n",
       "  /* unfitted */\n",
       "  border: var(--sklearn-color-unfitted-level-1) 1pt solid;\n",
       "  color: var(--sklearn-color-unfitted-level-1);\n",
       "}\n",
       "\n",
       ".sk-estimator-doc-link.fitted,\n",
       "a:link.sk-estimator-doc-link.fitted,\n",
       "a:visited.sk-estimator-doc-link.fitted {\n",
       "  /* fitted */\n",
       "  border: var(--sklearn-color-fitted-level-1) 1pt solid;\n",
       "  color: var(--sklearn-color-fitted-level-1);\n",
       "}\n",
       "\n",
       "/* On hover */\n",
       "div.sk-estimator:hover .sk-estimator-doc-link:hover,\n",
       ".sk-estimator-doc-link:hover,\n",
       "div.sk-label-container:hover .sk-estimator-doc-link:hover,\n",
       ".sk-estimator-doc-link:hover {\n",
       "  /* unfitted */\n",
       "  background-color: var(--sklearn-color-unfitted-level-3);\n",
       "  color: var(--sklearn-color-background);\n",
       "  text-decoration: none;\n",
       "}\n",
       "\n",
       "div.sk-estimator.fitted:hover .sk-estimator-doc-link.fitted:hover,\n",
       ".sk-estimator-doc-link.fitted:hover,\n",
       "div.sk-label-container:hover .sk-estimator-doc-link.fitted:hover,\n",
       ".sk-estimator-doc-link.fitted:hover {\n",
       "  /* fitted */\n",
       "  background-color: var(--sklearn-color-fitted-level-3);\n",
       "  color: var(--sklearn-color-background);\n",
       "  text-decoration: none;\n",
       "}\n",
       "\n",
       "/* Span, style for the box shown on hovering the info icon */\n",
       ".sk-estimator-doc-link span {\n",
       "  display: none;\n",
       "  z-index: 9999;\n",
       "  position: relative;\n",
       "  font-weight: normal;\n",
       "  right: .2ex;\n",
       "  padding: .5ex;\n",
       "  margin: .5ex;\n",
       "  width: min-content;\n",
       "  min-width: 20ex;\n",
       "  max-width: 50ex;\n",
       "  color: var(--sklearn-color-text);\n",
       "  box-shadow: 2pt 2pt 4pt #999;\n",
       "  /* unfitted */\n",
       "  background: var(--sklearn-color-unfitted-level-0);\n",
       "  border: .5pt solid var(--sklearn-color-unfitted-level-3);\n",
       "}\n",
       "\n",
       ".sk-estimator-doc-link.fitted span {\n",
       "  /* fitted */\n",
       "  background: var(--sklearn-color-fitted-level-0);\n",
       "  border: var(--sklearn-color-fitted-level-3);\n",
       "}\n",
       "\n",
       ".sk-estimator-doc-link:hover span {\n",
       "  display: block;\n",
       "}\n",
       "\n",
       "/* \"?\"-specific style due to the `<a>` HTML tag */\n",
       "\n",
       "#sk-container-id-4 a.estimator_doc_link {\n",
       "  float: right;\n",
       "  font-size: 1rem;\n",
       "  line-height: 1em;\n",
       "  font-family: monospace;\n",
       "  background-color: var(--sklearn-color-background);\n",
       "  border-radius: 1rem;\n",
       "  height: 1rem;\n",
       "  width: 1rem;\n",
       "  text-decoration: none;\n",
       "  /* unfitted */\n",
       "  color: var(--sklearn-color-unfitted-level-1);\n",
       "  border: var(--sklearn-color-unfitted-level-1) 1pt solid;\n",
       "}\n",
       "\n",
       "#sk-container-id-4 a.estimator_doc_link.fitted {\n",
       "  /* fitted */\n",
       "  border: var(--sklearn-color-fitted-level-1) 1pt solid;\n",
       "  color: var(--sklearn-color-fitted-level-1);\n",
       "}\n",
       "\n",
       "/* On hover */\n",
       "#sk-container-id-4 a.estimator_doc_link:hover {\n",
       "  /* unfitted */\n",
       "  background-color: var(--sklearn-color-unfitted-level-3);\n",
       "  color: var(--sklearn-color-background);\n",
       "  text-decoration: none;\n",
       "}\n",
       "\n",
       "#sk-container-id-4 a.estimator_doc_link.fitted:hover {\n",
       "  /* fitted */\n",
       "  background-color: var(--sklearn-color-fitted-level-3);\n",
       "}\n",
       "</style><div id=\"sk-container-id-4\" class=\"sk-top-container\"><div class=\"sk-text-repr-fallback\"><pre>IsolationForest(contamination=0.01, random_state=42)</pre><b>In a Jupyter environment, please rerun this cell to show the HTML representation or trust the notebook. <br />On GitHub, the HTML representation is unable to render, please try loading this page with nbviewer.org.</b></div><div class=\"sk-container\" hidden><div class=\"sk-item\"><div class=\"sk-estimator fitted sk-toggleable\"><input class=\"sk-toggleable__control sk-hidden--visually\" id=\"sk-estimator-id-4\" type=\"checkbox\" checked><label for=\"sk-estimator-id-4\" class=\"sk-toggleable__label fitted sk-toggleable__label-arrow\"><div><div>IsolationForest</div></div><div><a class=\"sk-estimator-doc-link fitted\" rel=\"noreferrer\" target=\"_blank\" href=\"https://scikit-learn.org/1.6/modules/generated/sklearn.ensemble.IsolationForest.html\">?<span>Documentation for IsolationForest</span></a><span class=\"sk-estimator-doc-link fitted\">i<span>Fitted</span></span></div></label><div class=\"sk-toggleable__content fitted\"><pre>IsolationForest(contamination=0.01, random_state=42)</pre></div> </div></div></div></div>"
      ]
     },
     "execution_count": 101,
     "metadata": {},
     "output_type": "execute_result"
    }
   ],
   "execution_count": 101
  },
  {
   "metadata": {
    "ExecuteTime": {
     "end_time": "2025-05-17T15:47:50.267662Z",
     "start_time": "2025-05-17T15:47:50.199570Z"
    }
   },
   "cell_type": "code",
   "source": [
    "# Save model\n",
    "joblib.dump(preliminary_if,os.path.join(MODEL_OUTPUT_DIR, \"if_prelim.joblib\"))"
   ],
   "id": "aa809afac92b7322",
   "outputs": [
    {
     "data": {
      "text/plain": [
       "['outputs/modelling/models/if_prelim.joblib']"
      ]
     },
     "execution_count": 102,
     "metadata": {},
     "output_type": "execute_result"
    }
   ],
   "execution_count": 102
  },
  {
   "metadata": {
    "ExecuteTime": {
     "end_time": "2025-05-17T15:47:50.785615Z",
     "start_time": "2025-05-17T15:47:50.356435Z"
    }
   },
   "cell_type": "code",
   "source": [
    "# Step 1.7: Assign scores and is_anomaly flags for training data\n",
    "# NaNs in 'if_score' indicate rows skipped during IF scoring (e.g. due to rolling window gaps)\n",
    "# 'is_anomaly' defaults to False for these rows, preserving clean downstream sequence logic\n",
    "scores = preliminary_if.decision_function(df_train_transformed)\n",
    "df_train.loc[df_train_transformed.index, 'if_score'] = scores\n",
    "df_train['is_anomaly'] = df_train['if_score'] < np.percentile(scores, 3)\n",
    "df_train['is_anomaly'] = df_train['is_anomaly'].fillna(False)"
   ],
   "id": "f806b46a27a6ff2b",
   "outputs": [],
   "execution_count": 103
  },
  {
   "metadata": {
    "ExecuteTime": {
     "end_time": "2025-05-17T15:47:50.840970Z",
     "start_time": "2025-05-17T15:47:50.833417Z"
    }
   },
   "cell_type": "code",
   "source": [
    "# Step 1.8: Masking IF model anomaly check\n",
    "print(f\"Anomalies flagged: {df_train['is_anomaly'].sum()}\")\n",
    "print(f'Proportion of anomalies to total: {df_train[\"is_anomaly\"].sum() / len(df_train):.2%}') # should be roughly 3%"
   ],
   "id": "6372ef5c9ec6196b",
   "outputs": [
    {
     "name": "stdout",
     "output_type": "stream",
     "text": [
      "Anomalies flagged: 2083\n",
      "Proportion of anomalies to total: 2.97%\n"
     ]
    }
   ],
   "execution_count": 104
  },
  {
   "metadata": {},
   "cell_type": "markdown",
   "source": [
    "#### Step 2 – Feature Transformation and Normalisation\n",
    "**Goal**: Prepare each feature using transformations that match its statistical distribution and the requirements of the downstream models.\n",
    "Isolation Forest expects short-term, scale-aware values, while LSTM-AE requires stable sequences with consistent internal structure"
   ],
   "id": "cc03b45627e86298"
  },
  {
   "metadata": {
    "ExecuteTime": {
     "end_time": "2025-05-17T15:47:50.903826Z",
     "start_time": "2025-05-17T15:47:50.898661Z"
    }
   },
   "cell_type": "code",
   "source": [
    "# Isolation Forest expects short-term normalised inputs (z-score or IQR-based)\n",
    "# LSTM-AE expects sequences with consistent structure; apply robust per-sequence scaling later\n",
    "if_features = ['temperature_2m_z', 'surface_pressure_z', 'wind_r', 'precip_z_12h']\n",
    "lstm_features = ['temperature_2m', 'surface_pressure', 'wind_speed_10m', 'precipitation']"
   ],
   "id": "2027ffe362cf1077",
   "outputs": [],
   "execution_count": 105
  },
  {
   "metadata": {
    "ExecuteTime": {
     "end_time": "2025-05-17T15:47:50.966336Z",
     "start_time": "2025-05-17T15:47:50.960754Z"
    }
   },
   "cell_type": "code",
   "source": [
    "#  2.2 Reuse Z-Scores for Temperature and Pressure (from Step 1)\n",
    "# Note: temperature_2m_z and surface_pressure_z were computed in Step 1.2\n",
    "# as part of the masking Isolation Forest preprocessing.\n",
    "# We reuse them here for the final IF model to ensure consistency and avoid recomputation.\n",
    "\n",
    "# Check availability for clarity\n",
    "assert 'temperature_2m_z' in df_train.columns\n",
    "assert 'surface_pressure_z' in df_train.columns"
   ],
   "id": "219781b7305355ac",
   "outputs": [],
   "execution_count": 106
  },
  {
   "metadata": {
    "ExecuteTime": {
     "end_time": "2025-05-17T15:47:51.199647Z",
     "start_time": "2025-05-17T15:47:51.013439Z"
    }
   },
   "cell_type": "code",
   "source": [
    "# 2.3 Wind Speed: 3-Hour Smoothing + 60-Day IQR Scaling\n",
    "\n",
    "# Apply 3-hour smoothing to reduce gust noise\n",
    "df_train['wind_r'] = df_train['wind_speed_10m'].rolling(window=3, min_periods=1).mean()\n",
    "\n",
    "# Compute 60-day rolling median and IQR\n",
    "wind_median = df_train['wind_r'].rolling(window=1440, min_periods=720).median()\n",
    "wind_iqr = df_train['wind_r'].rolling(window=1440, min_periods=720).quantile(0.75) - \\\n",
    "           df_train['wind_r'].rolling(window=1440, min_periods=720).quantile(0.25)\n",
    "\n",
    "# IQR-scale the smoothed wind speed\n",
    "df_train['wind_r'] = (df_train['wind_r'] - wind_median) / wind_iqr"
   ],
   "id": "7d9635084627f4b0",
   "outputs": [],
   "execution_count": 107
  },
  {
   "metadata": {
    "ExecuteTime": {
     "end_time": "2025-05-17T15:47:51.255818Z",
     "start_time": "2025-05-17T15:47:51.250949Z"
    }
   },
   "cell_type": "code",
   "source": [
    "# 2.4 Reuse Precipitation Transformation (from Step 1.4)\n",
    "# The precip_z_12h feature has already been computed using a 12-hour rolling z-score on log1p(precipitation) in Step 1.4.\n",
    "\n",
    "# Verify precipitation feature exists\n",
    "assert 'precip_z_12h' in df_train.columns"
   ],
   "id": "85c8ccae72d6d7e9",
   "outputs": [],
   "execution_count": 108
  },
  {
   "metadata": {
    "ExecuteTime": {
     "end_time": "2025-05-17T15:47:51.372075Z",
     "start_time": "2025-05-17T15:47:51.355847Z"
    }
   },
   "cell_type": "code",
   "source": [
    "# Check all required IF input columns are present\n",
    "for col in if_features:\n",
    "    assert col in df_train.columns, f\"Missing IF input: {col}\""
   ],
   "id": "69061b4c5dca6324",
   "outputs": [],
   "execution_count": 109
  },
  {
   "metadata": {},
   "cell_type": "markdown",
   "source": [
    "#### Step 3 – Time-Based Feature Engineering\n",
    "**Goal**: Add cyclic temporal context to help LSTM-AE learn seasonal and daily rhythms.\n",
    "We encode hour-of-day and month-of-year using sine and cosine pairs\n",
    "to preserve continuity across wraparound points (e.g. 23:00 → 00:00)."
   ],
   "id": "87b0dd47a215d6ea"
  },
  {
   "metadata": {
    "ExecuteTime": {
     "end_time": "2025-05-17T15:47:51.486575Z",
     "start_time": "2025-05-17T15:47:51.464364Z"
    }
   },
   "cell_type": "code",
   "source": [
    "# 3.1 Encode Hour-of-Day Cyclically\n",
    "# Extract hour of day and encode as sine/cosine\n",
    "df_train['hour'] = df_train.index.hour\n",
    "df_train['hour_sin'] = np.sin(2 * np.pi * df_train['hour'] / 24)\n",
    "df_train['hour_cos'] = np.cos(2 * np.pi * df_train['hour'] / 24)"
   ],
   "id": "e419d8a55bedac4",
   "outputs": [],
   "execution_count": 110
  },
  {
   "metadata": {
    "ExecuteTime": {
     "end_time": "2025-05-17T15:47:51.568842Z",
     "start_time": "2025-05-17T15:47:51.553024Z"
    }
   },
   "cell_type": "code",
   "source": [
    "# 3.2 Encode Month-of-Year Cyclically\n",
    "\n",
    "# Extract month and encode as sine/cosine\n",
    "df_train['month'] = df_train.index.month\n",
    "df_train['month_sin'] = np.sin(2 * np.pi * df_train['month'] / 12)\n",
    "df_train['month_cos'] = np.cos(2 * np.pi * df_train['month'] / 12)"
   ],
   "id": "81faa94fc8ca7d95",
   "outputs": [],
   "execution_count": 111
  },
  {
   "metadata": {
    "ExecuteTime": {
     "end_time": "2025-05-17T15:47:51.644490Z",
     "start_time": "2025-05-17T15:47:51.637762Z"
    }
   },
   "cell_type": "code",
   "source": [
    "# Add time features to LSTM-AE input only (do not add to IF!)\n",
    "lstm_time_features = ['hour_sin', 'hour_cos', 'month_sin', 'month_cos']"
   ],
   "id": "6e6b08a5f8fb2f81",
   "outputs": [],
   "execution_count": 112
  },
  {
   "metadata": {},
   "cell_type": "markdown",
   "source": [
    "#### Step 4 – LSTM-AE Sequence Construction\n",
    "**Goal**: Extract clean, fixed-length sequences from the training set to train the LSTM Autoencoder.\n",
    "Each sequence must contain hourly-aligned, anomaly-free data over a 30-day window (720 hours), optionally including cyclical time features."
   ],
   "id": "3ad7f76ce1d1b06b"
  },
  {
   "metadata": {
    "ExecuteTime": {
     "end_time": "2025-05-17T15:47:51.721839Z",
     "start_time": "2025-05-17T15:47:51.698691Z"
    }
   },
   "cell_type": "code",
   "source": [
    "# 4.1 Filter Out Anomalous Timestamps - this prevents corrupted sequences from skewing LSTM training\n",
    "\n",
    "# Step 4.1: Filter training set to keep only non-anomalous rows\n",
    "df_train_clean = df_train[df_train['is_anomaly'] == 0].copy()"
   ],
   "id": "b1568981ff9cacf5",
   "outputs": [],
   "execution_count": 113
  },
  {
   "metadata": {
    "ExecuteTime": {
     "end_time": "2025-05-17T15:47:51.800760Z",
     "start_time": "2025-05-17T15:47:51.777446Z"
    }
   },
   "cell_type": "code",
   "source": [
    "# 4.2 Ensure Hourly Continuity\n",
    "\n",
    "# Enforce hourly frequency to ensure timestamp alignment\n",
    "df_train_clean = df_train_clean.asfreq('h')"
   ],
   "id": "53c7b4c128db9af8",
   "outputs": [],
   "execution_count": 114
  },
  {
   "metadata": {
    "ExecuteTime": {
     "end_time": "2025-05-17T15:47:51.857555Z",
     "start_time": "2025-05-17T15:47:51.851825Z"
    }
   },
   "cell_type": "code",
   "source": [
    "# 4.3 Define Sequence Window and Stride\n",
    "\n",
    "sequence_length = 720    # 30 days\n",
    "sequence_stride = 1     # a stride of 24 speeds up training and reduces redundancy"
   ],
   "id": "a8231175967d3992",
   "outputs": [],
   "execution_count": 115
  },
  {
   "metadata": {
    "ExecuteTime": {
     "end_time": "2025-05-17T15:54:35.057462Z",
     "start_time": "2025-05-17T15:53:34.377684Z"
    }
   },
   "cell_type": "code",
   "source": [
    "# Step 4.4 (revised): Generate sliding window sequences with relaxed anomaly masking\n",
    "\n",
    "# We'll allow up to 1% anomalies (max 7 out of 720 timestamps) in each 30-day window.\n",
    "# This avoids overly strict rejection of otherwise stable sequences.\n",
    "\n",
    "max_allowed_anomalies = 7\n",
    "\n",
    "# Debug counters to track why windows are rejected or accepted\n",
    "debug_counts = {\n",
    "    'total': 0,            # Total windows attempted\n",
    "    'has_nans': 0,         # Dropped due to missing values\n",
    "    'has_anomalies': 0,    # Dropped due to too many anomalies\n",
    "    'added': 0             # Successfully added\n",
    "}\n",
    "\n",
    "sequences = []\n",
    "\n",
    "# Slide a 720-hour window across the training set, one hour at a time\n",
    "for start in range(0, len(df_train) - sequence_length + 1, 1):\n",
    "    # Extract the 30-day window (720 rows)\n",
    "    window = df_train.iloc[start:start + sequence_length]\n",
    "    debug_counts['total'] += 1\n",
    "\n",
    "    # Reject the window if it contains any NaNs (e.g. from early rolling stats)\n",
    "    if window.isna().any().any():\n",
    "        debug_counts['has_nans'] += 1\n",
    "        continue\n",
    "\n",
    "    # Reject if more than 7 timestamps are flagged as anomalies\n",
    "    if window['is_anomaly'].sum() > max_allowed_anomalies:\n",
    "        debug_counts['has_anomalies'] += 1\n",
    "        continue\n",
    "\n",
    "    # If passed both filters, extract model input values and store the sequence\n",
    "    sequences.append(window[lstm_input_cols_all].values)\n",
    "    debug_counts['added'] += 1\n",
    "\n",
    "# Output how many sequences passed each filter stage\n",
    "print(f\"Window stats: {debug_counts}\")"
   ],
   "id": "6aea9e37e9be1f49",
   "outputs": [
    {
     "name": "stdout",
     "output_type": "stream",
     "text": [
      "Window stats: {'total': 69409, 'has_nans': 719, 'has_anomalies': 57829, 'added': 10861}\n"
     ]
    }
   ],
   "execution_count": 119
  },
  {
   "metadata": {
    "ExecuteTime": {
     "end_time": "2025-05-17T15:55:04.511070Z",
     "start_time": "2025-05-17T15:55:04.316879Z"
    }
   },
   "cell_type": "code",
   "source": [
    "# Step 4.5: Stack into model-ready tensor\n",
    "# Format: (n_sequences, 720, n_features)\n",
    "X_train_lstm = np.stack(sequences)\n",
    "print(f\"LSTM training sequences: {X_train_lstm.shape}\")"
   ],
   "id": "fd248c952b9baf78",
   "outputs": [
    {
     "name": "stdout",
     "output_type": "stream",
     "text": [
      "LSTM training sequences: (10861, 720, 8)\n"
     ]
    }
   ],
   "execution_count": 120
  },
  {
   "metadata": {},
   "cell_type": "markdown",
   "source": [
    "#### Important notes on tuning the sequence parameters\n",
    "\n",
    "We began with a stride of 24 hours and strict anomaly masking, which gave only **4 valid sequences**. Reducing the stride to 1 hour increased this to **95 sequences** by allowing more overlap. However, most windows were still rejected because even one anomalous timestamp caused the sequence to be dropped.\n",
    "\n",
    "To address this, we relaxed the masking rule by allowing up to **7 anomalies per 30-day window** (about 1%). This increased the final training set to **10,861 sequences**, or **15.6% of all possible windows**.\n",
    "\n",
    "This approach is supported by recent studies which recommend tolerating small amounts of noise in sequence-based anomaly detection to ensure enough coverage for stable model training (Bâra et al., 2024; Trinh, 2022; Darban, 2024; Kulkarni, 2024)."
   ],
   "id": "b8ad428137719dd0"
  }
 ],
 "metadata": {
  "kernelspec": {
   "display_name": "Python 3",
   "language": "python",
   "name": "python3"
  },
  "language_info": {
   "codemirror_mode": {
    "name": "ipython",
    "version": 2
   },
   "file_extension": ".py",
   "mimetype": "text/x-python",
   "name": "python",
   "nbconvert_exporter": "python",
   "pygments_lexer": "ipython2",
   "version": "2.7.6"
  }
 },
 "nbformat": 4,
 "nbformat_minor": 5
}
