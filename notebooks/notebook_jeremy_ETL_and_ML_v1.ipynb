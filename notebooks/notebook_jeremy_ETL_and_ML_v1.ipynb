{
 "cells": [
  {
   "metadata": {},
   "cell_type": "markdown",
   "source": "## Data Preprocessing & Modelling Pipeline",
   "id": "3c1b69603cea15be"
  },
  {
   "metadata": {
    "ExecuteTime": {
     "end_time": "2025-05-21T16:45:21.348147Z",
     "start_time": "2025-05-21T16:45:21.308735Z"
    }
   },
   "cell_type": "code",
   "source": [
    "import pandas as pd\n",
    "import numpy as np\n",
    "import matplotlib.pyplot as plt\n",
    "import os\n",
    "from sklearn.ensemble import IsolationForest\n",
    "from tensorflow.keras.models import Model\n",
    "from tensorflow.keras.layers import Input, LSTM, RepeatVector, TimeDistributed, Dense\n",
    "from tensorflow.keras.optimizers import Adam\n",
    "from tensorflow.keras.callbacks import EarlyStopping, ModelCheckpoint\n",
    "import joblib\n",
    "from utils.find_root import find_project_root\n",
    "from tqdm import tqdm"
   ],
   "id": "2d2d5f1a37782522",
   "outputs": [],
   "execution_count": 197
  },
  {
   "metadata": {
    "ExecuteTime": {
     "end_time": "2025-05-21T16:45:22.576102Z",
     "start_time": "2025-05-21T16:45:22.527036Z"
    }
   },
   "cell_type": "code",
   "source": [
    "# Check GPU access for LSTM-AE training\n",
    "import tensorflow as tf\n",
    "print(\"TensorFlow version:\", tf.__version__)\n",
    "print(\"Built with CUDA:\", tf.test.is_built_with_cuda())\n",
    "print(\"GPU devices:\", tf.config.list_physical_devices('GPU'))\n",
    "\n",
    "# test if GPU engages\n",
    "with tf.device('/GPU:0'):\n",
    "    a = tf.constant([[1.0, 2.0], [3.0, 4.0]])\n",
    "    b = tf.matmul(a, a)\n",
    "print(b)"
   ],
   "id": "f23c5e7871b15487",
   "outputs": [
    {
     "name": "stdout",
     "output_type": "stream",
     "text": [
      "TensorFlow version: 2.10.1\n",
      "Built with CUDA: True\n",
      "GPU devices: [PhysicalDevice(name='/physical_device:GPU:0', device_type='GPU')]\n",
      "tf.Tensor(\n",
      "[[ 7. 10.]\n",
      " [15. 22.]], shape=(2, 2), dtype=float32)\n"
     ]
    }
   ],
   "execution_count": 198
  },
  {
   "metadata": {
    "ExecuteTime": {
     "end_time": "2025-05-21T16:45:24.153198Z",
     "start_time": "2025-05-21T16:45:24.113725Z"
    }
   },
   "cell_type": "code",
   "source": [
    "# Retrieve the project root dynamically and set it as working directory\n",
    "project_root = find_project_root()\n",
    "os.chdir(project_root)\n",
    "\n",
    "# Define output directories for ML models\n",
    "MODEL_OUTPUT_DIR = \"outputs/modelling/models/\"\n",
    "MODEL_INPIT_OUTPUT_DIR = \"data/processed/model_input\"\n",
    "\n",
    "# Ensure output directories exist\n",
    "os.makedirs(MODEL_OUTPUT_DIR, exist_ok=True)\n",
    "os.makedirs(MODEL_INPIT_OUTPUT_DIR, exist_ok=True)"
   ],
   "id": "95d7b0549f2bae68",
   "outputs": [],
   "execution_count": 199
  },
  {
   "metadata": {},
   "cell_type": "markdown",
   "source": "#### Step 0 - Dataset Loading and Splitting",
   "id": "37fd4474402b8c7b"
  },
  {
   "metadata": {
    "ExecuteTime": {
     "end_time": "2025-05-21T16:45:26.380684Z",
     "start_time": "2025-05-21T16:45:26.195004Z"
    }
   },
   "cell_type": "code",
   "source": [
    "# Step 0.1 Load dataset\n",
    "DATASET_PATH = \"data/processed/historical_merged/historical_IFS_merged_201702_to_202504.csv\"\n",
    "df = pd.read_csv(DATASET_PATH, parse_dates=['date'], index_col='date')\n",
    "df = df.asfreq('h')\n",
    "df"
   ],
   "id": "6fcfeb9dce058167",
   "outputs": [
    {
     "data": {
      "text/plain": [
       "                     temperature_2m  surface_pressure  precipitation  \\\n",
       "date                                                                   \n",
       "2017-02-01 00:00:00             9.6            1008.2            0.0   \n",
       "2017-02-01 01:00:00             9.6            1007.4            0.0   \n",
       "2017-02-01 02:00:00             9.9            1006.8            0.6   \n",
       "2017-02-01 03:00:00            10.0            1006.5            0.3   \n",
       "2017-02-01 04:00:00            10.2            1006.2            0.3   \n",
       "...                             ...               ...            ...   \n",
       "2025-04-30 19:00:00            25.1            1016.6            0.0   \n",
       "2025-04-30 20:00:00            23.0            1016.8            0.0   \n",
       "2025-04-30 21:00:00            20.7            1017.3            0.0   \n",
       "2025-04-30 22:00:00            19.2            1017.5            0.0   \n",
       "2025-04-30 23:00:00            18.0            1017.5            0.0   \n",
       "\n",
       "                     wind_speed_10m  \n",
       "date                                 \n",
       "2017-02-01 00:00:00            14.6  \n",
       "2017-02-01 01:00:00            14.6  \n",
       "2017-02-01 02:00:00            15.1  \n",
       "2017-02-01 03:00:00            15.0  \n",
       "2017-02-01 04:00:00            15.5  \n",
       "...                             ...  \n",
       "2025-04-30 19:00:00            10.1  \n",
       "2025-04-30 20:00:00            11.9  \n",
       "2025-04-30 21:00:00            11.9  \n",
       "2025-04-30 22:00:00             9.0  \n",
       "2025-04-30 23:00:00             7.0  \n",
       "\n",
       "[72264 rows x 4 columns]"
      ],
      "text/html": [
       "<div>\n",
       "<style scoped>\n",
       "    .dataframe tbody tr th:only-of-type {\n",
       "        vertical-align: middle;\n",
       "    }\n",
       "\n",
       "    .dataframe tbody tr th {\n",
       "        vertical-align: top;\n",
       "    }\n",
       "\n",
       "    .dataframe thead th {\n",
       "        text-align: right;\n",
       "    }\n",
       "</style>\n",
       "<table border=\"1\" class=\"dataframe\">\n",
       "  <thead>\n",
       "    <tr style=\"text-align: right;\">\n",
       "      <th></th>\n",
       "      <th>temperature_2m</th>\n",
       "      <th>surface_pressure</th>\n",
       "      <th>precipitation</th>\n",
       "      <th>wind_speed_10m</th>\n",
       "    </tr>\n",
       "    <tr>\n",
       "      <th>date</th>\n",
       "      <th></th>\n",
       "      <th></th>\n",
       "      <th></th>\n",
       "      <th></th>\n",
       "    </tr>\n",
       "  </thead>\n",
       "  <tbody>\n",
       "    <tr>\n",
       "      <th>2017-02-01 00:00:00</th>\n",
       "      <td>9.6</td>\n",
       "      <td>1008.2</td>\n",
       "      <td>0.0</td>\n",
       "      <td>14.6</td>\n",
       "    </tr>\n",
       "    <tr>\n",
       "      <th>2017-02-01 01:00:00</th>\n",
       "      <td>9.6</td>\n",
       "      <td>1007.4</td>\n",
       "      <td>0.0</td>\n",
       "      <td>14.6</td>\n",
       "    </tr>\n",
       "    <tr>\n",
       "      <th>2017-02-01 02:00:00</th>\n",
       "      <td>9.9</td>\n",
       "      <td>1006.8</td>\n",
       "      <td>0.6</td>\n",
       "      <td>15.1</td>\n",
       "    </tr>\n",
       "    <tr>\n",
       "      <th>2017-02-01 03:00:00</th>\n",
       "      <td>10.0</td>\n",
       "      <td>1006.5</td>\n",
       "      <td>0.3</td>\n",
       "      <td>15.0</td>\n",
       "    </tr>\n",
       "    <tr>\n",
       "      <th>2017-02-01 04:00:00</th>\n",
       "      <td>10.2</td>\n",
       "      <td>1006.2</td>\n",
       "      <td>0.3</td>\n",
       "      <td>15.5</td>\n",
       "    </tr>\n",
       "    <tr>\n",
       "      <th>...</th>\n",
       "      <td>...</td>\n",
       "      <td>...</td>\n",
       "      <td>...</td>\n",
       "      <td>...</td>\n",
       "    </tr>\n",
       "    <tr>\n",
       "      <th>2025-04-30 19:00:00</th>\n",
       "      <td>25.1</td>\n",
       "      <td>1016.6</td>\n",
       "      <td>0.0</td>\n",
       "      <td>10.1</td>\n",
       "    </tr>\n",
       "    <tr>\n",
       "      <th>2025-04-30 20:00:00</th>\n",
       "      <td>23.0</td>\n",
       "      <td>1016.8</td>\n",
       "      <td>0.0</td>\n",
       "      <td>11.9</td>\n",
       "    </tr>\n",
       "    <tr>\n",
       "      <th>2025-04-30 21:00:00</th>\n",
       "      <td>20.7</td>\n",
       "      <td>1017.3</td>\n",
       "      <td>0.0</td>\n",
       "      <td>11.9</td>\n",
       "    </tr>\n",
       "    <tr>\n",
       "      <th>2025-04-30 22:00:00</th>\n",
       "      <td>19.2</td>\n",
       "      <td>1017.5</td>\n",
       "      <td>0.0</td>\n",
       "      <td>9.0</td>\n",
       "    </tr>\n",
       "    <tr>\n",
       "      <th>2025-04-30 23:00:00</th>\n",
       "      <td>18.0</td>\n",
       "      <td>1017.5</td>\n",
       "      <td>0.0</td>\n",
       "      <td>7.0</td>\n",
       "    </tr>\n",
       "  </tbody>\n",
       "</table>\n",
       "<p>72264 rows × 4 columns</p>\n",
       "</div>"
      ]
     },
     "execution_count": 200,
     "metadata": {},
     "output_type": "execute_result"
    }
   ],
   "execution_count": 200
  },
  {
   "metadata": {
    "ExecuteTime": {
     "end_time": "2025-05-21T16:45:27.566729Z",
     "start_time": "2025-05-21T16:45:27.544151Z"
    }
   },
   "cell_type": "code",
   "source": [
    "# Step 0.2: Define chronological splits\n",
    "train_start, train_end = \"2017-02-01\", \"2025-01-31\"\n",
    "val_start, val_end = \"2025-02-01\", \"2025-04-30\"\n",
    "\n",
    "# Step 0.3: Subset dataframe\n",
    "df_train = df.loc[train_start:train_end]\n",
    "df_val = df.loc[val_start:val_end]\n",
    "\n",
    "print(f\"Training set: {len(df_train)} rows (~{len(df_train)/24:.0f} days).\")\n",
    "print(f\"Validation set: {len(df_val)} rows (~{len(df_val)/24:.0f}days).\")"
   ],
   "id": "d4ef090c236c9dd3",
   "outputs": [
    {
     "name": "stdout",
     "output_type": "stream",
     "text": [
      "Training set: 70128 rows (~2922 days).\n",
      "Validation set: 2136 rows (~89days).\n"
     ]
    }
   ],
   "execution_count": 201
  },
  {
   "metadata": {},
   "cell_type": "markdown",
   "source": [
    "#### Step 1 – Feature Transformation & Normalisation\n",
    "**Goal**: Transform raw weather variables into scale-stable, model-ready features using rolling statistics. This includes z-scores, IQR scaling, smoothing, and log transforms. These steps are applied before training the Isolation Forest and LSTM-AE models to ensure consistency across training, validation, and inference."
   ],
   "id": "9217db6f238464e7"
  },
  {
   "metadata": {
    "ExecuteTime": {
     "end_time": "2025-05-21T16:45:31.682924Z",
     "start_time": "2025-05-21T16:45:31.654891Z"
    }
   },
   "cell_type": "code",
   "source": [
    "# Step 1.1: Select features (precautionary)\n",
    "features = ['temperature_2m', 'surface_pressure', 'wind_speed_10m', 'precipitation']\n",
    "df_train = df_train[features].copy()\n",
    "df_val =df_val[features].copy()"
   ],
   "id": "ade595eb4dc49513",
   "outputs": [],
   "execution_count": 202
  },
  {
   "metadata": {
    "ExecuteTime": {
     "end_time": "2025-05-21T16:45:32.346203Z",
     "start_time": "2025-05-21T16:45:32.324044Z"
    }
   },
   "cell_type": "code",
   "source": [
    "# Step 1.2: Set parameters for normalisation\n",
    "window_60d = 1440 # rolling window size\n",
    "min_periods_60d = 720 # minimum number of observations required for rolling calculations\n",
    "window_12h = 12 # rolling window size for 12-hour rolling z-score\n",
    "min_periods_12h = 6 # minimum number of observations required for rolling calculations for 12-hour rolling z-score\n",
    "eps = 1e-6  # to avoid division by zero in rolling scaling calculations for precipitation and wind"
   ],
   "id": "1f7a6f38d6f15627",
   "outputs": [],
   "execution_count": 203
  },
  {
   "metadata": {
    "ExecuteTime": {
     "end_time": "2025-05-21T16:45:33.001659Z",
     "start_time": "2025-05-21T16:45:32.920287Z"
    }
   },
   "cell_type": "code",
   "source": [
    "# Step 1.3 Temperature and Surface Pressure: 60-day rolling z-scores\n",
    "for col in ['temperature_2m', 'surface_pressure']:\n",
    "    # Train set\n",
    "    mean_train = df_train[col].rolling(window=window_60d, min_periods=min_periods_60d).mean()\n",
    "    std_train = df_train[col].rolling(window=window_60d, min_periods=min_periods_60d).std()\n",
    "    df_train[f'{col}_z'] = (df_train[col] - mean_train) / (std_train + eps)\n",
    "\n",
    "    # Validation set\n",
    "    mean_val = df_val[col].rolling(window=window_60d, min_periods=min_periods_60d).mean()\n",
    "    std_val = df_val[col].rolling(window=window_60d, min_periods=min_periods_60d).std()\n",
    "    df_val[f'{col}_z'] = (df_val[col] - mean_val) / (std_val + eps)"
   ],
   "id": "e94eb3511e6c0e4d",
   "outputs": [],
   "execution_count": 204
  },
  {
   "metadata": {
    "ExecuteTime": {
     "end_time": "2025-05-21T16:45:33.544479Z",
     "start_time": "2025-05-21T16:45:33.500809Z"
    }
   },
   "cell_type": "code",
   "source": [
    "# Step 1.4: Apply smoothing to wind speed (NO Z-SCORE)\n",
    "df_train['wind_r'] = df_train['wind_speed_10m'].rolling(window=3, min_periods=1).mean()\n",
    "df_val['wind_r']   = df_val['wind_speed_10m'].rolling(window=3, min_periods=1).mean()"
   ],
   "id": "fc6bb049d87a534b",
   "outputs": [],
   "execution_count": 205
  },
  {
   "metadata": {
    "ExecuteTime": {
     "end_time": "2025-05-21T16:45:34.266603Z",
     "start_time": "2025-05-21T16:45:34.026998Z"
    }
   },
   "cell_type": "code",
   "source": [
    "# Step 1.5: Apply IQR scaling to smoothed Wind Speed\n",
    "for df_ in [df_train, df_val]:\n",
    "    med = df_['wind_r'].rolling(window=window_60d, min_periods=min_periods_60d).median()\n",
    "    q75 = df_['wind_r'].rolling(window=window_60d, min_periods=min_periods_60d).quantile(0.75)\n",
    "    q25 = df_['wind_r'].rolling(window=window_60d, min_periods=min_periods_60d).quantile(0.25)\n",
    "    iqr = q75 - q25\n",
    "    df_['wind_r'] = (df_['wind_r'] - med) / (iqr + eps)"
   ],
   "id": "14ceb67a9fcd4b84",
   "outputs": [],
   "execution_count": 206
  },
  {
   "metadata": {
    "ExecuteTime": {
     "end_time": "2025-05-21T16:45:34.547593Z",
     "start_time": "2025-05-21T16:45:34.500528Z"
    }
   },
   "cell_type": "code",
   "source": [
    "# Step 1.6: Tranform Precipitation with log1p\n",
    "# Log transformation reduces skew\n",
    "\n",
    "df_train['precip_log'] = np.log1p(df_train['precipitation'])\n",
    "df_val['precip_log']   = np.log1p(df_val['precipitation'])\n"
   ],
   "id": "e711612a6ddf6dca",
   "outputs": [],
   "execution_count": 207
  },
  {
   "metadata": {
    "ExecuteTime": {
     "end_time": "2025-05-21T16:45:35.114608Z",
     "start_time": "2025-05-21T16:45:35.048078Z"
    }
   },
   "cell_type": "code",
   "source": [
    "# Step 1.7: Apply 12-hour z-score to logged Precipitation\n",
    "# short rolling window captures bursts\n",
    "\n",
    "mean_train = df_train['precip_log'].rolling(window=window_12h, min_periods=min_periods_12h).mean()\n",
    "std_train  = df_train['precip_log'].rolling(window=window_12h, min_periods=min_periods_12h).std()\n",
    "df_train['precip_z_12h'] = (df_train['precip_log'] - mean_train) / (std_train + eps)\n",
    "\n",
    "mean_val = df_val['precip_log'].rolling(window=window_12h, min_periods=min_periods_12h).mean()\n",
    "std_val  = df_val['precip_log'].rolling(window=window_12h, min_periods=min_periods_12h).std()\n",
    "df_val['precip_z_12h'] = (df_val['precip_log'] - mean_val) / (std_val + eps)"
   ],
   "id": "1fcd3166ecadf614",
   "outputs": [],
   "execution_count": 208
  },
  {
   "metadata": {},
   "cell_type": "markdown",
   "source": [
    "#### Step 2 – Time-Based Feature Engineering\n",
    "**Goal**: Add cyclic temporal context to help LSTM-AE learn seasonal and daily rhythms.\n",
    "We encode hour-of-day and month-of-year using sine and cosine pairs\n",
    "to preserve continuity across wraparound points (e.g. 23:00 → 00:00)."
   ],
   "id": "87b0dd47a215d6ea"
  },
  {
   "metadata": {
    "ExecuteTime": {
     "end_time": "2025-05-21T16:45:35.992640Z",
     "start_time": "2025-05-21T16:45:35.956705Z"
    }
   },
   "cell_type": "code",
   "source": [
    "# Step 2.1: Encode Hour-of-Day Cyclically\n",
    "# Extract hour of day and encode as sine/cosine\n",
    "df_train['hour'] = df_train.index.hour\n",
    "df_train['hour_sin'] = np.sin(2 * np.pi * df_train['hour'] / 24)\n",
    "df_train['hour_cos'] = np.cos(2 * np.pi * df_train['hour'] / 24)\n",
    "\n",
    "df_val['hour'] = df_val.index.hour\n",
    "df_val['hour_sin'] = np.sin(2 * np.pi * df_val['hour'] / 24)\n",
    "df_val['hour_cos'] = np.cos(2 * np.pi * df_val['hour'] / 24)"
   ],
   "id": "e419d8a55bedac4",
   "outputs": [],
   "execution_count": 209
  },
  {
   "metadata": {
    "ExecuteTime": {
     "end_time": "2025-05-21T16:45:36.677576Z",
     "start_time": "2025-05-21T16:45:36.645112Z"
    }
   },
   "cell_type": "code",
   "source": [
    "# Step 2.2: Encode Month-of-Year Cyclically\n",
    "\n",
    "# Extract month and encode as sine/cosine\n",
    "df_train['month'] = df_train.index.month\n",
    "df_train['month_sin'] = np.sin(2 * np.pi * df_train['month'] / 12)\n",
    "df_train['month_cos'] = np.cos(2 * np.pi * df_train['month'] / 12)\n",
    "\n",
    "df_val['month'] = df_val.index.month\n",
    "df_val['month_sin'] = np.sin(2 * np.pi * df_val['month'] / 12)\n",
    "df_val['month_cos'] = np.cos(2 * np.pi * df_val['month'] / 12)"
   ],
   "id": "81faa94fc8ca7d95",
   "outputs": [],
   "execution_count": 210
  },
  {
   "metadata": {
    "ExecuteTime": {
     "end_time": "2025-05-21T16:45:37.206172Z",
     "start_time": "2025-05-21T16:45:37.183953Z"
    }
   },
   "cell_type": "code",
   "source": [
    "# Step 2.3: Define LSTM input features\n",
    "# These include raw weather variables (not transformed) and time features\n",
    "lstm_features = ['temperature_2m', 'surface_pressure', 'wind_speed_10m', 'precipitation']\n",
    "lstm_time_features = ['hour_sin', 'hour_cos', 'month_sin', 'month_cos']"
   ],
   "id": "6e6b08a5f8fb2f81",
   "outputs": [],
   "execution_count": 211
  },
  {
   "metadata": {},
   "cell_type": "markdown",
   "source": [
    "#### Step 3 – Isolation Forest Training and Anomaly Scoring\n",
    "**Goal**: Train an Isolation Forest model using the transformed features in if_features.\n",
    "Use the model to compute anomaly scores for both the training and validation sets.\n",
    "Later, apply different thresholds to these scores for masking and inference."
   ],
   "id": "f2dd5ebe80301532"
  },
  {
   "metadata": {
    "ExecuteTime": {
     "end_time": "2025-05-21T16:45:38.416838Z",
     "start_time": "2025-05-21T16:45:38.395133Z"
    }
   },
   "cell_type": "code",
   "source": [
    "# Step 3.1: Define IF model features\n",
    "if_features = ['temperature_2m_z', 'surface_pressure_z', 'wind_r', 'precip_z_12h']"
   ],
   "id": "4a0aa0787edb29d7",
   "outputs": [],
   "execution_count": 212
  },
  {
   "metadata": {
    "ExecuteTime": {
     "end_time": "2025-05-21T16:45:38.895330Z",
     "start_time": "2025-05-21T16:45:38.853814Z"
    }
   },
   "cell_type": "code",
   "source": [
    "# Step 3.2: Drop rows with NaNs in the input features for model training\n",
    "X_train_if = df_train[if_features].dropna()"
   ],
   "id": "c896481ef964c808",
   "outputs": [],
   "execution_count": 213
  },
  {
   "metadata": {
    "ExecuteTime": {
     "end_time": "2025-05-21T16:45:40.599331Z",
     "start_time": "2025-05-21T16:45:39.304035Z"
    }
   },
   "cell_type": "code",
   "source": [
    "# Step 3.3: Train Isolation Forest model\n",
    "if_model = IsolationForest(n_estimators=100, contamination=0.01, random_state=42)\n",
    "if_model.fit(X_train_if)"
   ],
   "id": "1d0c4177848675f4",
   "outputs": [
    {
     "data": {
      "text/plain": [
       "IsolationForest(contamination=0.01, random_state=42)"
      ],
      "text/html": [
       "<style>#sk-container-id-3 {color: black;}#sk-container-id-3 pre{padding: 0;}#sk-container-id-3 div.sk-toggleable {background-color: white;}#sk-container-id-3 label.sk-toggleable__label {cursor: pointer;display: block;width: 100%;margin-bottom: 0;padding: 0.3em;box-sizing: border-box;text-align: center;}#sk-container-id-3 label.sk-toggleable__label-arrow:before {content: \"▸\";float: left;margin-right: 0.25em;color: #696969;}#sk-container-id-3 label.sk-toggleable__label-arrow:hover:before {color: black;}#sk-container-id-3 div.sk-estimator:hover label.sk-toggleable__label-arrow:before {color: black;}#sk-container-id-3 div.sk-toggleable__content {max-height: 0;max-width: 0;overflow: hidden;text-align: left;background-color: #f0f8ff;}#sk-container-id-3 div.sk-toggleable__content pre {margin: 0.2em;color: black;border-radius: 0.25em;background-color: #f0f8ff;}#sk-container-id-3 input.sk-toggleable__control:checked~div.sk-toggleable__content {max-height: 200px;max-width: 100%;overflow: auto;}#sk-container-id-3 input.sk-toggleable__control:checked~label.sk-toggleable__label-arrow:before {content: \"▾\";}#sk-container-id-3 div.sk-estimator input.sk-toggleable__control:checked~label.sk-toggleable__label {background-color: #d4ebff;}#sk-container-id-3 div.sk-label input.sk-toggleable__control:checked~label.sk-toggleable__label {background-color: #d4ebff;}#sk-container-id-3 input.sk-hidden--visually {border: 0;clip: rect(1px 1px 1px 1px);clip: rect(1px, 1px, 1px, 1px);height: 1px;margin: -1px;overflow: hidden;padding: 0;position: absolute;width: 1px;}#sk-container-id-3 div.sk-estimator {font-family: monospace;background-color: #f0f8ff;border: 1px dotted black;border-radius: 0.25em;box-sizing: border-box;margin-bottom: 0.5em;}#sk-container-id-3 div.sk-estimator:hover {background-color: #d4ebff;}#sk-container-id-3 div.sk-parallel-item::after {content: \"\";width: 100%;border-bottom: 1px solid gray;flex-grow: 1;}#sk-container-id-3 div.sk-label:hover label.sk-toggleable__label {background-color: #d4ebff;}#sk-container-id-3 div.sk-serial::before {content: \"\";position: absolute;border-left: 1px solid gray;box-sizing: border-box;top: 0;bottom: 0;left: 50%;z-index: 0;}#sk-container-id-3 div.sk-serial {display: flex;flex-direction: column;align-items: center;background-color: white;padding-right: 0.2em;padding-left: 0.2em;position: relative;}#sk-container-id-3 div.sk-item {position: relative;z-index: 1;}#sk-container-id-3 div.sk-parallel {display: flex;align-items: stretch;justify-content: center;background-color: white;position: relative;}#sk-container-id-3 div.sk-item::before, #sk-container-id-3 div.sk-parallel-item::before {content: \"\";position: absolute;border-left: 1px solid gray;box-sizing: border-box;top: 0;bottom: 0;left: 50%;z-index: -1;}#sk-container-id-3 div.sk-parallel-item {display: flex;flex-direction: column;z-index: 1;position: relative;background-color: white;}#sk-container-id-3 div.sk-parallel-item:first-child::after {align-self: flex-end;width: 50%;}#sk-container-id-3 div.sk-parallel-item:last-child::after {align-self: flex-start;width: 50%;}#sk-container-id-3 div.sk-parallel-item:only-child::after {width: 0;}#sk-container-id-3 div.sk-dashed-wrapped {border: 1px dashed gray;margin: 0 0.4em 0.5em 0.4em;box-sizing: border-box;padding-bottom: 0.4em;background-color: white;}#sk-container-id-3 div.sk-label label {font-family: monospace;font-weight: bold;display: inline-block;line-height: 1.2em;}#sk-container-id-3 div.sk-label-container {text-align: center;}#sk-container-id-3 div.sk-container {/* jupyter's `normalize.less` sets `[hidden] { display: none; }` but bootstrap.min.css set `[hidden] { display: none !important; }` so we also need the `!important` here to be able to override the default hidden behavior on the sphinx rendered scikit-learn.org. See: https://github.com/scikit-learn/scikit-learn/issues/21755 */display: inline-block !important;position: relative;}#sk-container-id-3 div.sk-text-repr-fallback {display: none;}</style><div id=\"sk-container-id-3\" class=\"sk-top-container\"><div class=\"sk-text-repr-fallback\"><pre>IsolationForest(contamination=0.01, random_state=42)</pre><b>In a Jupyter environment, please rerun this cell to show the HTML representation or trust the notebook. <br />On GitHub, the HTML representation is unable to render, please try loading this page with nbviewer.org.</b></div><div class=\"sk-container\" hidden><div class=\"sk-item\"><div class=\"sk-estimator sk-toggleable\"><input class=\"sk-toggleable__control sk-hidden--visually\" id=\"sk-estimator-id-3\" type=\"checkbox\" checked><label for=\"sk-estimator-id-3\" class=\"sk-toggleable__label sk-toggleable__label-arrow\">IsolationForest</label><div class=\"sk-toggleable__content\"><pre>IsolationForest(contamination=0.01, random_state=42)</pre></div></div></div></div></div>"
      ]
     },
     "execution_count": 214,
     "metadata": {},
     "output_type": "execute_result"
    }
   ],
   "execution_count": 214
  },
  {
   "metadata": {
    "ExecuteTime": {
     "end_time": "2025-05-21T16:45:40.880047Z",
     "start_time": "2025-05-21T16:45:40.795054Z"
    }
   },
   "cell_type": "code",
   "source": [
    "# Step 3.4: Save model\n",
    "joblib.dump(if_model,os.path.join(MODEL_OUTPUT_DIR, \"if_model.joblib\"))"
   ],
   "id": "aa809afac92b7322",
   "outputs": [
    {
     "data": {
      "text/plain": [
       "['outputs/modelling/models/if_model.joblib']"
      ]
     },
     "execution_count": 215,
     "metadata": {},
     "output_type": "execute_result"
    }
   ],
   "execution_count": 215
  },
  {
   "metadata": {
    "ExecuteTime": {
     "end_time": "2025-05-21T16:45:41.867579Z",
     "start_time": "2025-05-21T16:45:41.150599Z"
    }
   },
   "cell_type": "code",
   "source": [
    "# Step 3.5: Apply the trained IF model to compute anomaly scores\n",
    "# Scores: higher = more normal, lower = more anomalous\n",
    "\n",
    "df_train_transformed = df_train[if_features].dropna()\n",
    "df_val_transformed = df_val[if_features].dropna()\n",
    "\n",
    "# Score both sets\n",
    "scores_train = if_model.decision_function(df_train_transformed)\n",
    "scores_val   = if_model.decision_function(df_val_transformed)\n",
    "\n",
    "# Store scores in their respective DataFrames\n",
    "df_train.loc[df_train_transformed.index, 'if_score'] = scores_train\n",
    "df_val.loc[df_val_transformed.index, 'if_score'] = scores_val"
   ],
   "id": "9db883c2afe4ff0e",
   "outputs": [],
   "execution_count": 216
  },
  {
   "metadata": {},
   "cell_type": "markdown",
   "source": [
    "#### Step 4 – Anomaly Masking via Percentile Thresholds\n",
    "**Goal**: Convert continuous IF anomaly scores into binary anomaly flags using different percentile thresholds:\n",
    "\n",
    "- A strict threshold (e.g. 1%) for masking LSTM training data\n",
    "\n",
    "- A more relaxed threshold (e.g. 3%) for validation sequences and inference consistency\n",
    "These labels are only used for sequence filtering, not for model training."
   ],
   "id": "ee61448cb90523d1"
  },
  {
   "metadata": {
    "ExecuteTime": {
     "end_time": "2025-05-21T16:45:42.425869Z",
     "start_time": "2025-05-21T16:45:42.402176Z"
    }
   },
   "cell_type": "code",
   "source": [
    "# Step 4.1: Define percentile thresholds for anomaly masking\n",
    "mask_threshold_train = 1  # Top 1% most anomalous points in training\n",
    "mask_threshold_val = 3    # Top 3% most anomalous points in validation"
   ],
   "id": "f806b46a27a6ff2b",
   "outputs": [],
   "execution_count": 217
  },
  {
   "metadata": {
    "ExecuteTime": {
     "end_time": "2025-05-21T16:45:43.100342Z",
     "start_time": "2025-05-21T16:45:43.060013Z"
    }
   },
   "cell_type": "code",
   "source": [
    "# Step 4.2: Apply Thresholds and Assign Flags\n",
    "\n",
    "# Training set masking (strict)\n",
    "threshold_train = np.percentile(scores_train, mask_threshold_train)\n",
    "df_train['is_if_anomaly'] = df_train['if_score'] < threshold_train\n",
    "df_train['is_if_anomaly'] = df_train['is_if_anomaly'].fillna(False)\n",
    "\n",
    "# Validation set masking (relaxed)\n",
    "threshold_val = np.percentile(scores_val, mask_threshold_val)\n",
    "df_val['is_if_anomaly'] = df_val['if_score'] < threshold_val\n",
    "df_val['is_if_anomaly'] = df_val['is_if_anomaly'].fillna(False)\n"
   ],
   "id": "6372ef5c9ec6196b",
   "outputs": [],
   "execution_count": 218
  },
  {
   "metadata": {
    "ExecuteTime": {
     "end_time": "2025-05-21T16:45:43.773689Z",
     "start_time": "2025-05-21T16:45:43.742671Z"
    }
   },
   "cell_type": "code",
   "source": [
    "# Step 4.3: Sanity check: How many anomalies were flagged in training and validation?\n",
    "\n",
    "train_anomaly_counts = df_train['is_if_anomaly'].value_counts()\n",
    "val_anomaly_counts = df_val['is_if_anomaly'].value_counts()\n",
    "\n",
    "# Absolute counts\n",
    "print(\"Training Set Anomaly Counts:\")\n",
    "print(train_anomaly_counts)\n",
    "\n",
    "print(\"\\nValidation Set Anomaly Counts:\")\n",
    "print(val_anomaly_counts)\n",
    "\n",
    "# Proportions (percent of total)\n",
    "train_anomaly_ratio = df_train['is_if_anomaly'].mean()\n",
    "val_anomaly_ratio = df_val['is_if_anomaly'].mean()\n",
    "\n",
    "print(f\"\\nProportion of anomalies in training set: {train_anomaly_ratio:.4f} ({train_anomaly_ratio*100:.2f}%)\")\n",
    "print(f\"Proportion of anomalies in validation set: {val_anomaly_ratio:.4f} ({val_anomaly_ratio*100:.2f}%)\")\n"
   ],
   "id": "f3c4a29c99d18461",
   "outputs": [
    {
     "name": "stdout",
     "output_type": "stream",
     "text": [
      "Training Set Anomaly Counts:\n",
      "is_if_anomaly\n",
      "False    69433\n",
      "True       695\n",
      "Name: count, dtype: int64\n",
      "\n",
      "Validation Set Anomaly Counts:\n",
      "is_if_anomaly\n",
      "False    2093\n",
      "True       43\n",
      "Name: count, dtype: int64\n",
      "\n",
      "Proportion of anomalies in training set: 0.0099 (0.99%)\n",
      "Proportion of anomalies in validation set: 0.0201 (2.01%)\n"
     ]
    }
   ],
   "execution_count": 219
  },
  {
   "metadata": {},
   "cell_type": "markdown",
   "source": [
    "**Isolation Forest Anomaly Proportions**\n",
    "\n",
    "The Isolation Forest flagged around **0.99%** of the training data and **2.01%** of the validation data as anomalies. These cut-off points were based on the 1st percentile for training and the 3rd percentile for validation. These anomaly flags will be used to filter LSTM sequences in Steps 5 and 6.\n",
    "\n",
    "This setup follows guidance from recent studies such as Trinh (2022), Darban (2024), and Antwarg (2021), where similar low proportions were used to help identify unusual patterns.\n",
    "\n",
    "The goal is to:\n",
    "- Keep the training data as “normal” as possible, so the LSTM-AE can learn regular patterns reliably,\n",
    "- Include a few more borderline cases in the validation set, to see how well the model handles slightly noisier sequences.\n",
    "\n",
    "This two-level approach supports the semi-supervised idea of filtering out clear outliers while still testing the model on more varied data."
   ],
   "id": "c2481b5930ceea48"
  },
  {
   "metadata": {
    "ExecuteTime": {
     "end_time": "2025-05-21T16:45:46.577228Z",
     "start_time": "2025-05-21T16:45:45.738832Z"
    }
   },
   "cell_type": "code",
   "source": [
    "# Step 4.4: Plot anomaly scores for training and validation sets and their corresponding anomaly thresholds\n",
    "\n",
    "# Extract existing scores and thresholds (already defined earlier)\n",
    "train_scores = df_train['if_score'].dropna().values\n",
    "val_scores = df_val['if_score'].dropna().values\n",
    "\n",
    "# threshold_train and threshold_val are already defined using 1st and 3rd percentiles\n",
    "\n",
    "# Plot\n",
    "fig, axs = plt.subplots(1, 2, figsize=(14, 6), sharey=True)\n",
    "\n",
    "axs[0].hist(train_scores, bins=100, color='skyblue', edgecolor='black')\n",
    "axs[0].axvline(threshold_train, color='blue', linestyle='--', label='1% Threshold')\n",
    "axs[0].set_title(\"Training Set IF Anomaly Scores\")\n",
    "axs[0].set_xlabel(\"Anomaly Score\")\n",
    "axs[0].set_ylabel(\"Frequency\")\n",
    "axs[0].legend()\n",
    "axs[0].grid(True)\n",
    "\n",
    "axs[1].hist(val_scores, bins=100, color='salmon', edgecolor='black')\n",
    "axs[1].axvline(threshold_val, color='red', linestyle='--', label='3% Threshold')\n",
    "axs[1].set_title(\"Validation Set IF Anomaly Scores\")\n",
    "axs[1].set_xlabel(\"Anomaly Score\")\n",
    "axs[1].legend()\n",
    "axs[1].grid(True)\n",
    "\n",
    "plt.tight_layout()\n",
    "plt.show()"
   ],
   "id": "ad154f47be49edb6",
   "outputs": [
    {
     "data": {
      "text/plain": [
       "<Figure size 1400x600 with 2 Axes>"
      ],
      "image/png": "[encoded data removed]"
     },
     "metadata": {},
     "output_type": "display_data"
    }
   ],
   "execution_count": 220
  },
  {
   "metadata": {},
   "cell_type": "markdown",
   "source": [
    "***Interpreting Historgrams for Isolation Forest Score Thresholds***\n",
    "\n",
    "These plots help explain how the 1% and 3% anomaly thresholds were applied to the training and validation sets.\n",
    "\n",
    "- In the **training set**, the blue dashed line shows the **1% cut-off** (resting around 0.00), where only the most extreme points (far left tail) were flagged as anomalies.\n",
    "- In the **validation set**, the red dashed line marks the **3% threshold** (around the 0.05 mark), allowing a slightly broader range of less typical values to pass through.\n",
    "\n",
    "This approach supports our filtering logic — keeping LSTM-AE training focused on clean sequences while still testing it on more varied patterns. The different shapes of the two distributions are due to the difference in dataset sizes and thresholds, which is expected."
   ],
   "id": "23749e704df1b1a5"
  },
  {
   "metadata": {},
   "cell_type": "markdown",
   "source": [
    "#### Step 5 – LSTM-AE Sequence Construction (Training)\n",
    "**Goal**: Extract 30-day (720-hour) sequences from the training set for the LSTM Autoencoder.\n",
    "Sequences must contain no NaNs and no more than 14 anomalous points (~2% of the sequence) to preserve training stability while retaining data coverage."
   ],
   "id": "3ad7f76ce1d1b06b"
  },
  {
   "metadata": {
    "ExecuteTime": {
     "end_time": "2025-05-21T16:47:00.683245800Z",
     "start_time": "2025-05-21T16:45:49.729899Z"
    }
   },
   "cell_type": "code",
   "source": [
    "# Step 5.1: Determine the optimal number of allowed anomalies per sequence\n",
    "\n",
    "\n",
    "# Run once compute the number of retained sequences for each threshold, then comment out (the code runs >25 mins!)\n",
    "#==============================\n",
    "# sequence_length = 720\n",
    "# stride = 1\n",
    "# thresholds = list(range(0, 31))  # 0 to 30 anomalies allowed\n",
    "# retention_counts = []\n",
    "#\n",
    "# for max_anomalies in thresholds:\n",
    "#     count_retained = 0\n",
    "#\n",
    "#     for start in range(0, len(df_train) - sequence_length + 1, stride):\n",
    "#         window = df_train.iloc[start:start + sequence_length]\n",
    "#\n",
    "#         if window.isna().any().any():\n",
    "#             continue\n",
    "#\n",
    "#         anomaly_count = window['is_if_anomaly'].sum()\n",
    "#         if anomaly_count <= max_anomalies:\n",
    "#             count_retained += 1\n",
    "#\n",
    "#     retention_counts.append(count_retained)\n",
    "# =============================\n",
    "\n",
    "# Reconstruct data due to kernel reset - comment out if running above\n",
    "# =============================\n",
    "thresholds = list(range(0, 31))\n",
    "retention_counts = [\n",
    "    3299, 13168, 20906, 26992, 33243, 38519, 41095, 44329, 46445, 48455,\n",
    "    51726, 54342, 56932, 57938, 59237, 60195, 60985, 61911, 63007, 63847,\n",
    "    64496, 65463, 65881, 66048, 66165, 66745, 67020, 67538, 67648, 67689, 67788\n",
    "]\n",
    "# =============================\n",
    "# Convert to DataFrame\n",
    "df = pd.DataFrame({'Max Anomalies': thresholds, 'Retained': retention_counts})\n",
    "\n",
    "# First derivative: gain per additional anomaly\n",
    "df['Gain'] = df['Retained'].diff().fillna(0)\n",
    "\n",
    "# Plot\n",
    "fig, ax1 = plt.subplots(figsize=(10, 6))\n",
    "\n",
    "color = 'tab:blue'\n",
    "ax1.set_xlabel('Max Anomalies Allowed per Sequence')\n",
    "ax1.set_ylabel('Retained Sequences', color=color)\n",
    "ax1.plot(df['Max Anomalies'], df['Retained'], marker='o', color=color, label='Retained Sequences')\n",
    "ax1.tick_params(axis='y', labelcolor=color)\n",
    "ax1.grid(True)\n",
    "\n",
    "# Plot gain on secondary axis\n",
    "ax2 = ax1.twinx()\n",
    "color = 'tab:red'\n",
    "ax2.set_ylabel('Gain (Δ Sequences)', color=color)\n",
    "ax2.plot(df['Max Anomalies'], df['Gain'], marker='x', color=color, linestyle='--', label='Gain per Step')\n",
    "ax2.tick_params(axis='y', labelcolor=color)\n",
    "\n",
    "# Add vertical line at likely sweet spot (e.g. 14)\n",
    "ax1.axvline(x=14, linestyle='--', color='grey', label='Chosen Threshold (14)')\n",
    "\n",
    "fig.tight_layout()\n",
    "plt.title(\"Retained Sequences vs. Max Allowed Anomalies (with Gain per Step)\")\n",
    "plt.show()"
   ],
   "id": "5e89a00b0383f05d",
   "outputs": [
    {
     "data": {
      "text/plain": [
       "<Figure size 1000x600 with 2 Axes>"
      ],
      "image/png": "[encoded data removed]"
     },
     "metadata": {},
     "output_type": "display_data"
    }
   ],
   "execution_count": 221
  },
  {
   "metadata": {},
   "cell_type": "markdown",
   "source": [
    "**Choosing the Maximum Number of Anomalies per Sequence - Understanding the Plot**\n",
    "\n",
    "This plot shows how the number of retained training sequences increases as we allow more anomalies per sequence.\n",
    "\n",
    "- Allowing up to **14 anomalies** retains around **59,000 sequences**.\n",
    "- This gives us a large, useful training set while still filtering out sequences with too many anomalies.\n",
    "- After 14, the number of extra sequences gained slows down, meaning we get less benefit from relaxing the filter further.\n",
    "- Choosing 14 as the cut-off gives us a good balance between **clean data** and **enough volume for training**.\n",
    "\n",
    "This follows advice from Trinh (2022) and Darban (2024), who suggest allowing around 2% noise to avoid underfitting while still keeping the training set reliable.\n"
   ],
   "id": "5e0065dbba955be3"
  },
  {
   "metadata": {
    "ExecuteTime": {
     "end_time": "2025-05-21T16:47:06.584461Z",
     "start_time": "2025-05-21T16:47:06.551206Z"
    }
   },
   "cell_type": "code",
   "source": [
    "# Step 5.2: Define Parameters and Initialise\n",
    "\n",
    "# Sequence parameters\n",
    "sequence_length = 720        # 30 days of hourly data\n",
    "sequence_stride = 1          # Slide 1 hour at a time\n",
    "max_allowed_anomalies = 14   # ~2% tolerance per sequence\n",
    "\n",
    "# Features for LSTM-AE\n",
    "lstm_input_cols_all = lstm_features + lstm_time_features\n",
    "\n",
    "# Initialise counters and sequence store\n",
    "debug_counts = {\n",
    "    'total': 0,\n",
    "    'has_nans': 0,\n",
    "    'has_anomalies': 0,\n",
    "    'added': 0\n",
    "}\n",
    "train_sequences = []"
   ],
   "id": "b1568981ff9cacf5",
   "outputs": [],
   "execution_count": 223
  },
  {
   "metadata": {
    "ExecuteTime": {
     "end_time": "2025-05-21T16:49:20.532111Z",
     "start_time": "2025-05-21T16:47:09.562537Z"
    }
   },
   "cell_type": "code",
   "source": [
    "# Step 5.3: Construct Sequences from df_train\n",
    "\n",
    "# initialise an empty set all timestamps found in constructed sequences for later analysis\n",
    "trained_on_lstm_timestamps = set()\n",
    "\n",
    "# Total number of possible starting positions for 720-hour windows\n",
    "total_windows = len(df_train) - sequence_length + 1\n",
    "\n",
    "# Slide a window through the entire training dataset\n",
    "for start in tqdm(range(0, total_windows, sequence_stride), desc=\"Constructing training sequences\"):\n",
    "    # Get a 720-hour slice of the data\n",
    "    window = df_train.iloc[start:start + sequence_length]\n",
    "    debug_counts['total'] += 1\n",
    "\n",
    "    # Skip if any NaNs exist in the window (due to rolling features)\n",
    "    if window.isna().any().any():\n",
    "        debug_counts['has_nans'] += 1\n",
    "        continue\n",
    "\n",
    "    # Skip if too many anomalies (based on Isolation Forest flag)\n",
    "    if window['is_if_anomaly'].sum() > max_allowed_anomalies:\n",
    "        debug_counts['has_anomalies'] += 1\n",
    "        continue\n",
    "\n",
    "    # If the window passed all checks, keep it for training\n",
    "    train_sequences.append(window[lstm_input_cols_all].values)\n",
    "    trained_on_lstm_timestamps.update(window.index)  # Track which timestamps were \"seen\" by the model\n",
    "    debug_counts['added'] += 1\n",
    "\n",
    "# After all windows have been evaluated, assign a new flag to df_train\n",
    "# This marks whether each timestamp was included in any LSTM training sequence\n",
    "df_train[\"used_in_lstm_training\"] = df_train.index.isin(trained_on_lstm_timestamps)\n",
    "\n",
    "# Summary of how many windows were used, and why others were rejected\n",
    "print(\"Training sequence construction complete.\")\n",
    "print(f\"Window stats: {debug_counts}\")"
   ],
   "id": "6aea9e37e9be1f49",
   "outputs": [
    {
     "name": "stderr",
     "output_type": "stream",
     "text": [
      "Constructing training sequences: 100%|██████████| 69409/69409 [02:10<00:00, 531.59it/s] \n"
     ]
    },
    {
     "name": "stdout",
     "output_type": "stream",
     "text": [
      "Training sequence construction complete.\n",
      "Window stats: {'total': 69409, 'has_nans': 719, 'has_anomalies': 9453, 'added': 59237}\n"
     ]
    }
   ],
   "execution_count": 224
  },
  {
   "metadata": {},
   "cell_type": "markdown",
   "source": [
    "**Anomaly Threshold Experiment Summary (Training Set)**\n",
    "\n",
    "We tested how many training sequences could be created with different limits on how many anomalies are allowed per 720-hour (30-day) window.\n",
    "\n",
    "The number of sequences with NaNs at 719 is fully justified by the 720-hour minimum window affecting the first 719 hours due to rolling stats.\n",
    "\n",
    "With a maximum of 14 anomalies per sequence (around 2%), we kept over 59,000 training windows — about 87% of all usable sequences.\n",
    "\n",
    "Reducing the limit to 7 anomalies (around 1%) led to 44,000 valid sequences — a 25% drop. This shows how stricter filtering reduces training data volume.\n",
    "\n",
    "Studies by Darban (2024), Kulkarni et al. (2024), and Trinh (2022) support allowing 1–3% anomaly presence in training. It improves generalisation and avoids underfitting by keeping slight noise and variation. Based on this, we chose 14 anomalies as a balanced threshold for robust LSTM-AE training."
   ],
   "id": "b8ad428137719dd0"
  },
  {
   "metadata": {
    "ExecuteTime": {
     "end_time": "2025-05-21T16:53:51.361655Z",
     "start_time": "2025-05-21T16:53:49.769854Z"
    }
   },
   "cell_type": "code",
   "source": [
    "# Step 4.5: Stack into model-ready tensor\n",
    "# Format: (n_sequences, 720, n_features)\n",
    "\n",
    "X_train_lstm = np.stack(train_sequences)\n",
    "print(f\"LSTM training sequences: {X_train_lstm.shape}\")"
   ],
   "id": "fd248c952b9baf78",
   "outputs": [
    {
     "name": "stdout",
     "output_type": "stream",
     "text": [
      "LSTM training sequences: (59237, 720, 8)\n"
     ]
    }
   ],
   "execution_count": 227
  },
  {
   "metadata": {},
   "cell_type": "markdown",
   "source": [
    "#### Step 6 – LSTM-AE Sequence Construction (Validation)\n",
    "**Goal**: Extract 720-hour sequences from the validation set using the same feature columns, stride, and relaxed masking as in training.\n",
    "This set is used for threshold tuning, early stopping, and SHAP analysis."
   ],
   "id": "408a45564681253f"
  },
  {
   "metadata": {
    "ExecuteTime": {
     "end_time": "2025-05-21T16:53:53.918366Z",
     "start_time": "2025-05-21T16:53:53.894711Z"
    }
   },
   "cell_type": "code",
   "source": [
    "# Step 6.1: Define Parameters and Initialise\n",
    "\n",
    "val_sequences = []\n",
    "val_debug = {\n",
    "    'total': 0,\n",
    "    'has_nans': 0,\n",
    "    'has_anomalies': 0,\n",
    "    'added': 0\n",
    "}"
   ],
   "id": "dd600e62267b8f99",
   "outputs": [],
   "execution_count": 228
  },
  {
   "metadata": {
    "ExecuteTime": {
     "end_time": "2025-05-21T16:53:57.360676Z",
     "start_time": "2025-05-21T16:53:56.304197Z"
    }
   },
   "cell_type": "code",
   "source": [
    "# Step 6.2: Slide window across validation set\n",
    "\n",
    "for start in range(0, len(df_val) - sequence_length + 1, sequence_stride):\n",
    "    window = df_val.iloc[start:start + sequence_length]\n",
    "    val_debug['total'] += 1\n",
    "\n",
    "    if window.isna().any().any():\n",
    "        val_debug['has_nans'] += 1\n",
    "        continue\n",
    "\n",
    "    if window['is_if_anomaly'].sum() > max_allowed_anomalies:\n",
    "        val_debug['has_anomalies'] += 1\n",
    "        continue\n",
    "\n",
    "    val_sequences.append(window[lstm_input_cols_all].values)\n",
    "    val_debug['added'] += 1\n",
    "\n",
    "print(\"Validation sequence construction complete.\")\n",
    "print(f\"Validation window stats: {val_debug}\")"
   ],
   "id": "6e98f5dc83ea984e",
   "outputs": [
    {
     "name": "stdout",
     "output_type": "stream",
     "text": [
      "Validation sequence construction complete.\n",
      "Validation window stats: {'total': 1417, 'has_nans': 719, 'has_anomalies': 636, 'added': 62}\n"
     ]
    }
   ],
   "execution_count": 229
  },
  {
   "metadata": {
    "ExecuteTime": {
     "end_time": "2025-05-21T16:54:01.790292Z",
     "start_time": "2025-05-21T16:54:00.903743Z"
    }
   },
   "cell_type": "code",
   "source": [
    "# Step 6.4: Audit of the timestamps in the accepted sequences\n",
    "\n",
    "accepted_timestamps = set()\n",
    "\n",
    "for i in range(0, len(df_val) - 720 + 1, sequence_stride):\n",
    "    window = df_val.iloc[i:i+720]\n",
    "    if window.isna().any().any(): continue\n",
    "    if window['is_if_anomaly'].sum() > max_allowed_anomalies: continue\n",
    "    accepted_timestamps.update(window.index)\n",
    "\n",
    "accepted_timestamps = sorted(accepted_timestamps)\n",
    "print(f\"The {val_debug['added']} accepted sequences span {len(accepted_timestamps)} timestamps.\\n\"\n",
    "      f\"Sequence length: {sequence_length} \\n\"\n",
    "      f\"Stride: {sequence_stride} \\n\"\n",
    "      f\"{val_debug['added']} * {sequence_stride} + {sequence_length} - 1 = {val_debug['added'] * sequence_stride + sequence_length - 1}\"\n",
    "      )"
   ],
   "id": "68400c48db8cbfe6",
   "outputs": [
    {
     "name": "stdout",
     "output_type": "stream",
     "text": [
      "The 62 accepted sequences span 781 timestamps.\n",
      "Sequence length: 720 \n",
      "Stride: 1 \n",
      "62 * 1 + 720 - 1 = 781\n"
     ]
    }
   ],
   "execution_count": 230
  },
  {
   "metadata": {
    "ExecuteTime": {
     "end_time": "2025-05-21T16:54:14.524123Z",
     "start_time": "2025-05-21T16:54:14.512330Z"
    }
   },
   "cell_type": "code",
   "source": "print(f\"Sequences span from {min(accepted_timestamps)} to {max(accepted_timestamps)}\")",
   "id": "e8ac57ee0a92e06e",
   "outputs": [
    {
     "name": "stdout",
     "output_type": "stream",
     "text": [
      "Sequences span from 2025-03-11 03:00:00 to 2025-04-12 15:00:00\n"
     ]
    }
   ],
   "execution_count": 231
  },
  {
   "metadata": {},
   "cell_type": "markdown",
   "source": [
    "**Validation Sequence Coverage Summary**\n",
    "\n",
    "After filtering for NaNs and excessive anomalies, **62 validation sequences** were accepted for LSTM-AE evaluation. These sequences:\n",
    "\n",
    "- Span from **11 March to 12 April 2025**,\n",
    "- Each cover **720 hours (30 days)** with stride 1,\n",
    "- Follow the rule of allowing **no missing values** and **no more than 14 anomalies** per window.\n",
    "\n",
    "This filtering ensures that the model is tested on **clean and reliable data**, in line with guidance from Trinh (2022) and Darban (2024), who recommend allowing up to 2% anomaly tolerance.\n",
    "\n",
    "If wider coverage is needed, the anomaly threshold can be raised slightly.\n"
   ],
   "id": "7a42602eb955301f"
  },
  {
   "metadata": {
    "ExecuteTime": {
     "end_time": "2025-05-21T16:54:31.343853Z",
     "start_time": "2025-05-21T16:54:31.322460Z"
    }
   },
   "cell_type": "code",
   "source": [
    "# Step 6.3: Final shape: (n_val_sequences, 720, n_features)\n",
    "\n",
    "X_val_lstm = np.stack(val_sequences)\n",
    "print(f\"LSTM validation sequences: {X_val_lstm.shape}\")"
   ],
   "id": "e0f1a3c02b55c5c",
   "outputs": [
    {
     "name": "stdout",
     "output_type": "stream",
     "text": [
      "LSTM validation sequences: (62, 720, 8)\n"
     ]
    }
   ],
   "execution_count": 232
  },
  {
   "metadata": {},
   "cell_type": "markdown",
   "source": [
    "#### Step 7 – Save Processed Sequences and Transformed Data\n",
    "**Goal**: Persist key outputs including preprocessed training and validation dataframes, and their corresponding LSTM-AE tensors.\n",
    "This allows reuse for model training, threshold tuning, and interpretability tasks without re-running all preprocessing steps."
   ],
   "id": "e6c2f03351e07d37"
  },
  {
   "metadata": {
    "ExecuteTime": {
     "end_time": "2025-05-21T16:55:00.887734Z",
     "start_time": "2025-05-21T16:54:36.474883Z"
    }
   },
   "cell_type": "code",
   "source": [
    "# Save transformed DataFrames (optional but useful for SHAP/debugging)\n",
    "df_train.to_csv(os.path.join(MODEL_INPIT_OUTPUT_DIR, 'df_train_preprocessed.csv'))\n",
    "df_val.to_csv(os.path.join(MODEL_INPIT_OUTPUT_DIR, 'df_val_preprocessed.csv'))\n",
    "\n",
    "# Save LSTM-AE ready sequences\n",
    "np.save(os.path.join(MODEL_INPIT_OUTPUT_DIR, 'X_train_lstm.npy'), X_train_lstm)\n",
    "np.save(os.path.join(MODEL_INPIT_OUTPUT_DIR, 'X_val_lstm.npy'), X_val_lstm)"
   ],
   "id": "b6bd7413118fd30d",
   "outputs": [],
   "execution_count": 233
  },
  {
   "metadata": {},
   "cell_type": "markdown",
   "source": [
    "#### Step 8 – Train the LSTM Autoencoder\n",
    "**Goal**: Train an LSTM-based autoencoder on the 720-hour sequences (X_train_lstm) to learn normal weather patterns.\n",
    "During evaluation, sequences that produce high reconstruction error will be considered anomalous."
   ],
   "id": "c8d90784b4beca63"
  },
  {
   "metadata": {
    "ExecuteTime": {
     "end_time": "2025-05-21T16:56:33.991416Z",
     "start_time": "2025-05-21T16:56:32.345256Z"
    }
   },
   "cell_type": "code",
   "source": [
    "# Step 8.1: Define the LSTM-AE Architecture\n",
    "\n",
    "# Get sequence and feature dimensions\n",
    "timesteps = X_train_lstm.shape[1]  # e.g. 720\n",
    "n_features = X_train_lstm.shape[2] # e.g. 8\n",
    "\n",
    "# Define model\n",
    "input_layer = Input(shape=(timesteps, n_features))\n",
    "\n",
    "# Encoder\n",
    "encoded = LSTM(64, activation='tanh', return_sequences=True)(input_layer)\n",
    "encoded = LSTM(32, activation='tanh', return_sequences=False)(encoded)\n",
    "\n",
    "# Bottleneck\n",
    "bottleneck = RepeatVector(timesteps)(encoded)\n",
    "\n",
    "# Decoder\n",
    "decoded = LSTM(32, activation='tanh', return_sequences=True)(bottleneck)\n",
    "decoded = LSTM(64, activation='tanh', return_sequences=True)(decoded)\n",
    "decoded = TimeDistributed(Dense(n_features))(decoded)\n",
    "\n",
    "# Assemble\n",
    "autoencoder = Model(inputs=input_layer, outputs=decoded)\n",
    "autoencoder.compile(optimizer=Adam(learning_rate=0.001), loss='mae')\n",
    "\n",
    "# Print summary\n",
    "autoencoder.summary()"
   ],
   "id": "12ea1302fb9842fe",
   "outputs": [
    {
     "name": "stdout",
     "output_type": "stream",
     "text": [
      "Model: \"model_2\"\n",
      "_________________________________________________________________\n",
      " Layer (type)                Output Shape              Param #   \n",
      "=================================================================\n",
      " input_3 (InputLayer)        [(None, 720, 8)]          0         \n",
      "                                                                 \n",
      " lstm_8 (LSTM)               (None, 720, 64)           18688     \n",
      "                                                                 \n",
      " lstm_9 (LSTM)               (None, 32)                12416     \n",
      "                                                                 \n",
      " repeat_vector_2 (RepeatVect  (None, 720, 32)          0         \n",
      " or)                                                             \n",
      "                                                                 \n",
      " lstm_10 (LSTM)              (None, 720, 32)           8320      \n",
      "                                                                 \n",
      " lstm_11 (LSTM)              (None, 720, 64)           24832     \n",
      "                                                                 \n",
      " time_distributed_2 (TimeDis  (None, 720, 8)           520       \n",
      " tributed)                                                       \n",
      "                                                                 \n",
      "=================================================================\n",
      "Total params: 64,776\n",
      "Trainable params: 64,776\n",
      "Non-trainable params: 0\n",
      "_________________________________________________________________\n"
     ]
    }
   ],
   "execution_count": 234
  },
  {
   "metadata": {},
   "cell_type": "markdown",
   "source": [
    "#### Step 9 – Train the LSTM Autoencoder with Early Stopping <br>\n",
    "**Goal**: Train the LSTM-AE to reconstruct normal sequences using MAE loss.\n",
    "Early stopping prevents overfitting by halting training when validation loss no longer improves."
   ],
   "id": "ce12a503332f08dc"
  },
  {
   "metadata": {},
   "cell_type": "markdown",
   "source": [
    "**Training Configuration Summary**\n",
    "\n",
    "We trained the LSTM Autoencoder using the following settings:\n",
    "\n",
    "Loss = 'mae' (Mean Absolute Error):\n",
    "MAE is used to measure how closely the model can reconstruct each value in a sequence. It is more robust to outliers than MSE and works well for threshold-based anomaly detection (Trinh, 2022; Darban, 2024).\n",
    "\n",
    "Batch size = 32:\n",
    "This is a typical batch size for time-series data. It allows the model to learn temporal dependencies while maintaining training efficiency (Kulkarni et al., 2024).\n",
    "\n",
    "Epochs = 100 with early stopping (patience = 5):\n",
    "Early stopping halts training when the validation loss stops improving. This prevents overfitting and saves resources (Bâra et al., 2024).\n",
    "\n",
    "ModelCheckpoint:\n",
    "We saved the best-performing model (based on validation loss) to a .h5 file for reuse. This avoids retraining and supports downstream analysis (Antwarg et al., 2021).\n",
    "\n",
    "Shuffle = True:\n",
    "Shuffling training sequences prevents the model from overfitting to local trends and improves generalisation (Darban, 2024).\n",
    "\n",
    "*Note*: Track GPU usage during training, enter `cmd` in Windows search and enter `nvidia-smi -l 5`"
   ],
   "id": "42deab7341c94a7f"
  },
  {
   "metadata": {
    "ExecuteTime": {
     "end_time": "2025-05-21T11:14:06.163214Z",
     "start_time": "2025-05-21T11:14:06.149214Z"
    }
   },
   "cell_type": "code",
   "source": [
    "# Step 9.1: Train the LSTM Autoencoder model\n",
    "\n",
    "# uncomment the code below for retraining\n",
    "\n",
    "## Define callbacks\n",
    "# early_stopping = EarlyStopping(monitor='val_loss', patience=5, restore_best_weights=True)\n",
    "#\n",
    "# model_checkpoint = ModelCheckpoint(\n",
    "#     filepath='outputs/modelling/models/lstm_ae_best.h5',\n",
    "#     monitor='val_loss',\n",
    "#     save_best_only=True,\n",
    "#     verbose=1\n",
    "# )\n",
    "#\n",
    "# # Train the model\n",
    "# history = autoencoder.fit(\n",
    "#     X_train_lstm, X_train_lstm,\n",
    "#     epochs=100,\n",
    "#     batch_size=32,\n",
    "#     validation_data=(X_val_lstm, X_val_lstm),\n",
    "#     callbacks=[early_stopping, model_checkpoint],\n",
    "#     shuffle=True,\n",
    "#     verbose=2\n",
    "# )\n",
    "\n",
    "## Plot training history\n",
    "# plt.figure(figsize=(8, 4))\n",
    "# plt.plot(history.history['loss'], label='Train Loss')\n",
    "# plt.plot(history.history['val_loss'], label='Validation Loss')\n",
    "# plt.xlabel(\"Epoch\")\n",
    "# plt.ylabel(\"MAE Loss\")\n",
    "# plt.title(\"LSTM-AE Training Loss\")\n",
    "# plt.legend()\n",
    "# plt.grid(True)\n",
    "# plt.tight_layout()\n",
    "# plt.show()"
   ],
   "id": "fb9daf41db1eaede",
   "outputs": [],
   "execution_count": 155
  },
  {
   "metadata": {},
   "cell_type": "markdown",
   "source": [
    "**LSTM-AE Training Summary**\n",
    "\n",
    "The LSTM Autoencoder was trained for up to 100 epochs with early stopping (patience = 5) based on validation loss (MAE). The model achieved rapid and stable convergence:\n",
    "\n",
    "- **Initial val_loss:** 113.69\n",
    "- **Best val_loss:** 2.29 (Epoch 11)\n",
    "- **Training loss plateaued** around 2.74 from Epoch 9 onward\n",
    "- **No signs of overfitting** — val_loss continued improving until early stopping was triggered\n",
    "\n",
    "This learning behaviour suggests the model has successfully learned to reconstruct \"normal\" sequences and is now well-suited to flag outliers during inference. The final model was saved at Epoch 11.\n",
    "\n",
    "This performance is consistent with similar LSTM-AE implementations in time series anomaly detection literature (Trinh, 2022; Darban, 2024; Yang, 2023), where MAE values in the 2–5 range were typical after normalisation and robust sequence filtering.\n"
   ],
   "id": "fb931cac254d22ea"
  },
  {
   "metadata": {},
   "cell_type": "markdown",
   "source": [
    "#### Step 10: Evaluate the trained LSTM-AE model using the validation set\n",
    "**Goal**: The aim of this step is to evaluate the trained LSTM Autoencoder on the validation set and assess how well it reconstructs the input weather sequences. The clean validation sequences are used as a proxy for normal patterns - thus, this step does not test anomaly detection per se, but rather sets a statistical baseline for \"normal\" scores.\n",
    "\n",
    "This is achieved by calculating the reconstruction error (mean absolute error, MAE) for each hour, then aggregating these errors by timestamp to identify potential anomalies. This timestamp-level scoring will later be merged into `df_val` to support downstream interpretability, dashboard display, and hybrid labelling.\n",
    "\n",
    "This step ensures that we:\n",
    "- Detect **pattern anomalies** missed by Isolation Forest (IF),\n",
    "- Provide consistent scoring per hour for explainability,\n",
    "- Flag timestamps with unexpectedly high reconstruction error.\n",
    "\n",
    "This approach aligns with Trinh (2022), Kulkarni (2024), and Bâra (2024), who all use reconstruction error statistics and percentile-based thresholds to identify temporal outliers."
   ],
   "id": "72aac7e57736928f"
  },
  {
   "metadata": {
    "ExecuteTime": {
     "end_time": "2025-05-21T16:57:35.755183Z",
     "start_time": "2025-05-21T16:57:32.850716Z"
    }
   },
   "cell_type": "code",
   "source": [
    "# Step 10.1: Compute mean reconstruction errors per timestamp\n",
    "\n",
    "# Predict reconstruction from trained LSTM-AE\n",
    "recon_val = autoencoder.predict(X_val_lstm, verbose=1)\n",
    "\n",
    "# Compute per-timestep MAE (across features)\n",
    "reconstruction_errors = np.mean(np.abs(X_val_lstm - recon_val), axis=2)  # shape: (n_sequences, 720)\n",
    "\n",
    "# Rebuild true validation sequence timestamps from filtered logic (Step 6.2)\n",
    "valid_sequence_starts = []  # only for accepted sequences\n",
    "\n",
    "for i in range(0, len(df_val) - 720 + 1, sequence_stride):\n",
    "    window = df_val.iloc[i:i+720]\n",
    "    if window.isna().any().any(): continue\n",
    "    if window['is_if_anomaly'].sum() > max_allowed_anomalies: continue\n",
    "    valid_sequence_starts.append(window.index[0])\n",
    "\n",
    "# Sanity check\n",
    "assert len(valid_sequence_starts) == reconstruction_errors.shape[0], \"Mismatch in accepted sequence count!\"\n",
    "\n",
    "# Flatten timestamps and errors\n",
    "timestamps = []\n",
    "errors = []\n",
    "\n",
    "for i in range(len(valid_sequence_starts)):\n",
    "    start_time = valid_sequence_starts[i]\n",
    "    for j in range(720):\n",
    "        timestamps.append(start_time + pd.Timedelta(hours=j))\n",
    "        errors.append(reconstruction_errors[i, j])\n",
    "\n",
    "# Create tidy DataFrame\n",
    "df_lstm_recon_errors = pd.DataFrame({\n",
    "    'timestamp': timestamps,\n",
    "    'reconstruction_error': errors\n",
    "})\n",
    "\n",
    "# Sort and preview\n",
    "df_lstm_recon_errors.sort_values('timestamp', inplace=True)\n",
    "df_lstm_recon_errors.reset_index(drop=True, inplace=True)"
   ],
   "id": "10bd2cb5579b433b",
   "outputs": [
    {
     "name": "stdout",
     "output_type": "stream",
     "text": [
      "2/2 [==============================] - 1s 102ms/step\n"
     ]
    }
   ],
   "execution_count": 235
  },
  {
   "metadata": {},
   "cell_type": "markdown",
   "source": [
    "**Why we need the mean MAE per timestamp**\n",
    "\n",
    "Each hour in the validation set may appear in multiple sequences due to the sliding window.\n",
    "\n",
    "To ensure each timestamp has one meaningful score, we compute the **mean reconstruction error (MAE) per timestamp**. This gives a fair, unbiased view of how well the model reconstructed that hour, in line with best practice for multistep time-series evaluation (Wenig, 2022; Darban, 2024).\n"
   ],
   "id": "9b99fe3f2e9ce815"
  },
  {
   "metadata": {
    "ExecuteTime": {
     "end_time": "2025-05-21T16:57:36.618875Z",
     "start_time": "2025-05-21T16:57:36.590509Z"
    }
   },
   "cell_type": "code",
   "source": [
    "# Step 10.1 continued: Compute mean LSTM-AE reconstruction error (MAE) per timestamp\n",
    "\n",
    "df_lstm_recon_errors_agg = (\n",
    "    df_lstm_recon_errors\n",
    "    .groupby('timestamp')['reconstruction_error']\n",
    "    .mean()\n",
    "    .reset_index()\n",
    "    .rename(columns={'reconstruction_error': 'lstm_score'})\n",
    ")\n",
    "\n",
    "df_lstm_recon_errors_agg[\"lstm_score\"].describe()"
   ],
   "id": "d6da5657e69c4df7",
   "outputs": [
    {
     "data": {
      "text/plain": [
       "count    781.000000\n",
       "mean     129.738993\n",
       "std        1.372000\n",
       "min      126.195564\n",
       "25%      129.007134\n",
       "50%      129.955696\n",
       "75%      130.704360\n",
       "max      132.510736\n",
       "Name: lstm_score, dtype: float64"
      ]
     },
     "execution_count": 236,
     "metadata": {},
     "output_type": "execute_result"
    }
   ],
   "execution_count": 236
  },
  {
   "metadata": {
    "ExecuteTime": {
     "end_time": "2025-05-21T16:57:38.060209Z",
     "start_time": "2025-05-21T16:57:37.615888Z"
    }
   },
   "cell_type": "code",
   "source": [
    "# Step 10.2: Plotting mean reconstruction errors per timestamp over time\n",
    "\n",
    "plt.figure(figsize=(14, 6))\n",
    "plt.plot(df_lstm_recon_errors_agg['timestamp'], df_lstm_recon_errors_agg['lstm_score'], color='steelblue', linewidth=0.6)\n",
    "plt.title(\"LSTM-AE Reconstruction Error Over Time (Validation Set)\")\n",
    "plt.xlabel(\"Timestamp\")\n",
    "plt.ylabel(\"Reconstruction Error (MAE)\")\n",
    "plt.grid(True)\n",
    "plt.tight_layout()\n",
    "plt.show()"
   ],
   "id": "a6de8b9b120dda73",
   "outputs": [
    {
     "data": {
      "text/plain": [
       "<Figure size 1400x600 with 1 Axes>"
      ],
      "image/png": "[encoded data removed]"
     },
     "metadata": {},
     "output_type": "display_data"
    }
   ],
   "execution_count": 237
  },
  {
   "metadata": {},
   "cell_type": "markdown",
   "source": [
    "Next, we merge the per-timestamp LSTM-AE reconstruction error (`lstm_score`) into `df_val` to provide a unified DataFrame for anomaly scoring and downstream explainability.\n",
    "\n",
    "This ensures each row now contains:\n",
    "- Input weather features,\n",
    "- `if_score` and `is_if_anomaly` from Isolation Forest,\n",
    "- `lstm_score` from the Autoencoder.\n",
    "\n",
    "This merged structure supports hybrid labelling (e.g. compound anomaly detection), explainable AI attribution (e.g. TreeSHAP, IG), and dashboard reporting."
   ],
   "id": "8eebe0c948595585"
  },
  {
   "metadata": {
    "ExecuteTime": {
     "end_time": "2025-05-21T16:57:38.807420Z",
     "start_time": "2025-05-21T16:57:38.777625Z"
    }
   },
   "cell_type": "code",
   "source": [
    "# Step 10.3 Merge the LSTM-AE score (mean MAE per timestamp) into df_val\n",
    "\n",
    "# Join using timestamp alignment (df_val index is datetime-based)\n",
    "\n",
    "if 'lstm_score' in df_val.columns:\n",
    "    df_val.drop(columns='lstm_score', inplace=True)\n",
    "\n",
    "df_val = df_val.merge(\n",
    "    df_lstm_recon_errors_agg,\n",
    "    how='left',\n",
    "    left_index=True,\n",
    "    right_on='timestamp'\n",
    ").set_index('timestamp')\n",
    "\n",
    "\n",
    "df_val.head()"
   ],
   "id": "91e4fb2c8afd78cd",
   "outputs": [
    {
     "data": {
      "text/plain": [
       "                     temperature_2m  surface_pressure  wind_speed_10m  \\\n",
       "timestamp                                                               \n",
       "2025-02-01 00:00:00             3.8            1025.9             2.9   \n",
       "2025-02-01 01:00:00             3.6            1026.1             3.4   \n",
       "2025-02-01 02:00:00             5.4            1026.3             4.4   \n",
       "2025-02-01 03:00:00             5.6            1026.5             6.9   \n",
       "2025-02-01 04:00:00             5.2            1026.6             6.6   \n",
       "\n",
       "                     precipitation  temperature_2m_z  surface_pressure_z  \\\n",
       "timestamp                                                                  \n",
       "2025-02-01 00:00:00            0.0               NaN                 NaN   \n",
       "2025-02-01 01:00:00            0.0               NaN                 NaN   \n",
       "2025-02-01 02:00:00            0.0               NaN                 NaN   \n",
       "2025-02-01 03:00:00            0.0               NaN                 NaN   \n",
       "2025-02-01 04:00:00            0.0               NaN                 NaN   \n",
       "\n",
       "                     wind_r  precip_log  precip_z_12h  hour  hour_sin  \\\n",
       "timestamp                                                               \n",
       "2025-02-01 00:00:00     NaN         0.0           NaN     0  0.000000   \n",
       "2025-02-01 01:00:00     NaN         0.0           NaN     1  0.258819   \n",
       "2025-02-01 02:00:00     NaN         0.0           NaN     2  0.500000   \n",
       "2025-02-01 03:00:00     NaN         0.0           NaN     3  0.707107   \n",
       "2025-02-01 04:00:00     NaN         0.0           NaN     4  0.866025   \n",
       "\n",
       "                     hour_cos  month  month_sin  month_cos  if_score  \\\n",
       "timestamp                                                              \n",
       "2025-02-01 00:00:00  1.000000      2   0.866025        0.5       NaN   \n",
       "2025-02-01 01:00:00  0.965926      2   0.866025        0.5       NaN   \n",
       "2025-02-01 02:00:00  0.866025      2   0.866025        0.5       NaN   \n",
       "2025-02-01 03:00:00  0.707107      2   0.866025        0.5       NaN   \n",
       "2025-02-01 04:00:00  0.500000      2   0.866025        0.5       NaN   \n",
       "\n",
       "                     is_if_anomaly  lstm_score  \n",
       "timestamp                                       \n",
       "2025-02-01 00:00:00          False         NaN  \n",
       "2025-02-01 01:00:00          False         NaN  \n",
       "2025-02-01 02:00:00          False         NaN  \n",
       "2025-02-01 03:00:00          False         NaN  \n",
       "2025-02-01 04:00:00          False         NaN  "
      ],
      "text/html": [
       "<div>\n",
       "<style scoped>\n",
       "    .dataframe tbody tr th:only-of-type {\n",
       "        vertical-align: middle;\n",
       "    }\n",
       "\n",
       "    .dataframe tbody tr th {\n",
       "        vertical-align: top;\n",
       "    }\n",
       "\n",
       "    .dataframe thead th {\n",
       "        text-align: right;\n",
       "    }\n",
       "</style>\n",
       "<table border=\"1\" class=\"dataframe\">\n",
       "  <thead>\n",
       "    <tr style=\"text-align: right;\">\n",
       "      <th></th>\n",
       "      <th>temperature_2m</th>\n",
       "      <th>surface_pressure</th>\n",
       "      <th>wind_speed_10m</th>\n",
       "      <th>precipitation</th>\n",
       "      <th>temperature_2m_z</th>\n",
       "      <th>surface_pressure_z</th>\n",
       "      <th>wind_r</th>\n",
       "      <th>precip_log</th>\n",
       "      <th>precip_z_12h</th>\n",
       "      <th>hour</th>\n",
       "      <th>hour_sin</th>\n",
       "      <th>hour_cos</th>\n",
       "      <th>month</th>\n",
       "      <th>month_sin</th>\n",
       "      <th>month_cos</th>\n",
       "      <th>if_score</th>\n",
       "      <th>is_if_anomaly</th>\n",
       "      <th>lstm_score</th>\n",
       "    </tr>\n",
       "    <tr>\n",
       "      <th>timestamp</th>\n",
       "      <th></th>\n",
       "      <th></th>\n",
       "      <th></th>\n",
       "      <th></th>\n",
       "      <th></th>\n",
       "      <th></th>\n",
       "      <th></th>\n",
       "      <th></th>\n",
       "      <th></th>\n",
       "      <th></th>\n",
       "      <th></th>\n",
       "      <th></th>\n",
       "      <th></th>\n",
       "      <th></th>\n",
       "      <th></th>\n",
       "      <th></th>\n",
       "      <th></th>\n",
       "      <th></th>\n",
       "    </tr>\n",
       "  </thead>\n",
       "  <tbody>\n",
       "    <tr>\n",
       "      <th>2025-02-01 00:00:00</th>\n",
       "      <td>3.8</td>\n",
       "      <td>1025.9</td>\n",
       "      <td>2.9</td>\n",
       "      <td>0.0</td>\n",
       "      <td>NaN</td>\n",
       "      <td>NaN</td>\n",
       "      <td>NaN</td>\n",
       "      <td>0.0</td>\n",
       "      <td>NaN</td>\n",
       "      <td>0</td>\n",
       "      <td>0.000000</td>\n",
       "      <td>1.000000</td>\n",
       "      <td>2</td>\n",
       "      <td>0.866025</td>\n",
       "      <td>0.5</td>\n",
       "      <td>NaN</td>\n",
       "      <td>False</td>\n",
       "      <td>NaN</td>\n",
       "    </tr>\n",
       "    <tr>\n",
       "      <th>2025-02-01 01:00:00</th>\n",
       "      <td>3.6</td>\n",
       "      <td>1026.1</td>\n",
       "      <td>3.4</td>\n",
       "      <td>0.0</td>\n",
       "      <td>NaN</td>\n",
       "      <td>NaN</td>\n",
       "      <td>NaN</td>\n",
       "      <td>0.0</td>\n",
       "      <td>NaN</td>\n",
       "      <td>1</td>\n",
       "      <td>0.258819</td>\n",
       "      <td>0.965926</td>\n",
       "      <td>2</td>\n",
       "      <td>0.866025</td>\n",
       "      <td>0.5</td>\n",
       "      <td>NaN</td>\n",
       "      <td>False</td>\n",
       "      <td>NaN</td>\n",
       "    </tr>\n",
       "    <tr>\n",
       "      <th>2025-02-01 02:00:00</th>\n",
       "      <td>5.4</td>\n",
       "      <td>1026.3</td>\n",
       "      <td>4.4</td>\n",
       "      <td>0.0</td>\n",
       "      <td>NaN</td>\n",
       "      <td>NaN</td>\n",
       "      <td>NaN</td>\n",
       "      <td>0.0</td>\n",
       "      <td>NaN</td>\n",
       "      <td>2</td>\n",
       "      <td>0.500000</td>\n",
       "      <td>0.866025</td>\n",
       "      <td>2</td>\n",
       "      <td>0.866025</td>\n",
       "      <td>0.5</td>\n",
       "      <td>NaN</td>\n",
       "      <td>False</td>\n",
       "      <td>NaN</td>\n",
       "    </tr>\n",
       "    <tr>\n",
       "      <th>2025-02-01 03:00:00</th>\n",
       "      <td>5.6</td>\n",
       "      <td>1026.5</td>\n",
       "      <td>6.9</td>\n",
       "      <td>0.0</td>\n",
       "      <td>NaN</td>\n",
       "      <td>NaN</td>\n",
       "      <td>NaN</td>\n",
       "      <td>0.0</td>\n",
       "      <td>NaN</td>\n",
       "      <td>3</td>\n",
       "      <td>0.707107</td>\n",
       "      <td>0.707107</td>\n",
       "      <td>2</td>\n",
       "      <td>0.866025</td>\n",
       "      <td>0.5</td>\n",
       "      <td>NaN</td>\n",
       "      <td>False</td>\n",
       "      <td>NaN</td>\n",
       "    </tr>\n",
       "    <tr>\n",
       "      <th>2025-02-01 04:00:00</th>\n",
       "      <td>5.2</td>\n",
       "      <td>1026.6</td>\n",
       "      <td>6.6</td>\n",
       "      <td>0.0</td>\n",
       "      <td>NaN</td>\n",
       "      <td>NaN</td>\n",
       "      <td>NaN</td>\n",
       "      <td>0.0</td>\n",
       "      <td>NaN</td>\n",
       "      <td>4</td>\n",
       "      <td>0.866025</td>\n",
       "      <td>0.500000</td>\n",
       "      <td>2</td>\n",
       "      <td>0.866025</td>\n",
       "      <td>0.5</td>\n",
       "      <td>NaN</td>\n",
       "      <td>False</td>\n",
       "      <td>NaN</td>\n",
       "    </tr>\n",
       "  </tbody>\n",
       "</table>\n",
       "</div>"
      ]
     },
     "execution_count": 238,
     "metadata": {},
     "output_type": "execute_result"
    }
   ],
   "execution_count": 238
  },
  {
   "metadata": {},
   "cell_type": "markdown",
   "source": [
    "Below we compared three common thresholding methods to flag potential anomalies in LSTM-AE reconstruction scores:\n",
    "\n",
    "- **Mean + 2×Standard Deviation** (a classic statistical cut-off),\n",
    "- **95th percentile** (top 5% of scores),\n",
    "- **99th percentile** (very strict, top 1%).\n",
    "\n",
    "These methods are widely used in unsupervised time-series anomaly detection. Trinh (2022) and Kulkarni (2024) recommend percentile-based thresholds for their adaptability, while Bâra (2024) applies similar thresholds in hybrid weather anomaly pipelines. Wenig (2022) further supports this in a review of modern multivariate anomaly detection techniques."
   ],
   "id": "aba9a03718d0966c"
  },
  {
   "metadata": {
    "ExecuteTime": {
     "end_time": "2025-05-21T16:57:39.971172Z",
     "start_time": "2025-05-21T16:57:39.955077Z"
    }
   },
   "cell_type": "code",
   "source": [
    "# Step 10.4: Compute anomaly thresholds using three methods for lstm_score\n",
    "\n",
    "# Drop NA values in case some timestamps were unmatched during merge\n",
    "valid_lstm_scores = df_val['lstm_score'].dropna()\n",
    "\n",
    "# A. Mean + 2×Standard Deviation\n",
    "mean_lstm = valid_lstm_scores.mean()\n",
    "std_lstm = valid_lstm_scores.std()\n",
    "threshold_mean_2std = mean_lstm + 2 * std_lstm\n",
    "\n",
    "# B. 95th Percentile\n",
    "threshold_95 = valid_lstm_scores.quantile(0.95)\n",
    "\n",
    "# C. 99th Percentile\n",
    "threshold_99 = valid_lstm_scores.quantile(0.99)\n",
    "\n",
    "# Show thresholds\n",
    "print(\"Thresholds for LSTM-AE reconstruction error:\")\n",
    "print(f\"Mean + 2×Std: {threshold_mean_2std:.4f}\")\n",
    "print(f\"95th Percentile: {threshold_95:.4f}\")\n",
    "print(f\"99th Percentile: {threshold_99:.4f}\")\n"
   ],
   "id": "93af924243d2fa4c",
   "outputs": [
    {
     "name": "stdout",
     "output_type": "stream",
     "text": [
      "Thresholds for LSTM-AE reconstruction error:\n",
      "Mean + 2×Std: 132.4830\n",
      "95th Percentile: 131.7437\n",
      "99th Percentile: 132.0893\n"
     ]
    }
   ],
   "execution_count": 239
  },
  {
   "metadata": {
    "ExecuteTime": {
     "end_time": "2025-05-21T16:57:41.020313Z",
     "start_time": "2025-05-21T16:57:40.523255Z"
    }
   },
   "cell_type": "code",
   "source": [
    "# Step 10.5: Visualise reconstruction errors with thresholds\n",
    "\n",
    "# Plot histogram of reconstruction errors with thresholds\n",
    "plt.figure(figsize=(12, 6))\n",
    "plt.hist(valid_lstm_scores, bins=100, color='lightsteelblue', edgecolor='black', alpha=0.8)\n",
    "\n",
    "# Add threshold lines\n",
    "plt.axvline(threshold_mean_2std, color='darkgreen', linestyle='--', linewidth=2, label='Mean + 2×Std')\n",
    "plt.axvline(threshold_95, color='orange', linestyle='--', linewidth=2, label='95th Percentile')\n",
    "plt.axvline(threshold_99, color='red', linestyle='--', linewidth=2, label='99th Percentile')\n",
    "\n",
    "# Labels and formatting\n",
    "plt.title(\"Distribution of LSTM-AE Reconstruction Errors (Validation Set)\")\n",
    "plt.xlabel(\"Reconstruction Error (MAE)\")\n",
    "plt.ylabel(\"Frequency\")\n",
    "plt.legend()\n",
    "plt.grid(True)\n",
    "plt.tight_layout()\n",
    "plt.show()"
   ],
   "id": "2157a6c3770fe5d3",
   "outputs": [
    {
     "data": {
      "text/plain": [
       "<Figure size 1200x600 with 1 Axes>"
      ],
      "image/png": "[encoded data removed]"
     },
     "metadata": {},
     "output_type": "display_data"
    }
   ],
   "execution_count": 240
  },
  {
   "metadata": {},
   "cell_type": "markdown",
   "source": [
    "**Interpretation of the Histogram**\n",
    "\n",
    "The histogram shows a **left-skewed** distribution, where most timestamps have similar reconstruction scores and a few are reconstructed extremely well.\n",
    "\n",
    "This makes sense: we only used **1 month of clean, accepted sequences** (from March to early April). These were selected to be stable and reliable — so it's normal that the LSTM-AE reconstructed them well.\n",
    "\n",
    "After reviewing the distribution, we selected the **95th percentile** as our final threshold. This method is widely used in unsupervised time-series anomaly detection because it adapts well to real-world score distributions and avoids relying on normality assumptions (Trinh, 2022; Kulkarni, 2024; Bara, 2024). It also offers a balance between sensitivity and precision, unlike stricter thresholds that risk missing useful signals.\n"
   ],
   "id": "61c2b8576b4230d6"
  },
  {
   "metadata": {
    "ExecuteTime": {
     "end_time": "2025-05-21T16:57:47.532125Z",
     "start_time": "2025-05-21T16:57:47.512464Z"
    }
   },
   "cell_type": "code",
   "source": [
    "# Step 10.6: Flag timestamps with unusually high reconstruction error\n",
    "\n",
    "# Reuse or recompute the threshold\n",
    "threshold_95 = df_val['lstm_score'].dropna().quantile(0.95)\n",
    "\n",
    "# Create a new boolean flag\n",
    "df_val['is_lstm_anomaly'] = df_val['lstm_score'] > threshold_95\n",
    "\n",
    "# Optional: check how many were flagged\n",
    "n_anomalies = df_val['is_lstm_anomaly'].sum()\n",
    "print(f\"Timestamps flagged as LSTM anomalies: {n_anomalies}\")"
   ],
   "id": "a591e42e88433a53",
   "outputs": [
    {
     "name": "stdout",
     "output_type": "stream",
     "text": [
      "Timestamps flagged as LSTM anomalies: 39\n"
     ]
    }
   ],
   "execution_count": 241
  },
  {
   "metadata": {},
   "cell_type": "markdown",
   "source": [
    "#### Step 11: Hybrid Anomaly Labelling\n",
    "\n",
    "**Goal**:Now that the LSTM-AE has been evaluated and scored, we combine its anomaly flags with those from Isolation Forest (IF) to generate high-level labels. This hybrid labelling is applied after evaluating the LSTM-AE on clean validation sequences, ensuring that both models contribute meaningful signals for downstream tasks.\n",
    "\n",
    "Each timestamp will be tagged as one of the following:\n",
    "\n",
    "- **Normal**: not flagged by either model,\n",
    "- **Point anomaly**: flagged by IF only,\n",
    "- **Pattern anomaly**: flagged by LSTM-AE only,\n",
    "- **Compound anomaly**: flagged by both.\n",
    "\n",
    "These labels will be used by the XAI lead for explanation generation and passed to the dashboard lead for display and user alerts."
   ],
   "id": "3b75c323cefc2228"
  },
  {
   "metadata": {
    "ExecuteTime": {
     "end_time": "2025-05-21T16:58:13.249218Z",
     "start_time": "2025-05-21T16:58:13.180826Z"
    }
   },
   "cell_type": "code",
   "source": [
    "# Step 11.1: Assign hybrid anomaly labels based on IF and LSTM results\n",
    "\n",
    "def assign_label(row):\n",
    "    if row['is_if_anomaly'] and row['is_lstm_anomaly']:\n",
    "        return 'Compound anomaly'\n",
    "    elif row['is_if_anomaly']:\n",
    "        return 'Point anomaly'\n",
    "    elif row['is_lstm_anomaly']:\n",
    "        return 'Pattern anomaly'\n",
    "    else:\n",
    "        return 'Normal'\n",
    "\n",
    "df_val.loc[:,'anomaly_label'] = df_val.apply(assign_label, axis=1)\n",
    "\n",
    "# drop rows where there no if score or lstm score\n",
    "df_val = df_val.dropna(subset=[\"if_score\",\"lstm_score\"])\n",
    "\n",
    "# Confirm there are no missing values in df_val\n",
    "print(f\"Are there any missing values in validation set? {'Yes' if df_val.isna().any().any() else 'No'}\")\n",
    "\n",
    "# Check the distribution of labels\n",
    "df_val['anomaly_label'].value_counts()"
   ],
   "id": "a39d44812a3041c1",
   "outputs": [
    {
     "name": "stdout",
     "output_type": "stream",
     "text": [
      "Are there any missing values in validation set? No\n"
     ]
    },
    {
     "data": {
      "text/plain": [
       "anomaly_label\n",
       "Normal             724\n",
       "Pattern anomaly     39\n",
       "Point anomaly       18\n",
       "Name: count, dtype: int64"
      ]
     },
     "execution_count": 242,
     "metadata": {},
     "output_type": "execute_result"
    }
   ],
   "execution_count": 242
  },
  {
   "metadata": {},
   "cell_type": "markdown",
   "source": [
    "#### Step 12 – Retrospective LSTM-AE Scoring on Training Set\n",
    "\n",
    "**Goal**: Evaluate the trained LSTM Autoencoder on the full `df_train` using 720-hour sliding windows. Unlike Step 5 (which only used clean windows for training), this step includes **all possible sequences**, regardless of anomaly presence.\n",
    "\n",
    "For each sequence:\n",
    "- The model reconstructs the 8 raw + time features.\n",
    "- Reconstruction errors are computed per hour (MAE).\n",
    "- These are flattened across overlapping windows and **aggregated by timestamp** using the mean.\n",
    "\n",
    "This allows us to:\n",
    "- Detect **pattern anomalies** in the historical training data,\n",
    "- Flag new anomalies using a 95th percentile threshold on MAE,\n",
    "- Compare LSTM-AE behaviour across **seen** vs **unseen** data (`used_in_lstm_training`),\n",
    "- Generate a new column `pseudo_label = is_if_anomaly | is_lstm_anomaly` for hybrid analysis and dashboard support.\n",
    "\n",
    "This step mirrors Step 10, but applies to the training set without any sequence-level masking."
   ],
   "id": "50d45139541c4b06"
  },
  {
   "metadata": {
    "ExecuteTime": {
     "end_time": "2025-05-21T17:12:11.931120Z",
     "start_time": "2025-05-21T17:10:42.645859Z"
    }
   },
   "cell_type": "code",
   "source": [
    "# Step 12.1 – Collect all valid 720-hour sequences from df_train\n",
    "\n",
    "# Containers for sequences and their starting timestamps\n",
    "seq_inputs_train = []\n",
    "seq_start_times_train = []\n",
    "\n",
    "# Track sequence-level diagnostics\n",
    "debug_counts_12 = {\"total\": 0, \"has_nans\": 0, \"added\": 0}\n",
    "\n",
    "# Compute total number of sliding windows\n",
    "total_windows = len(df_train) - sequence_length + 1\n",
    "\n",
    "# Slide window across full df_train (stride = 1 hour)\n",
    "for start in tqdm(range(0, total_windows, sequence_stride), desc=\"Scoring df_train with LSTM-AE\"):\n",
    "    window = df_train.iloc[start:start + sequence_length]\n",
    "    debug_counts_12['total'] += 1\n",
    "\n",
    "    # Skip sequences with NaNs (e.g. due to early rolling features)\n",
    "    if window.isna().any().any():\n",
    "        debug_counts_12['has_nans'] += 1\n",
    "        continue\n",
    "\n",
    "    seq_inputs_train.append(window[lstm_input_cols_all].values)\n",
    "    seq_start_times_train.append(window.index[0])\n",
    "    debug_counts_12['added'] += 1\n",
    "\n",
    "print(\"Step 12.1 complete – sequence extraction finished.\")\n",
    "print(f\"Window stats: {debug_counts_12}\")"
   ],
   "id": "517532894cd8cf3f",
   "outputs": [
    {
     "name": "stderr",
     "output_type": "stream",
     "text": [
      "Scoring df_train with LSTM-AE: 100%|██████████| 69409/69409 [01:29<00:00, 777.58it/s]"
     ]
    },
    {
     "name": "stdout",
     "output_type": "stream",
     "text": [
      "Step 12.1 complete – sequence extraction finished.\n",
      "Window stats: {'total': 69409, 'has_nans': 719, 'added': 68690}\n"
     ]
    },
    {
     "name": "stderr",
     "output_type": "stream",
     "text": [
      "\n"
     ]
    }
   ],
   "execution_count": 243
  },
  {
   "metadata": {
    "ExecuteTime": {
     "end_time": "2025-05-21T17:15:46.739741Z",
     "start_time": "2025-05-21T17:12:35.407404Z"
    }
   },
   "cell_type": "code",
   "source": [
    "# Step 12.2 – Predict reconstructions using trained LSTM-AE\n",
    "\n",
    "# Stack sequences into a 3D NumPy array\n",
    "X_seq_train = np.stack(seq_inputs_train)\n",
    "\n",
    "# Predict reconstructions\n",
    "recon_seq_train = autoencoder.predict(X_seq_train, verbose=1)\n",
    "\n",
    "# Compute MAE per timestep in each sequence\n",
    "mae_seq_train = np.mean(np.abs(X_seq_train - recon_seq_train), axis=2)"
   ],
   "id": "527f2a66e6d2d0c",
   "outputs": [
    {
     "name": "stdout",
     "output_type": "stream",
     "text": [
      "2147/2147 [==============================] - 178s 83ms/step\n"
     ]
    }
   ],
   "execution_count": 244
  },
  {
   "metadata": {
    "ExecuteTime": {
     "end_time": "2025-05-21T17:23:39.127273Z",
     "start_time": "2025-05-21T17:16:33.691639Z"
    }
   },
   "cell_type": "code",
   "source": [
    "# Step 12.3 – Flatten reconstruction errors to timestamp-level list\n",
    "\n",
    "timestamps = []\n",
    "mae_values = []\n",
    "\n",
    "# For each sequence, assign error to each hour\n",
    "for i, start_time in enumerate(seq_start_times_train):\n",
    "    for j in range(sequence_length):\n",
    "        timestamps.append(start_time + pd.Timedelta(hours=j))\n",
    "        mae_values.append(mae_seq_train[i, j])\n",
    "\n",
    "# Combine into dataframe\n",
    "df_lstm_errors_train = pd.DataFrame({\n",
    "    \"timestamp\": timestamps,\n",
    "    \"lstm_score\": mae_values\n",
    "})\n"
   ],
   "id": "54bccf872f6baa82",
   "outputs": [],
   "execution_count": 245
  },
  {
   "metadata": {
    "ExecuteTime": {
     "end_time": "2025-05-21T17:26:00.759496Z",
     "start_time": "2025-05-21T17:25:59.449327Z"
    }
   },
   "cell_type": "code",
   "source": [
    "# Step 12.4 – Aggregate MAE per timestamp\n",
    "\n",
    "# Some timestamps appear in multiple overlapping sequences — we average their MAEs\n",
    "df_lstm_errors_train_agg = (\n",
    "    df_lstm_errors_train\n",
    "    .groupby(\"timestamp\")[\"lstm_score\"]\n",
    "    .mean()\n",
    "    .reset_index()\n",
    ")\n",
    "\n",
    "# Clean old score if it exists\n",
    "df_train = df_train.drop(columns=\"lstm_score\", errors=\"ignore\")\n",
    "\n",
    "# Merge lstm_score into df_train\n",
    "df_train = df_train.merge(\n",
    "    df_lstm_errors_train_agg,\n",
    "    how=\"left\",\n",
    "    left_index=True,\n",
    "    right_on=\"timestamp\"\n",
    ").set_index(\"timestamp\")"
   ],
   "id": "703dec4613454a22",
   "outputs": [],
   "execution_count": 246
  },
  {
   "metadata": {
    "ExecuteTime": {
     "end_time": "2025-05-21T17:26:06.824233Z",
     "start_time": "2025-05-21T17:26:06.810416Z"
    }
   },
   "cell_type": "code",
   "source": [
    "# Step 12.5 – Flag LSTM anomalies using 95th percentile threshold\n",
    "\n",
    "# Calculate threshold based on training reconstruction errors\n",
    "lstm_mae_threshold = df_train[\"lstm_score\"].dropna().quantile(0.95)\n",
    "df_train[\"is_lstm_anomaly\"] = df_train[\"lstm_score\"] > lstm_mae_threshold\n"
   ],
   "id": "d0f52887d22dc2a6",
   "outputs": [],
   "execution_count": 247
  },
  {
   "metadata": {
    "ExecuteTime": {
     "end_time": "2025-05-21T17:47:51.004715Z",
     "start_time": "2025-05-21T17:47:48.905330Z"
    }
   },
   "cell_type": "code",
   "source": [
    "# Step 12.6 – Assign pseudo-label (based on IF or LSTM anomaly)\n",
    "\n",
    "# Assign label\n",
    "df_train[\"anomaly_label\"] = df_train.apply(assign_label, axis=1)\n",
    "\n",
    "df_train[\"anomaly_label\"] = df_train.apply(assign_label, axis=1)\n",
    "# df_train[\"pseudo_label\"] = (df_train[\"anomaly_label\"] != \"Normal\").astype(int)\n",
    "# Final log\n",
    "print(f\"Anomalies flagged only by LSTM-AE: {len(df_train[df_train['anomaly_label'] =='Pattern anomaly'])}\")\n",
    "print(f\"Anomalies flagged only by IF: {len(df_train[df_train['anomaly_label']=='Point anomaly'])}\")\n",
    "print(f\"Anomalies flagged by both LSTM-AE and IF: {len(df_train[df_train['anomaly_label']=='Compound anomaly'])}\")\n",
    "print(f\"Pseudo-labelled anomalies: {len(df_train[df_train['anomaly_label']!='Normal'])} / {len(df_train)}\")"
   ],
   "id": "18d9413f8f5847ad",
   "outputs": [
    {
     "name": "stdout",
     "output_type": "stream",
     "text": [
      "Anomalies flagged only by LSTM-AE: 3408\n",
      "Anomalies flagged only by IF: 632\n",
      "Anomalies flagged by both LSTM-AE and IF: 63\n",
      "Pseudo-labelled anomalies: 4103 / 70128\n"
     ]
    }
   ],
   "execution_count": 269
  },
  {
   "metadata": {
    "ExecuteTime": {
     "end_time": "2025-05-21T17:40:48.125862Z",
     "start_time": "2025-05-21T17:40:48.092510Z"
    }
   },
   "cell_type": "code",
   "source": "df_train[(df_train['is_lstm_anomaly'] == True)&(df_train['is_if_anomaly'] == True)]",
   "id": "c059eb2f78060544",
   "outputs": [
    {
     "data": {
      "text/plain": [
       "                     temperature_2m  surface_pressure  wind_speed_10m  \\\n",
       "timestamp                                                               \n",
       "2017-04-21 12:00:00            14.8            1028.8            16.3   \n",
       "2017-05-16 15:00:00            20.9            1020.1            24.1   \n",
       "2017-06-11 18:00:00            19.3            1009.0            27.9   \n",
       "2017-10-05 08:00:00            16.3            1009.7            30.4   \n",
       "2017-10-14 12:00:00            17.6            1021.8            17.1   \n",
       "...                             ...               ...             ...   \n",
       "2024-05-31 10:00:00            13.8            1014.9            31.2   \n",
       "2024-08-08 13:00:00            20.4            1010.8            28.0   \n",
       "2024-08-15 19:00:00            20.6            1009.4            28.5   \n",
       "2024-08-21 13:00:00            19.6            1014.6            21.0   \n",
       "2024-08-31 14:00:00            19.4            1019.1            22.7   \n",
       "\n",
       "                     precipitation  temperature_2m_z  surface_pressure_z  \\\n",
       "timestamp                                                                  \n",
       "2017-04-21 12:00:00            0.1          1.713372            1.287535   \n",
       "2017-05-16 15:00:00            0.6          3.078443            0.478745   \n",
       "2017-06-11 18:00:00            0.1          1.524179           -0.579719   \n",
       "2017-10-05 08:00:00            0.1          0.391309           -0.314499   \n",
       "2017-10-14 12:00:00            0.1          0.899208            1.400407   \n",
       "...                            ...               ...                 ...   \n",
       "2024-05-31 10:00:00            0.1          0.467263            0.569475   \n",
       "2024-08-08 13:00:00            0.1          0.763622            0.095151   \n",
       "2024-08-15 19:00:00            0.1          0.626357           -0.305876   \n",
       "2024-08-21 13:00:00            0.1          0.348589            0.865471   \n",
       "2024-08-31 14:00:00            0.2          0.363677            1.681212   \n",
       "\n",
       "                       wind_r  precip_log  precip_z_12h  hour  ...  \\\n",
       "timestamp                                                      ...   \n",
       "2017-04-21 12:00:00 -0.129534    0.095310      3.175311    12  ...   \n",
       "2017-05-16 15:00:00  1.337232    0.470004      3.175403    15  ...   \n",
       "2017-06-11 18:00:00  1.552759    0.095310      3.175311    18  ...   \n",
       "2017-10-05 08:00:00  2.287937    0.095310      3.175311     8  ...   \n",
       "2017-10-14 12:00:00  0.626838    0.095310      3.175311    12  ...   \n",
       "...                       ...         ...           ...   ...  ...   \n",
       "2024-05-31 10:00:00  1.490456    0.095310      3.175311    10  ...   \n",
       "2024-08-08 13:00:00  1.701680    0.095310      3.175311    13  ...   \n",
       "2024-08-15 19:00:00  2.389439    0.095310      3.175311    19  ...   \n",
       "2024-08-21 13:00:00  1.172199    0.095310      3.175311    13  ...   \n",
       "2024-08-31 14:00:00  1.263374    0.182322      3.175366    14  ...   \n",
       "\n",
       "                         hour_cos  month     month_sin  month_cos  if_score  \\\n",
       "timestamp                                                                     \n",
       "2017-04-21 12:00:00 -1.000000e+00      4  8.660254e-01  -0.500000 -0.003657   \n",
       "2017-05-16 15:00:00 -7.071068e-01      5  5.000000e-01  -0.866025 -0.041979   \n",
       "2017-06-11 18:00:00 -1.836970e-16      6  1.224647e-16  -1.000000 -0.009897   \n",
       "2017-10-05 08:00:00 -5.000000e-01     10 -8.660254e-01   0.500000 -0.039168   \n",
       "2017-10-14 12:00:00 -1.000000e+00     10 -8.660254e-01   0.500000 -0.001072   \n",
       "...                           ...    ...           ...        ...       ...   \n",
       "2024-05-31 10:00:00 -8.660254e-01      5  5.000000e-01  -0.866025 -0.003920   \n",
       "2024-08-08 13:00:00 -9.659258e-01      8 -8.660254e-01  -0.500000 -0.001982   \n",
       "2024-08-15 19:00:00  2.588190e-01      8 -8.660254e-01  -0.500000 -0.043184   \n",
       "2024-08-21 13:00:00 -9.659258e-01      8 -8.660254e-01  -0.500000 -0.002526   \n",
       "2024-08-31 14:00:00 -8.660254e-01      8 -8.660254e-01  -0.500000 -0.031760   \n",
       "\n",
       "                     is_if_anomaly  used_in_lstm_training  lstm_score  \\\n",
       "timestamp                                                               \n",
       "2017-04-21 12:00:00           True                   True  132.785496   \n",
       "2017-05-16 15:00:00           True                   True  133.531221   \n",
       "2017-06-11 18:00:00           True                   True  132.287432   \n",
       "2017-10-05 08:00:00           True                   True  132.435197   \n",
       "2017-10-14 12:00:00           True                   True  132.401306   \n",
       "...                            ...                    ...         ...   \n",
       "2024-05-31 10:00:00           True                   True  132.831477   \n",
       "2024-08-08 13:00:00           True                   True  132.735536   \n",
       "2024-08-15 19:00:00           True                   True  132.648832   \n",
       "2024-08-21 13:00:00           True                   True  132.234862   \n",
       "2024-08-31 14:00:00           True                   True  133.014491   \n",
       "\n",
       "                     is_lstm_anomaly     anomaly_label  \n",
       "timestamp                                               \n",
       "2017-04-21 12:00:00             True  Compound anomaly  \n",
       "2017-05-16 15:00:00             True  Compound anomaly  \n",
       "2017-06-11 18:00:00             True  Compound anomaly  \n",
       "2017-10-05 08:00:00             True  Compound anomaly  \n",
       "2017-10-14 12:00:00             True  Compound anomaly  \n",
       "...                              ...               ...  \n",
       "2024-05-31 10:00:00             True  Compound anomaly  \n",
       "2024-08-08 13:00:00             True  Compound anomaly  \n",
       "2024-08-15 19:00:00             True  Compound anomaly  \n",
       "2024-08-21 13:00:00             True  Compound anomaly  \n",
       "2024-08-31 14:00:00             True  Compound anomaly  \n",
       "\n",
       "[63 rows x 21 columns]"
      ],
      "text/html": [
       "<div>\n",
       "<style scoped>\n",
       "    .dataframe tbody tr th:only-of-type {\n",
       "        vertical-align: middle;\n",
       "    }\n",
       "\n",
       "    .dataframe tbody tr th {\n",
       "        vertical-align: top;\n",
       "    }\n",
       "\n",
       "    .dataframe thead th {\n",
       "        text-align: right;\n",
       "    }\n",
       "</style>\n",
       "<table border=\"1\" class=\"dataframe\">\n",
       "  <thead>\n",
       "    <tr style=\"text-align: right;\">\n",
       "      <th></th>\n",
       "      <th>temperature_2m</th>\n",
       "      <th>surface_pressure</th>\n",
       "      <th>wind_speed_10m</th>\n",
       "      <th>precipitation</th>\n",
       "      <th>temperature_2m_z</th>\n",
       "      <th>surface_pressure_z</th>\n",
       "      <th>wind_r</th>\n",
       "      <th>precip_log</th>\n",
       "      <th>precip_z_12h</th>\n",
       "      <th>hour</th>\n",
       "      <th>...</th>\n",
       "      <th>hour_cos</th>\n",
       "      <th>month</th>\n",
       "      <th>month_sin</th>\n",
       "      <th>month_cos</th>\n",
       "      <th>if_score</th>\n",
       "      <th>is_if_anomaly</th>\n",
       "      <th>used_in_lstm_training</th>\n",
       "      <th>lstm_score</th>\n",
       "      <th>is_lstm_anomaly</th>\n",
       "      <th>anomaly_label</th>\n",
       "    </tr>\n",
       "    <tr>\n",
       "      <th>timestamp</th>\n",
       "      <th></th>\n",
       "      <th></th>\n",
       "      <th></th>\n",
       "      <th></th>\n",
       "      <th></th>\n",
       "      <th></th>\n",
       "      <th></th>\n",
       "      <th></th>\n",
       "      <th></th>\n",
       "      <th></th>\n",
       "      <th></th>\n",
       "      <th></th>\n",
       "      <th></th>\n",
       "      <th></th>\n",
       "      <th></th>\n",
       "      <th></th>\n",
       "      <th></th>\n",
       "      <th></th>\n",
       "      <th></th>\n",
       "      <th></th>\n",
       "      <th></th>\n",
       "    </tr>\n",
       "  </thead>\n",
       "  <tbody>\n",
       "    <tr>\n",
       "      <th>2017-04-21 12:00:00</th>\n",
       "      <td>14.8</td>\n",
       "      <td>1028.8</td>\n",
       "      <td>16.3</td>\n",
       "      <td>0.1</td>\n",
       "      <td>1.713372</td>\n",
       "      <td>1.287535</td>\n",
       "      <td>-0.129534</td>\n",
       "      <td>0.095310</td>\n",
       "      <td>3.175311</td>\n",
       "      <td>12</td>\n",
       "      <td>...</td>\n",
       "      <td>-1.000000e+00</td>\n",
       "      <td>4</td>\n",
       "      <td>8.660254e-01</td>\n",
       "      <td>-0.500000</td>\n",
       "      <td>-0.003657</td>\n",
       "      <td>True</td>\n",
       "      <td>True</td>\n",
       "      <td>132.785496</td>\n",
       "      <td>True</td>\n",
       "      <td>Compound anomaly</td>\n",
       "    </tr>\n",
       "    <tr>\n",
       "      <th>2017-05-16 15:00:00</th>\n",
       "      <td>20.9</td>\n",
       "      <td>1020.1</td>\n",
       "      <td>24.1</td>\n",
       "      <td>0.6</td>\n",
       "      <td>3.078443</td>\n",
       "      <td>0.478745</td>\n",
       "      <td>1.337232</td>\n",
       "      <td>0.470004</td>\n",
       "      <td>3.175403</td>\n",
       "      <td>15</td>\n",
       "      <td>...</td>\n",
       "      <td>-7.071068e-01</td>\n",
       "      <td>5</td>\n",
       "      <td>5.000000e-01</td>\n",
       "      <td>-0.866025</td>\n",
       "      <td>-0.041979</td>\n",
       "      <td>True</td>\n",
       "      <td>True</td>\n",
       "      <td>133.531221</td>\n",
       "      <td>True</td>\n",
       "      <td>Compound anomaly</td>\n",
       "    </tr>\n",
       "    <tr>\n",
       "      <th>2017-06-11 18:00:00</th>\n",
       "      <td>19.3</td>\n",
       "      <td>1009.0</td>\n",
       "      <td>27.9</td>\n",
       "      <td>0.1</td>\n",
       "      <td>1.524179</td>\n",
       "      <td>-0.579719</td>\n",
       "      <td>1.552759</td>\n",
       "      <td>0.095310</td>\n",
       "      <td>3.175311</td>\n",
       "      <td>18</td>\n",
       "      <td>...</td>\n",
       "      <td>-1.836970e-16</td>\n",
       "      <td>6</td>\n",
       "      <td>1.224647e-16</td>\n",
       "      <td>-1.000000</td>\n",
       "      <td>-0.009897</td>\n",
       "      <td>True</td>\n",
       "      <td>True</td>\n",
       "      <td>132.287432</td>\n",
       "      <td>True</td>\n",
       "      <td>Compound anomaly</td>\n",
       "    </tr>\n",
       "    <tr>\n",
       "      <th>2017-10-05 08:00:00</th>\n",
       "      <td>16.3</td>\n",
       "      <td>1009.7</td>\n",
       "      <td>30.4</td>\n",
       "      <td>0.1</td>\n",
       "      <td>0.391309</td>\n",
       "      <td>-0.314499</td>\n",
       "      <td>2.287937</td>\n",
       "      <td>0.095310</td>\n",
       "      <td>3.175311</td>\n",
       "      <td>8</td>\n",
       "      <td>...</td>\n",
       "      <td>-5.000000e-01</td>\n",
       "      <td>10</td>\n",
       "      <td>-8.660254e-01</td>\n",
       "      <td>0.500000</td>\n",
       "      <td>-0.039168</td>\n",
       "      <td>True</td>\n",
       "      <td>True</td>\n",
       "      <td>132.435197</td>\n",
       "      <td>True</td>\n",
       "      <td>Compound anomaly</td>\n",
       "    </tr>\n",
       "    <tr>\n",
       "      <th>2017-10-14 12:00:00</th>\n",
       "      <td>17.6</td>\n",
       "      <td>1021.8</td>\n",
       "      <td>17.1</td>\n",
       "      <td>0.1</td>\n",
       "      <td>0.899208</td>\n",
       "      <td>1.400407</td>\n",
       "      <td>0.626838</td>\n",
       "      <td>0.095310</td>\n",
       "      <td>3.175311</td>\n",
       "      <td>12</td>\n",
       "      <td>...</td>\n",
       "      <td>-1.000000e+00</td>\n",
       "      <td>10</td>\n",
       "      <td>-8.660254e-01</td>\n",
       "      <td>0.500000</td>\n",
       "      <td>-0.001072</td>\n",
       "      <td>True</td>\n",
       "      <td>True</td>\n",
       "      <td>132.401306</td>\n",
       "      <td>True</td>\n",
       "      <td>Compound anomaly</td>\n",
       "    </tr>\n",
       "    <tr>\n",
       "      <th>...</th>\n",
       "      <td>...</td>\n",
       "      <td>...</td>\n",
       "      <td>...</td>\n",
       "      <td>...</td>\n",
       "      <td>...</td>\n",
       "      <td>...</td>\n",
       "      <td>...</td>\n",
       "      <td>...</td>\n",
       "      <td>...</td>\n",
       "      <td>...</td>\n",
       "      <td>...</td>\n",
       "      <td>...</td>\n",
       "      <td>...</td>\n",
       "      <td>...</td>\n",
       "      <td>...</td>\n",
       "      <td>...</td>\n",
       "      <td>...</td>\n",
       "      <td>...</td>\n",
       "      <td>...</td>\n",
       "      <td>...</td>\n",
       "      <td>...</td>\n",
       "    </tr>\n",
       "    <tr>\n",
       "      <th>2024-05-31 10:00:00</th>\n",
       "      <td>13.8</td>\n",
       "      <td>1014.9</td>\n",
       "      <td>31.2</td>\n",
       "      <td>0.1</td>\n",
       "      <td>0.467263</td>\n",
       "      <td>0.569475</td>\n",
       "      <td>1.490456</td>\n",
       "      <td>0.095310</td>\n",
       "      <td>3.175311</td>\n",
       "      <td>10</td>\n",
       "      <td>...</td>\n",
       "      <td>-8.660254e-01</td>\n",
       "      <td>5</td>\n",
       "      <td>5.000000e-01</td>\n",
       "      <td>-0.866025</td>\n",
       "      <td>-0.003920</td>\n",
       "      <td>True</td>\n",
       "      <td>True</td>\n",
       "      <td>132.831477</td>\n",
       "      <td>True</td>\n",
       "      <td>Compound anomaly</td>\n",
       "    </tr>\n",
       "    <tr>\n",
       "      <th>2024-08-08 13:00:00</th>\n",
       "      <td>20.4</td>\n",
       "      <td>1010.8</td>\n",
       "      <td>28.0</td>\n",
       "      <td>0.1</td>\n",
       "      <td>0.763622</td>\n",
       "      <td>0.095151</td>\n",
       "      <td>1.701680</td>\n",
       "      <td>0.095310</td>\n",
       "      <td>3.175311</td>\n",
       "      <td>13</td>\n",
       "      <td>...</td>\n",
       "      <td>-9.659258e-01</td>\n",
       "      <td>8</td>\n",
       "      <td>-8.660254e-01</td>\n",
       "      <td>-0.500000</td>\n",
       "      <td>-0.001982</td>\n",
       "      <td>True</td>\n",
       "      <td>True</td>\n",
       "      <td>132.735536</td>\n",
       "      <td>True</td>\n",
       "      <td>Compound anomaly</td>\n",
       "    </tr>\n",
       "    <tr>\n",
       "      <th>2024-08-15 19:00:00</th>\n",
       "      <td>20.6</td>\n",
       "      <td>1009.4</td>\n",
       "      <td>28.5</td>\n",
       "      <td>0.1</td>\n",
       "      <td>0.626357</td>\n",
       "      <td>-0.305876</td>\n",
       "      <td>2.389439</td>\n",
       "      <td>0.095310</td>\n",
       "      <td>3.175311</td>\n",
       "      <td>19</td>\n",
       "      <td>...</td>\n",
       "      <td>2.588190e-01</td>\n",
       "      <td>8</td>\n",
       "      <td>-8.660254e-01</td>\n",
       "      <td>-0.500000</td>\n",
       "      <td>-0.043184</td>\n",
       "      <td>True</td>\n",
       "      <td>True</td>\n",
       "      <td>132.648832</td>\n",
       "      <td>True</td>\n",
       "      <td>Compound anomaly</td>\n",
       "    </tr>\n",
       "    <tr>\n",
       "      <th>2024-08-21 13:00:00</th>\n",
       "      <td>19.6</td>\n",
       "      <td>1014.6</td>\n",
       "      <td>21.0</td>\n",
       "      <td>0.1</td>\n",
       "      <td>0.348589</td>\n",
       "      <td>0.865471</td>\n",
       "      <td>1.172199</td>\n",
       "      <td>0.095310</td>\n",
       "      <td>3.175311</td>\n",
       "      <td>13</td>\n",
       "      <td>...</td>\n",
       "      <td>-9.659258e-01</td>\n",
       "      <td>8</td>\n",
       "      <td>-8.660254e-01</td>\n",
       "      <td>-0.500000</td>\n",
       "      <td>-0.002526</td>\n",
       "      <td>True</td>\n",
       "      <td>True</td>\n",
       "      <td>132.234862</td>\n",
       "      <td>True</td>\n",
       "      <td>Compound anomaly</td>\n",
       "    </tr>\n",
       "    <tr>\n",
       "      <th>2024-08-31 14:00:00</th>\n",
       "      <td>19.4</td>\n",
       "      <td>1019.1</td>\n",
       "      <td>22.7</td>\n",
       "      <td>0.2</td>\n",
       "      <td>0.363677</td>\n",
       "      <td>1.681212</td>\n",
       "      <td>1.263374</td>\n",
       "      <td>0.182322</td>\n",
       "      <td>3.175366</td>\n",
       "      <td>14</td>\n",
       "      <td>...</td>\n",
       "      <td>-8.660254e-01</td>\n",
       "      <td>8</td>\n",
       "      <td>-8.660254e-01</td>\n",
       "      <td>-0.500000</td>\n",
       "      <td>-0.031760</td>\n",
       "      <td>True</td>\n",
       "      <td>True</td>\n",
       "      <td>133.014491</td>\n",
       "      <td>True</td>\n",
       "      <td>Compound anomaly</td>\n",
       "    </tr>\n",
       "  </tbody>\n",
       "</table>\n",
       "<p>63 rows × 21 columns</p>\n",
       "</div>"
      ]
     },
     "execution_count": 260,
     "metadata": {},
     "output_type": "execute_result"
    }
   ],
   "execution_count": 260
  },
  {
   "metadata": {
    "ExecuteTime": {
     "end_time": "2025-05-21T17:40:41.891657Z",
     "start_time": "2025-05-21T17:40:41.865958Z"
    }
   },
   "cell_type": "code",
   "source": "df_train.drop(columns=['pseudo_label'], inplace = True)",
   "id": "7231bcf0ae1a4e",
   "outputs": [],
   "execution_count": 259
  },
  {
   "metadata": {
    "ExecuteTime": {
     "end_time": "2025-05-21T17:47:26.728650Z",
     "start_time": "2025-05-21T17:47:26.679456Z"
    }
   },
   "cell_type": "code",
   "source": "df_train",
   "id": "74d40b5c794fa89a",
   "outputs": [
    {
     "data": {
      "text/plain": [
       "                     temperature_2m  surface_pressure  wind_speed_10m  \\\n",
       "timestamp                                                               \n",
       "2017-02-01 00:00:00             9.6            1008.2            14.6   \n",
       "2017-02-01 01:00:00             9.6            1007.4            14.6   \n",
       "2017-02-01 02:00:00             9.9            1006.8            15.1   \n",
       "2017-02-01 03:00:00            10.0            1006.5            15.0   \n",
       "2017-02-01 04:00:00            10.2            1006.2            15.5   \n",
       "...                             ...               ...             ...   \n",
       "2025-01-31 19:00:00             7.0            1023.1             5.8   \n",
       "2025-01-31 20:00:00             6.2            1023.9             4.4   \n",
       "2025-01-31 21:00:00             6.2            1024.6             5.1   \n",
       "2025-01-31 22:00:00             5.8            1024.9             6.4   \n",
       "2025-01-31 23:00:00             5.0            1025.4             5.1   \n",
       "\n",
       "                     precipitation  temperature_2m_z  surface_pressure_z  \\\n",
       "timestamp                                                                  \n",
       "2017-02-01 00:00:00            0.0               NaN                 NaN   \n",
       "2017-02-01 01:00:00            0.0               NaN                 NaN   \n",
       "2017-02-01 02:00:00            0.6               NaN                 NaN   \n",
       "2017-02-01 03:00:00            0.3               NaN                 NaN   \n",
       "2017-02-01 04:00:00            0.3               NaN                 NaN   \n",
       "...                            ...               ...                 ...   \n",
       "2025-01-31 19:00:00            0.1          0.414627            0.571315   \n",
       "2025-01-31 20:00:00            0.2          0.188504            0.623225   \n",
       "2025-01-31 21:00:00            0.0          0.188799            0.668556   \n",
       "2025-01-31 22:00:00            0.0          0.075974            0.687649   \n",
       "2025-01-31 23:00:00            0.0         -0.149979            0.719843   \n",
       "\n",
       "                       wind_r  precip_log  precip_z_12h  hour  ...  hour_cos  \\\n",
       "timestamp                                                      ...             \n",
       "2017-02-01 00:00:00       NaN    0.000000           NaN     0  ...  1.000000   \n",
       "2017-02-01 01:00:00       NaN    0.000000           NaN     1  ...  0.965926   \n",
       "2017-02-01 02:00:00       NaN    0.470004           NaN     2  ...  0.866025   \n",
       "2017-02-01 03:00:00       NaN    0.262364           NaN     3  ...  0.707107   \n",
       "2017-02-01 04:00:00       NaN    0.262364           NaN     4  ...  0.500000   \n",
       "...                       ...         ...           ...   ...  ...       ...   \n",
       "2025-01-31 19:00:00 -0.411318    0.095310     -0.188113    19  ...  0.258819   \n",
       "2025-01-31 20:00:00 -0.403037    0.182322      0.854362    20  ...  0.500000   \n",
       "2025-01-31 21:00:00 -0.415172    0.000000     -0.596637    21  ...  0.707107   \n",
       "2025-01-31 22:00:00 -0.395045    0.000000     -0.516542    22  ...  0.866025   \n",
       "2025-01-31 23:00:00 -0.374140    0.000000     -0.516542    23  ...  0.965926   \n",
       "\n",
       "                     month  month_sin  month_cos  if_score  is_if_anomaly  \\\n",
       "timestamp                                                                   \n",
       "2017-02-01 00:00:00      2   0.866025   0.500000       NaN          False   \n",
       "2017-02-01 01:00:00      2   0.866025   0.500000       NaN          False   \n",
       "2017-02-01 02:00:00      2   0.866025   0.500000       NaN          False   \n",
       "2017-02-01 03:00:00      2   0.866025   0.500000       NaN          False   \n",
       "2017-02-01 04:00:00      2   0.866025   0.500000       NaN          False   \n",
       "...                    ...        ...        ...       ...            ...   \n",
       "2025-01-31 19:00:00      1   0.500000   0.866025  0.218916          False   \n",
       "2025-01-31 20:00:00      1   0.500000   0.866025  0.165153          False   \n",
       "2025-01-31 21:00:00      1   0.500000   0.866025  0.202102          False   \n",
       "2025-01-31 22:00:00      1   0.500000   0.866025  0.215779          False   \n",
       "2025-01-31 23:00:00      1   0.500000   0.866025  0.215027          False   \n",
       "\n",
       "                     used_in_lstm_training  lstm_score  is_lstm_anomaly  \\\n",
       "timestamp                                                                 \n",
       "2017-02-01 00:00:00                  False         NaN            False   \n",
       "2017-02-01 01:00:00                  False         NaN            False   \n",
       "2017-02-01 02:00:00                  False         NaN            False   \n",
       "2017-02-01 03:00:00                  False         NaN            False   \n",
       "2017-02-01 04:00:00                  False         NaN            False   \n",
       "...                                    ...         ...              ...   \n",
       "2025-01-31 19:00:00                  False  129.817267            False   \n",
       "2025-01-31 20:00:00                  False  129.672586            False   \n",
       "2025-01-31 21:00:00                  False  129.833333            False   \n",
       "2025-01-31 22:00:00                  False  129.977266            False   \n",
       "2025-01-31 23:00:00                  False  129.759716            False   \n",
       "\n",
       "                     anomaly_label  \n",
       "timestamp                           \n",
       "2017-02-01 00:00:00         Normal  \n",
       "2017-02-01 01:00:00         Normal  \n",
       "2017-02-01 02:00:00         Normal  \n",
       "2017-02-01 03:00:00         Normal  \n",
       "2017-02-01 04:00:00         Normal  \n",
       "...                            ...  \n",
       "2025-01-31 19:00:00         Normal  \n",
       "2025-01-31 20:00:00         Normal  \n",
       "2025-01-31 21:00:00         Normal  \n",
       "2025-01-31 22:00:00         Normal  \n",
       "2025-01-31 23:00:00         Normal  \n",
       "\n",
       "[70128 rows x 21 columns]"
      ],
      "text/html": [
       "<div>\n",
       "<style scoped>\n",
       "    .dataframe tbody tr th:only-of-type {\n",
       "        vertical-align: middle;\n",
       "    }\n",
       "\n",
       "    .dataframe tbody tr th {\n",
       "        vertical-align: top;\n",
       "    }\n",
       "\n",
       "    .dataframe thead th {\n",
       "        text-align: right;\n",
       "    }\n",
       "</style>\n",
       "<table border=\"1\" class=\"dataframe\">\n",
       "  <thead>\n",
       "    <tr style=\"text-align: right;\">\n",
       "      <th></th>\n",
       "      <th>temperature_2m</th>\n",
       "      <th>surface_pressure</th>\n",
       "      <th>wind_speed_10m</th>\n",
       "      <th>precipitation</th>\n",
       "      <th>temperature_2m_z</th>\n",
       "      <th>surface_pressure_z</th>\n",
       "      <th>wind_r</th>\n",
       "      <th>precip_log</th>\n",
       "      <th>precip_z_12h</th>\n",
       "      <th>hour</th>\n",
       "      <th>...</th>\n",
       "      <th>hour_cos</th>\n",
       "      <th>month</th>\n",
       "      <th>month_sin</th>\n",
       "      <th>month_cos</th>\n",
       "      <th>if_score</th>\n",
       "      <th>is_if_anomaly</th>\n",
       "      <th>used_in_lstm_training</th>\n",
       "      <th>lstm_score</th>\n",
       "      <th>is_lstm_anomaly</th>\n",
       "      <th>anomaly_label</th>\n",
       "    </tr>\n",
       "    <tr>\n",
       "      <th>timestamp</th>\n",
       "      <th></th>\n",
       "      <th></th>\n",
       "      <th></th>\n",
       "      <th></th>\n",
       "      <th></th>\n",
       "      <th></th>\n",
       "      <th></th>\n",
       "      <th></th>\n",
       "      <th></th>\n",
       "      <th></th>\n",
       "      <th></th>\n",
       "      <th></th>\n",
       "      <th></th>\n",
       "      <th></th>\n",
       "      <th></th>\n",
       "      <th></th>\n",
       "      <th></th>\n",
       "      <th></th>\n",
       "      <th></th>\n",
       "      <th></th>\n",
       "      <th></th>\n",
       "    </tr>\n",
       "  </thead>\n",
       "  <tbody>\n",
       "    <tr>\n",
       "      <th>2017-02-01 00:00:00</th>\n",
       "      <td>9.6</td>\n",
       "      <td>1008.2</td>\n",
       "      <td>14.6</td>\n",
       "      <td>0.0</td>\n",
       "      <td>NaN</td>\n",
       "      <td>NaN</td>\n",
       "      <td>NaN</td>\n",
       "      <td>0.000000</td>\n",
       "      <td>NaN</td>\n",
       "      <td>0</td>\n",
       "      <td>...</td>\n",
       "      <td>1.000000</td>\n",
       "      <td>2</td>\n",
       "      <td>0.866025</td>\n",
       "      <td>0.500000</td>\n",
       "      <td>NaN</td>\n",
       "      <td>False</td>\n",
       "      <td>False</td>\n",
       "      <td>NaN</td>\n",
       "      <td>False</td>\n",
       "      <td>Normal</td>\n",
       "    </tr>\n",
       "    <tr>\n",
       "      <th>2017-02-01 01:00:00</th>\n",
       "      <td>9.6</td>\n",
       "      <td>1007.4</td>\n",
       "      <td>14.6</td>\n",
       "      <td>0.0</td>\n",
       "      <td>NaN</td>\n",
       "      <td>NaN</td>\n",
       "      <td>NaN</td>\n",
       "      <td>0.000000</td>\n",
       "      <td>NaN</td>\n",
       "      <td>1</td>\n",
       "      <td>...</td>\n",
       "      <td>0.965926</td>\n",
       "      <td>2</td>\n",
       "      <td>0.866025</td>\n",
       "      <td>0.500000</td>\n",
       "      <td>NaN</td>\n",
       "      <td>False</td>\n",
       "      <td>False</td>\n",
       "      <td>NaN</td>\n",
       "      <td>False</td>\n",
       "      <td>Normal</td>\n",
       "    </tr>\n",
       "    <tr>\n",
       "      <th>2017-02-01 02:00:00</th>\n",
       "      <td>9.9</td>\n",
       "      <td>1006.8</td>\n",
       "      <td>15.1</td>\n",
       "      <td>0.6</td>\n",
       "      <td>NaN</td>\n",
       "      <td>NaN</td>\n",
       "      <td>NaN</td>\n",
       "      <td>0.470004</td>\n",
       "      <td>NaN</td>\n",
       "      <td>2</td>\n",
       "      <td>...</td>\n",
       "      <td>0.866025</td>\n",
       "      <td>2</td>\n",
       "      <td>0.866025</td>\n",
       "      <td>0.500000</td>\n",
       "      <td>NaN</td>\n",
       "      <td>False</td>\n",
       "      <td>False</td>\n",
       "      <td>NaN</td>\n",
       "      <td>False</td>\n",
       "      <td>Normal</td>\n",
       "    </tr>\n",
       "    <tr>\n",
       "      <th>2017-02-01 03:00:00</th>\n",
       "      <td>10.0</td>\n",
       "      <td>1006.5</td>\n",
       "      <td>15.0</td>\n",
       "      <td>0.3</td>\n",
       "      <td>NaN</td>\n",
       "      <td>NaN</td>\n",
       "      <td>NaN</td>\n",
       "      <td>0.262364</td>\n",
       "      <td>NaN</td>\n",
       "      <td>3</td>\n",
       "      <td>...</td>\n",
       "      <td>0.707107</td>\n",
       "      <td>2</td>\n",
       "      <td>0.866025</td>\n",
       "      <td>0.500000</td>\n",
       "      <td>NaN</td>\n",
       "      <td>False</td>\n",
       "      <td>False</td>\n",
       "      <td>NaN</td>\n",
       "      <td>False</td>\n",
       "      <td>Normal</td>\n",
       "    </tr>\n",
       "    <tr>\n",
       "      <th>2017-02-01 04:00:00</th>\n",
       "      <td>10.2</td>\n",
       "      <td>1006.2</td>\n",
       "      <td>15.5</td>\n",
       "      <td>0.3</td>\n",
       "      <td>NaN</td>\n",
       "      <td>NaN</td>\n",
       "      <td>NaN</td>\n",
       "      <td>0.262364</td>\n",
       "      <td>NaN</td>\n",
       "      <td>4</td>\n",
       "      <td>...</td>\n",
       "      <td>0.500000</td>\n",
       "      <td>2</td>\n",
       "      <td>0.866025</td>\n",
       "      <td>0.500000</td>\n",
       "      <td>NaN</td>\n",
       "      <td>False</td>\n",
       "      <td>False</td>\n",
       "      <td>NaN</td>\n",
       "      <td>False</td>\n",
       "      <td>Normal</td>\n",
       "    </tr>\n",
       "    <tr>\n",
       "      <th>...</th>\n",
       "      <td>...</td>\n",
       "      <td>...</td>\n",
       "      <td>...</td>\n",
       "      <td>...</td>\n",
       "      <td>...</td>\n",
       "      <td>...</td>\n",
       "      <td>...</td>\n",
       "      <td>...</td>\n",
       "      <td>...</td>\n",
       "      <td>...</td>\n",
       "      <td>...</td>\n",
       "      <td>...</td>\n",
       "      <td>...</td>\n",
       "      <td>...</td>\n",
       "      <td>...</td>\n",
       "      <td>...</td>\n",
       "      <td>...</td>\n",
       "      <td>...</td>\n",
       "      <td>...</td>\n",
       "      <td>...</td>\n",
       "      <td>...</td>\n",
       "    </tr>\n",
       "    <tr>\n",
       "      <th>2025-01-31 19:00:00</th>\n",
       "      <td>7.0</td>\n",
       "      <td>1023.1</td>\n",
       "      <td>5.8</td>\n",
       "      <td>0.1</td>\n",
       "      <td>0.414627</td>\n",
       "      <td>0.571315</td>\n",
       "      <td>-0.411318</td>\n",
       "      <td>0.095310</td>\n",
       "      <td>-0.188113</td>\n",
       "      <td>19</td>\n",
       "      <td>...</td>\n",
       "      <td>0.258819</td>\n",
       "      <td>1</td>\n",
       "      <td>0.500000</td>\n",
       "      <td>0.866025</td>\n",
       "      <td>0.218916</td>\n",
       "      <td>False</td>\n",
       "      <td>False</td>\n",
       "      <td>129.817267</td>\n",
       "      <td>False</td>\n",
       "      <td>Normal</td>\n",
       "    </tr>\n",
       "    <tr>\n",
       "      <th>2025-01-31 20:00:00</th>\n",
       "      <td>6.2</td>\n",
       "      <td>1023.9</td>\n",
       "      <td>4.4</td>\n",
       "      <td>0.2</td>\n",
       "      <td>0.188504</td>\n",
       "      <td>0.623225</td>\n",
       "      <td>-0.403037</td>\n",
       "      <td>0.182322</td>\n",
       "      <td>0.854362</td>\n",
       "      <td>20</td>\n",
       "      <td>...</td>\n",
       "      <td>0.500000</td>\n",
       "      <td>1</td>\n",
       "      <td>0.500000</td>\n",
       "      <td>0.866025</td>\n",
       "      <td>0.165153</td>\n",
       "      <td>False</td>\n",
       "      <td>False</td>\n",
       "      <td>129.672586</td>\n",
       "      <td>False</td>\n",
       "      <td>Normal</td>\n",
       "    </tr>\n",
       "    <tr>\n",
       "      <th>2025-01-31 21:00:00</th>\n",
       "      <td>6.2</td>\n",
       "      <td>1024.6</td>\n",
       "      <td>5.1</td>\n",
       "      <td>0.0</td>\n",
       "      <td>0.188799</td>\n",
       "      <td>0.668556</td>\n",
       "      <td>-0.415172</td>\n",
       "      <td>0.000000</td>\n",
       "      <td>-0.596637</td>\n",
       "      <td>21</td>\n",
       "      <td>...</td>\n",
       "      <td>0.707107</td>\n",
       "      <td>1</td>\n",
       "      <td>0.500000</td>\n",
       "      <td>0.866025</td>\n",
       "      <td>0.202102</td>\n",
       "      <td>False</td>\n",
       "      <td>False</td>\n",
       "      <td>129.833333</td>\n",
       "      <td>False</td>\n",
       "      <td>Normal</td>\n",
       "    </tr>\n",
       "    <tr>\n",
       "      <th>2025-01-31 22:00:00</th>\n",
       "      <td>5.8</td>\n",
       "      <td>1024.9</td>\n",
       "      <td>6.4</td>\n",
       "      <td>0.0</td>\n",
       "      <td>0.075974</td>\n",
       "      <td>0.687649</td>\n",
       "      <td>-0.395045</td>\n",
       "      <td>0.000000</td>\n",
       "      <td>-0.516542</td>\n",
       "      <td>22</td>\n",
       "      <td>...</td>\n",
       "      <td>0.866025</td>\n",
       "      <td>1</td>\n",
       "      <td>0.500000</td>\n",
       "      <td>0.866025</td>\n",
       "      <td>0.215779</td>\n",
       "      <td>False</td>\n",
       "      <td>False</td>\n",
       "      <td>129.977266</td>\n",
       "      <td>False</td>\n",
       "      <td>Normal</td>\n",
       "    </tr>\n",
       "    <tr>\n",
       "      <th>2025-01-31 23:00:00</th>\n",
       "      <td>5.0</td>\n",
       "      <td>1025.4</td>\n",
       "      <td>5.1</td>\n",
       "      <td>0.0</td>\n",
       "      <td>-0.149979</td>\n",
       "      <td>0.719843</td>\n",
       "      <td>-0.374140</td>\n",
       "      <td>0.000000</td>\n",
       "      <td>-0.516542</td>\n",
       "      <td>23</td>\n",
       "      <td>...</td>\n",
       "      <td>0.965926</td>\n",
       "      <td>1</td>\n",
       "      <td>0.500000</td>\n",
       "      <td>0.866025</td>\n",
       "      <td>0.215027</td>\n",
       "      <td>False</td>\n",
       "      <td>False</td>\n",
       "      <td>129.759716</td>\n",
       "      <td>False</td>\n",
       "      <td>Normal</td>\n",
       "    </tr>\n",
       "  </tbody>\n",
       "</table>\n",
       "<p>70128 rows × 21 columns</p>\n",
       "</div>"
      ]
     },
     "execution_count": 268,
     "metadata": {},
     "output_type": "execute_result"
    }
   ],
   "execution_count": 268
  },
  {
   "metadata": {},
   "cell_type": "code",
   "outputs": [],
   "execution_count": null,
   "source": "",
   "id": "a03a6c3bc9806d37"
  }
 ],
 "metadata": {
  "kernelspec": {
   "display_name": "Python 3",
   "language": "python",
   "name": "python3"
  },
  "language_info": {
   "codemirror_mode": {
    "name": "ipython",
    "version": 2
   },
   "file_extension": ".py",
   "mimetype": "text/x-python",
   "name": "python",
   "nbconvert_exporter": "python",
   "pygments_lexer": "ipython2",
   "version": "2.7.6"
  }
 },
 "nbformat": 4,
 "nbformat_minor": 5
}
