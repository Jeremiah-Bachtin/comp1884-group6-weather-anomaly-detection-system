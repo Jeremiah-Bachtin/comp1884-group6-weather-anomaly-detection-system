{
 "cells": [
  {
   "metadata": {
    "ExecuteTime": {
     "end_time": "2025-04-30T19:08:53.937165Z",
     "start_time": "2025-04-30T19:08:53.932185Z"
    }
   },
   "cell_type": "code",
   "source": "## Use this notebook for ETL and Machine Learning Workflows",
   "id": "f4e7cc83ccaee318",
   "outputs": [],
   "execution_count": 1
  },
  {
   "metadata": {},
   "cell_type": "code",
   "outputs": [],
   "execution_count": null,
   "source": "",
   "id": "60624a242a793999"
  }
 ],
 "metadata": {},
 "nbformat": 4,
 "nbformat_minor": 5
}
