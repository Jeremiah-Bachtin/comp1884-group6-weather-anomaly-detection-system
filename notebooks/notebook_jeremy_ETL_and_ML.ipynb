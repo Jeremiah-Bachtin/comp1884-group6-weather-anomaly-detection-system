{
  "cells": [
    {
      "metadata": {
        "ExecuteTime": {
          "end_time": "2025-04-30T19:08:53.937165Z",
          "start_time": "2025-04-30T19:08:53.932185Z"
        },
        "id": "f4e7cc83ccaee318"
      },
      "cell_type": "code",
      "source": [
        "## Use this notebook for ETL and Machine Learning Workflows"
      ],
      "id": "f4e7cc83ccaee318",
      "outputs": [],
      "execution_count": null
    },
    {
      "metadata": {
        "id": "60624a242a793999",
        "outputId": "8fc9de0c-1a56-4f32-f400-97f98b998a3e",
        "colab": {
          "base_uri": "https://localhost:8080/"
        }
      },
      "cell_type": "code",
      "outputs": [
        {
          "output_type": "stream",
          "name": "stdout",
          "text": [
            "Hello World!\n"
          ]
        }
      ],
      "execution_count": null,
      "source": [
        "print(\"Hello World!\")"
      ],
      "id": "60624a242a793999"
    },
    {
      "cell_type": "code",
      "source": [
        "print(\"This is a test!\")"
      ],
      "metadata": {
        "id": "c8F410tOK0Hv",
        "outputId": "75370e90-b548-483a-9f7c-cd428258959c",
        "colab": {
          "base_uri": "https://localhost:8080/"
        }
      },
      "id": "c8F410tOK0Hv",
      "execution_count": 1,
      "outputs": [
        {
          "output_type": "stream",
          "name": "stdout",
          "text": [
            "This is a test!\n"
          ]
        }
      ]
    },
    {
      "cell_type": "code",
      "source": [],
      "metadata": {
        "id": "CVKtEVfy8yeK"
      },
      "id": "CVKtEVfy8yeK",
      "execution_count": null,
      "outputs": []
    }
  ],
  "metadata": {
    "colab": {
      "provenance": []
    },
    "language_info": {
      "name": "python"
    },
    "kernelspec": {
      "name": "python3",
      "display_name": "Python 3"
    }
  },
  "nbformat": 4,
  "nbformat_minor": 5
}